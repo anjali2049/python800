{
  "cells": [
    {
      "cell_type": "code",
      "execution_count": null,
      "id": "67487bca-5b9d-484f-a102-130e96b26d3d",
      "metadata": {
        "id": "67487bca-5b9d-484f-a102-130e96b26d3d",
        "outputId": "adfb64ef-5049-4d4d-a9c7-ff724de84b46"
      },
      "outputs": [
        {
          "name": "stdout",
          "output_type": "stream",
          "text": [
            "6\n"
          ]
        }
      ],
      "source": [
        "x = 1 # x=> variable ho jasle integer\n",
        "y = 5 # x=> variable ho jasle integer datatype store gari rako xa\n",
        "\n",
        "sum = x + y # integer\n",
        "\n",
        "print(sum)"
      ]
    },
    {
      "cell_type": "code",
      "execution_count": null,
      "id": "7bbab297-eba7-4793-86bd-c2d2d788a975",
      "metadata": {
        "id": "7bbab297-eba7-4793-86bd-c2d2d788a975",
        "outputId": "1caccaaf-431d-4cd1-f402-f6708b5ebdb7"
      },
      "outputs": [
        {
          "name": "stdout",
          "output_type": "stream",
          "text": [
            "7.5\n"
          ]
        }
      ],
      "source": [
        "x = 5.5 # float\n",
        "y = 2 # integer\n",
        "\n",
        "sum = x + y # float\n",
        "\n",
        "print(sum)"
      ]
    },
    {
      "cell_type": "code",
      "execution_count": null,
      "id": "d3c28a8a-9496-4ff2-abd0-ff2998f71453",
      "metadata": {
        "id": "d3c28a8a-9496-4ff2-abd0-ff2998f71453",
        "outputId": "4382b324-ff0b-4f95-e3c2-852037b0adf5"
      },
      "outputs": [
        {
          "ename": "SyntaxError",
          "evalue": "expected ':' (1267085572.py, line 1)",
          "output_type": "error",
          "traceback": [
            "\u001b[0;36m  Cell \u001b[0;32mIn[3], line 1\u001b[0;36m\u001b[0m\n\u001b[0;31m    try = 7\u001b[0m\n\u001b[0m        ^\u001b[0m\n\u001b[0;31mSyntaxError\u001b[0m\u001b[0;31m:\u001b[0m expected ':'\n"
          ]
        }
      ],
      "source": [
        "try = 7"
      ]
    },
    {
      "cell_type": "code",
      "execution_count": null,
      "id": "fead5469-f26c-4e03-bac1-f19299b71518",
      "metadata": {
        "id": "fead5469-f26c-4e03-bac1-f19299b71518"
      },
      "outputs": [],
      "source": [
        "xyz = 7"
      ]
    },
    {
      "cell_type": "code",
      "execution_count": null,
      "id": "32ef2d75-d3e6-4fe9-a1a8-7b9129ba4197",
      "metadata": {
        "id": "32ef2d75-d3e6-4fe9-a1a8-7b9129ba4197",
        "outputId": "2ec7212a-9a39-4965-c453-209db142ab81"
      },
      "outputs": [
        {
          "ename": "SyntaxError",
          "evalue": "invalid syntax (1630575255.py, line 1)",
          "output_type": "error",
          "traceback": [
            "\u001b[0;36m  Cell \u001b[0;32mIn[5], line 1\u001b[0;36m\u001b[0m\n\u001b[0;31m    del = ram\u001b[0m\n\u001b[0m        ^\u001b[0m\n\u001b[0;31mSyntaxError\u001b[0m\u001b[0;31m:\u001b[0m invalid syntax\n"
          ]
        }
      ],
      "source": [
        "del = ram"
      ]
    },
    {
      "cell_type": "code",
      "execution_count": null,
      "id": "0209addd-dd53-4e6e-ad95-3e0806ef82bd",
      "metadata": {
        "id": "0209addd-dd53-4e6e-ad95-3e0806ef82bd"
      },
      "outputs": [],
      "source": [
        "Try = 7"
      ]
    },
    {
      "cell_type": "code",
      "execution_count": null,
      "id": "434fecb2-ae6c-4be5-bd28-ae1364fbb144",
      "metadata": {
        "id": "434fecb2-ae6c-4be5-bd28-ae1364fbb144"
      },
      "outputs": [],
      "source": [
        "name = 'ram'"
      ]
    },
    {
      "cell_type": "code",
      "execution_count": null,
      "id": "9d6f3120-740e-43e2-bda6-368efb76d2d8",
      "metadata": {
        "id": "9d6f3120-740e-43e2-bda6-368efb76d2d8"
      },
      "outputs": [],
      "source": [
        "NAME = 'ram'"
      ]
    },
    {
      "cell_type": "code",
      "execution_count": null,
      "id": "38eced30-5ead-429a-885b-1989844086df",
      "metadata": {
        "id": "38eced30-5ead-429a-885b-1989844086df"
      },
      "outputs": [],
      "source": [
        "_Hello = 'ram'"
      ]
    },
    {
      "cell_type": "code",
      "execution_count": null,
      "id": "919a564e-7f53-4486-976a-50643b04d4b2",
      "metadata": {
        "id": "919a564e-7f53-4486-976a-50643b04d4b2",
        "outputId": "8d222136-dcf7-41d2-b07f-fe2e2ceac268"
      },
      "outputs": [
        {
          "name": "stdout",
          "output_type": "stream",
          "text": [
            "ram\n"
          ]
        }
      ],
      "source": [
        "print(_Hello)"
      ]
    },
    {
      "cell_type": "code",
      "execution_count": null,
      "id": "c4a69b28-9768-4601-bea3-443b1e019ad9",
      "metadata": {
        "id": "c4a69b28-9768-4601-bea3-443b1e019ad9",
        "outputId": "6b464296-0eee-4855-8fbe-8c80c5ed1356"
      },
      "outputs": [
        {
          "ename": "SyntaxError",
          "evalue": "cannot assign to expression here. Maybe you meant '==' instead of '='? (2409475449.py, line 1)",
          "output_type": "error",
          "traceback": [
            "\u001b[0;36m  Cell \u001b[0;32mIn[11], line 1\u001b[0;36m\u001b[0m\n\u001b[0;31m    ra@m = '78'\u001b[0m\n\u001b[0m    ^\u001b[0m\n\u001b[0;31mSyntaxError\u001b[0m\u001b[0;31m:\u001b[0m cannot assign to expression here. Maybe you meant '==' instead of '='?\n"
          ]
        }
      ],
      "source": [
        "ra@m = '78'"
      ]
    },
    {
      "cell_type": "code",
      "execution_count": null,
      "id": "49227092-9a45-4a40-a5ea-75ab0070a594",
      "metadata": {
        "id": "49227092-9a45-4a40-a5ea-75ab0070a594",
        "outputId": "62fdd26a-0281-45ac-c17b-bb8a8f88a99e"
      },
      "outputs": [
        {
          "ename": "SyntaxError",
          "evalue": "invalid syntax (455445857.py, line 1)",
          "output_type": "error",
          "traceback": [
            "\u001b[0;36m  Cell \u001b[0;32mIn[12], line 1\u001b[0;36m\u001b[0m\n\u001b[0;31m    gravity of earth = 9.8\u001b[0m\n\u001b[0m            ^\u001b[0m\n\u001b[0;31mSyntaxError\u001b[0m\u001b[0;31m:\u001b[0m invalid syntax\n"
          ]
        }
      ],
      "source": [
        "gravity of earth = 9.8"
      ]
    },
    {
      "cell_type": "code",
      "execution_count": null,
      "id": "b3b2664d-6e66-471a-8852-55d3a161d3c1",
      "metadata": {
        "id": "b3b2664d-6e66-471a-8852-55d3a161d3c1"
      },
      "outputs": [],
      "source": [
        "___ram___ = 'ram'"
      ]
    },
    {
      "cell_type": "code",
      "execution_count": null,
      "id": "0666bb04-2d26-4f66-96db-0e86722a2040",
      "metadata": {
        "id": "0666bb04-2d26-4f66-96db-0e86722a2040"
      },
      "outputs": [],
      "source": [
        "fadskfjdslk_dsfasdfkjds_asdfjk_ = 87"
      ]
    },
    {
      "cell_type": "code",
      "execution_count": null,
      "id": "cd346897-81b5-44a2-aad2-cdf6f9a38941",
      "metadata": {
        "id": "cd346897-81b5-44a2-aad2-cdf6f9a38941"
      },
      "outputs": [],
      "source": [
        "asdfhkadsjhfadksj_dsfdsf_ = 9.8"
      ]
    },
    {
      "cell_type": "code",
      "execution_count": null,
      "id": "c646c0a4-e77a-4c1d-9036-54243ba29af2",
      "metadata": {
        "id": "c646c0a4-e77a-4c1d-9036-54243ba29af2"
      },
      "outputs": [],
      "source": [
        "xyz = 9.8"
      ]
    },
    {
      "cell_type": "code",
      "execution_count": null,
      "id": "1195d539-2100-436f-a827-1f94a71d9b87",
      "metadata": {
        "id": "1195d539-2100-436f-a827-1f94a71d9b87"
      },
      "outputs": [],
      "source": [
        "gravity = 9.8"
      ]
    },
    {
      "cell_type": "code",
      "execution_count": null,
      "id": "7a57f5ca-0921-4282-8542-094583bf1a3e",
      "metadata": {
        "id": "7a57f5ca-0921-4282-8542-094583bf1a3e"
      },
      "outputs": [],
      "source": [
        "g = 9.8"
      ]
    },
    {
      "cell_type": "code",
      "execution_count": null,
      "id": "6ab6e1f4-8ca1-4169-b3ed-abbf14521875",
      "metadata": {
        "id": "6ab6e1f4-8ca1-4169-b3ed-abbf14521875"
      },
      "outputs": [],
      "source": [
        "gravity_earth = 9.8"
      ]
    },
    {
      "cell_type": "code",
      "execution_count": null,
      "id": "771444ed-a681-4d92-8d1b-b8db443468b3",
      "metadata": {
        "id": "771444ed-a681-4d92-8d1b-b8db443468b3"
      },
      "outputs": [],
      "source": [
        "x = 1 + 2 + 3 + 4 + 5 + 7 +1 + 2 + 3 + 4 + 5 + 7 +1 + 2 + 3 + 4 + 5 + 7 +1 + 2 + 3 + 4 + 5 + 7 +1 + 2 + 3 + 4 + 5 + 7 +1 + 2 + 3 + 4 + 5 + 7"
      ]
    },
    {
      "cell_type": "code",
      "execution_count": null,
      "id": "10ed292c-1616-49a6-82fd-1872e902cee4",
      "metadata": {
        "id": "10ed292c-1616-49a6-82fd-1872e902cee4",
        "outputId": "737e3553-7915-4088-8844-142f0901072a"
      },
      "outputs": [
        {
          "name": "stdout",
          "output_type": "stream",
          "text": [
            "132\n"
          ]
        }
      ],
      "source": [
        "print(x)"
      ]
    },
    {
      "cell_type": "code",
      "execution_count": null,
      "id": "ebd031b0-5a68-4506-92d3-44e531f3427a",
      "metadata": {
        "id": "ebd031b0-5a68-4506-92d3-44e531f3427a"
      },
      "outputs": [],
      "source": [
        "x = (1 + 2 + 3 + 4 + 5\n",
        "+ 7 +1 + 2 + 3 +\n",
        "     4 + 5 + 7+1 + 2 +\n",
        "    3 + 4 + 5 + 7 +1 + 2 + 3 + 4 + 5 + 7 +1 + 2 + 3 +\n",
        "     4 + 5 + 7 +1 + 2 + 3 + 4 + 5 + 7 )"
      ]
    },
    {
      "cell_type": "code",
      "execution_count": null,
      "id": "e6792c57-2d22-4853-ac9d-ebf2504afda5",
      "metadata": {
        "id": "e6792c57-2d22-4853-ac9d-ebf2504afda5",
        "outputId": "9da38381-5959-4fa2-cab3-2b5212695280"
      },
      "outputs": [
        {
          "name": "stdout",
          "output_type": "stream",
          "text": [
            "132\n"
          ]
        }
      ],
      "source": [
        "print(x)"
      ]
    },
    {
      "cell_type": "code",
      "execution_count": null,
      "id": "935dbb11-c16f-46a2-be2e-cac1371ef99b",
      "metadata": {
        "id": "935dbb11-c16f-46a2-be2e-cac1371ef99b"
      },
      "outputs": [],
      "source": [
        "a = 1\n",
        "b = 2\n",
        "c = 3"
      ]
    },
    {
      "cell_type": "code",
      "execution_count": null,
      "id": "f2cfb367-bc6a-4500-8883-ea510fcc4380",
      "metadata": {
        "id": "f2cfb367-bc6a-4500-8883-ea510fcc4380",
        "outputId": "9f8b633a-ff60-4eca-ed8e-9cf802749cc8"
      },
      "outputs": [
        {
          "name": "stdout",
          "output_type": "stream",
          "text": [
            "1 2 3\n"
          ]
        }
      ],
      "source": [
        "a = 1 ; b = 2; c = 3;\n",
        "\n",
        "print(a,b,c)"
      ]
    },
    {
      "cell_type": "code",
      "execution_count": null,
      "id": "75ed7ff5-68f8-47ff-8b9e-de4f054546de",
      "metadata": {
        "id": "75ed7ff5-68f8-47ff-8b9e-de4f054546de"
      },
      "outputs": [],
      "source": [
        "a = 2\n",
        "b = 2\n",
        "c = 2"
      ]
    },
    {
      "cell_type": "code",
      "execution_count": null,
      "id": "73ac7412-6fbe-4b14-a13f-3edf2c129e48",
      "metadata": {
        "id": "73ac7412-6fbe-4b14-a13f-3edf2c129e48",
        "outputId": "e9f78085-42ec-4459-c808-784fb69a5c10"
      },
      "outputs": [
        {
          "name": "stdout",
          "output_type": "stream",
          "text": [
            "2 2 2\n"
          ]
        }
      ],
      "source": [
        "a = b= c = 2\n",
        "\n",
        "print(a,b,c)"
      ]
    },
    {
      "cell_type": "code",
      "execution_count": null,
      "id": "e8519f64-b072-4c37-8733-6ba55d6c427c",
      "metadata": {
        "id": "e8519f64-b072-4c37-8733-6ba55d6c427c",
        "outputId": "5815a14b-f0c9-4d7d-93e6-044847894242"
      },
      "outputs": [
        {
          "name": "stdout",
          "output_type": "stream",
          "text": [
            "Unauthorized\n"
          ]
        }
      ],
      "source": [
        "age = 17\n",
        "\n",
        "if age < 18:\n",
        "    print(\"Unauthorized\") # indentation"
      ]
    },
    {
      "cell_type": "code",
      "execution_count": null,
      "id": "a1bb24f4-dda0-41ce-92a0-0c4905c81596",
      "metadata": {
        "id": "a1bb24f4-dda0-41ce-92a0-0c4905c81596",
        "outputId": "6ef08f92-0a1f-4cd7-be0a-c70be8ade035"
      },
      "outputs": [
        {
          "ename": "IndentationError",
          "evalue": "expected an indented block after 'if' statement on line 3 (3518112371.py, line 4)",
          "output_type": "error",
          "traceback": [
            "\u001b[0;36m  Cell \u001b[0;32mIn[37], line 4\u001b[0;36m\u001b[0m\n\u001b[0;31m    print(\"Unauthorized\") # indentation\u001b[0m\n\u001b[0m    ^\u001b[0m\n\u001b[0;31mIndentationError\u001b[0m\u001b[0;31m:\u001b[0m expected an indented block after 'if' statement on line 3\n"
          ]
        }
      ],
      "source": [
        "age = 17\n",
        "\n",
        "if age < 18:\n",
        "print(\"Unauthorized\") # indentation"
      ]
    },
    {
      "cell_type": "code",
      "execution_count": null,
      "id": "a4d201ce-9697-4c1a-bb70-1195571d39e4",
      "metadata": {
        "id": "a4d201ce-9697-4c1a-bb70-1195571d39e4",
        "outputId": "f7fb4deb-f36c-4f25-c39e-c18103390340"
      },
      "outputs": [
        {
          "data": {
            "text/plain": [
              "4"
            ]
          },
          "execution_count": 39,
          "metadata": {},
          "output_type": "execute_result"
        }
      ],
      "source": [
        "2 ** 2"
      ]
    },
    {
      "cell_type": "code",
      "execution_count": null,
      "id": "18602536-539a-4a2e-b358-a08c8b13a958",
      "metadata": {
        "id": "18602536-539a-4a2e-b358-a08c8b13a958",
        "outputId": "f3215bea-819f-4dd0-edc3-acda127899c3"
      },
      "outputs": [
        {
          "data": {
            "text/plain": [
              "8"
            ]
          },
          "execution_count": 41,
          "metadata": {},
          "output_type": "execute_result"
        }
      ],
      "source": [
        "2 ** 3"
      ]
    },
    {
      "cell_type": "code",
      "execution_count": null,
      "id": "3e781191-181c-4fbd-ab09-59efc889f789",
      "metadata": {
        "id": "3e781191-181c-4fbd-ab09-59efc889f789",
        "outputId": "60cd6e4f-bd1f-4fc3-f2aa-f2e3af46a193"
      },
      "outputs": [
        {
          "data": {
            "text/plain": [
              "16"
            ]
          },
          "execution_count": 42,
          "metadata": {},
          "output_type": "execute_result"
        }
      ],
      "source": [
        "2 ** 4"
      ]
    },
    {
      "cell_type": "code",
      "execution_count": null,
      "id": "247250c4-8e15-4a10-b7fc-ef7a789363b0",
      "metadata": {
        "id": "247250c4-8e15-4a10-b7fc-ef7a789363b0"
      },
      "outputs": [],
      "source": [
        "def square(num):\n",
        "    # docstring\n",
        "    \"\"\"Function to find square of the value\"\"\"\n",
        "    return num ** 2"
      ]
    },
    {
      "cell_type": "code",
      "execution_count": null,
      "id": "f60af984-5f4f-4261-b873-605b087ed7ad",
      "metadata": {
        "id": "f60af984-5f4f-4261-b873-605b087ed7ad",
        "outputId": "e4457224-f988-4c67-ea73-1319ba7c54c7"
      },
      "outputs": [
        {
          "data": {
            "text/plain": [
              "49"
            ]
          },
          "execution_count": 44,
          "metadata": {},
          "output_type": "execute_result"
        }
      ],
      "source": [
        "square(7)"
      ]
    },
    {
      "cell_type": "code",
      "execution_count": null,
      "id": "cdfd69ea-54d8-42b1-9f2d-ddf74c886392",
      "metadata": {
        "id": "cdfd69ea-54d8-42b1-9f2d-ddf74c886392"
      },
      "outputs": [],
      "source": [
        "country = \"Nepal\" # string\n",
        "number = 1 # integer\n",
        "f_number = 1.5 # float\n",
        "c_number = 1 + 6j # complex\n",
        "\n"
      ]
    },
    {
      "cell_type": "code",
      "execution_count": null,
      "id": "05e31467-01ec-47e1-8641-23678fc01945",
      "metadata": {
        "id": "05e31467-01ec-47e1-8641-23678fc01945"
      },
      "outputs": [],
      "source": [
        "x = 1\n",
        "y = 2\n",
        "z = 3"
      ]
    },
    {
      "cell_type": "code",
      "execution_count": null,
      "id": "72386038-f424-4f0c-a0a1-750ebd541b19",
      "metadata": {
        "id": "72386038-f424-4f0c-a0a1-750ebd541b19",
        "outputId": "5ce2d17e-e221-4d72-d609-347413cbc049"
      },
      "outputs": [
        {
          "name": "stdout",
          "output_type": "stream",
          "text": [
            "1 2 3\n"
          ]
        }
      ],
      "source": [
        "x, y, z = 1, 2, 3\n",
        "\n",
        "print(x, y, z)"
      ]
    },
    {
      "cell_type": "code",
      "execution_count": null,
      "id": "f261c60a-b8c6-43de-829b-360e4be1efa5",
      "metadata": {
        "id": "f261c60a-b8c6-43de-829b-360e4be1efa5"
      },
      "outputs": [],
      "source": [
        "gravity = 9.8"
      ]
    },
    {
      "cell_type": "code",
      "execution_count": null,
      "id": "62b87058-9115-4b21-999f-a85d8f6e9f4d",
      "metadata": {
        "id": "62b87058-9115-4b21-999f-a85d8f6e9f4d"
      },
      "outputs": [],
      "source": [
        "GRAVITY = 9.8  # constant => uppercase"
      ]
    },
    {
      "cell_type": "code",
      "execution_count": null,
      "id": "2b2df56a-17fe-4941-b1d6-fd39d2922090",
      "metadata": {
        "id": "2b2df56a-17fe-4941-b1d6-fd39d2922090",
        "outputId": "31cf9ceb-f832-4308-908f-47cdcf37802d"
      },
      "outputs": [
        {
          "name": "stdout",
          "output_type": "stream",
          "text": [
            "10 100 200 4813\n"
          ]
        }
      ],
      "source": [
        "a = 0b1010 # Binary Literals => 2 digits 0,1\n",
        "b = 100 # Decimal Literal => 10 digits 0-9\n",
        "c = 0o310 # Octal Literal => 8 digit 0-7\n",
        "d = 0x12cd # Hexadecimal Literal => 16 digit 0-9 a-f\n",
        "\n",
        "print(a,b,c,d)"
      ]
    },
    {
      "cell_type": "code",
      "execution_count": null,
      "id": "939a5cd5-6993-4f7f-a62b-dd4cac7780f6",
      "metadata": {
        "id": "939a5cd5-6993-4f7f-a62b-dd4cac7780f6"
      },
      "outputs": [],
      "source": [
        "name = 'ram'\n",
        "name = \"ram\"\n",
        "name = \"\"\"ram\"\"\"\n",
        "name = '''ram'''"
      ]
    },
    {
      "cell_type": "code",
      "execution_count": null,
      "id": "9b43c295-34ae-4796-b25d-95fba8c2e004",
      "metadata": {
        "id": "9b43c295-34ae-4796-b25d-95fba8c2e004",
        "outputId": "8ebe34bc-fb03-4c9e-ff42-6f395eae6d53"
      },
      "outputs": [
        {
          "name": "stdout",
          "output_type": "stream",
          "text": [
            "my name is ram. I am from ktm.\n"
          ]
        }
      ],
      "source": [
        "name = 'my name is ram. I am from ktm.'\n",
        "print(name)"
      ]
    },
    {
      "cell_type": "code",
      "execution_count": null,
      "id": "11d569d8-0810-4b55-a66e-0dfbec2f8e19",
      "metadata": {
        "id": "11d569d8-0810-4b55-a66e-0dfbec2f8e19",
        "outputId": "e631b1ed-7b02-413b-86ff-fcb63392f84b"
      },
      "outputs": [
        {
          "ename": "SyntaxError",
          "evalue": "unterminated string literal (detected at line 1) (1467642262.py, line 1)",
          "output_type": "error",
          "traceback": [
            "\u001b[0;36m  Cell \u001b[0;32mIn[53], line 1\u001b[0;36m\u001b[0m\n\u001b[0;31m    name = 'my name is ram.\u001b[0m\n\u001b[0m           ^\u001b[0m\n\u001b[0;31mSyntaxError\u001b[0m\u001b[0;31m:\u001b[0m unterminated string literal (detected at line 1)\n"
          ]
        }
      ],
      "source": [
        "name = 'my name is ram.\n",
        "I am from ktm.'\n",
        "print(name)"
      ]
    },
    {
      "cell_type": "code",
      "execution_count": null,
      "id": "c28a0949-b6f9-4662-bcf0-0401bc18219e",
      "metadata": {
        "id": "c28a0949-b6f9-4662-bcf0-0401bc18219e",
        "outputId": "506cb7be-8e91-4e22-f6dd-2501b0b60643"
      },
      "outputs": [
        {
          "name": "stdout",
          "output_type": "stream",
          "text": [
            "my name is ram. \n",
            "I am from ktm.\n"
          ]
        }
      ],
      "source": [
        "# multiline string\n",
        "name = '''my name is ram.\n",
        "I am from ktm.'''\n",
        "print(name)"
      ]
    },
    {
      "cell_type": "code",
      "execution_count": null,
      "id": "a0ae805f-1264-4401-bbf5-6792f69f8330",
      "metadata": {
        "id": "a0ae805f-1264-4401-bbf5-6792f69f8330",
        "outputId": "ddd27a1f-49ef-471b-9ecc-7925395d3568"
      },
      "outputs": [
        {
          "name": "stdout",
          "output_type": "stream",
          "text": [
            "my name is ram. \n",
            "I am from ktm.\n"
          ]
        }
      ],
      "source": [
        "name = 'my name is ram. \\nI am from ktm.'\n",
        "print(name)"
      ]
    },
    {
      "cell_type": "code",
      "execution_count": null,
      "id": "0d149dac-22ec-483b-81f1-2decf06b4e49",
      "metadata": {
        "id": "0d149dac-22ec-483b-81f1-2decf06b4e49",
        "outputId": "cba6a835-8dd3-4dfb-8d5e-ee01ca6e79f5"
      },
      "outputs": [
        {
          "name": "stdout",
          "output_type": "stream",
          "text": [
            "my name is ram. \n",
            "I am\tfrom ktm.\n"
          ]
        }
      ],
      "source": [
        "name = 'my name is ram. \\nI am\\tfrom ktm.'\n",
        "print(name)"
      ]
    },
    {
      "cell_type": "code",
      "execution_count": null,
      "id": "33533c8e-3f78-4da4-b83d-f825d46f7880",
      "metadata": {
        "id": "33533c8e-3f78-4da4-b83d-f825d46f7880",
        "outputId": "3ecb3c08-87da-496d-f096-64184da3c99d"
      },
      "outputs": [
        {
          "ename": "SyntaxError",
          "evalue": "invalid syntax (4235328489.py, line 1)",
          "output_type": "error",
          "traceback": [
            "\u001b[0;36m  Cell \u001b[0;32mIn[57], line 1\u001b[0;36m\u001b[0m\n\u001b[0;31m    https://www.ssavr.com/\u001b[0m\n\u001b[0m          ^\u001b[0m\n\u001b[0;31mSyntaxError\u001b[0m\u001b[0;31m:\u001b[0m invalid syntax\n"
          ]
        }
      ],
      "source": [
        "https://www.ssavr.com/"
      ]
    },
    {
      "cell_type": "code",
      "execution_count": null,
      "id": "c64312cc-376c-4271-8700-76da502087a3",
      "metadata": {
        "id": "c64312cc-376c-4271-8700-76da502087a3",
        "outputId": "43327583-51cb-4eca-c613-3e79b789da3f"
      },
      "outputs": [
        {
          "name": "stdout",
          "output_type": "stream",
          "text": [
            "रमेह\n"
          ]
        }
      ],
      "source": [
        "name = \"रमेह\"\n",
        "print(name)"
      ]
    },
    {
      "cell_type": "code",
      "execution_count": null,
      "id": "e3664868-8e29-43d6-892e-2c52dc57df26",
      "metadata": {
        "id": "e3664868-8e29-43d6-892e-2c52dc57df26",
        "outputId": "d413aa23-5d9d-4f0c-8d52-c3bbd71d010e"
      },
      "outputs": [
        {
          "name": "stdout",
          "output_type": "stream",
          "text": [
            "रमेश\n"
          ]
        }
      ],
      "source": [
        "print(\"रमेश\")"
      ]
    },
    {
      "cell_type": "code",
      "execution_count": null,
      "id": "00736dbb-7580-48c0-8514-a44572a0e761",
      "metadata": {
        "id": "00736dbb-7580-48c0-8514-a44572a0e761",
        "outputId": "7421ba08-374f-4c89-a7d9-e3767ab93ddd"
      },
      "outputs": [
        {
          "name": "stdout",
          "output_type": "stream",
          "text": [
            "my name is ram. \\nI am\\tfrom ktm.\n"
          ]
        }
      ],
      "source": [
        "name = 'my name is ram. \\\\nI am\\\\tfrom ktm.'\n",
        "print(name)"
      ]
    },
    {
      "cell_type": "code",
      "execution_count": null,
      "id": "a89531d5-5bc2-4abc-9300-05448b2f5560",
      "metadata": {
        "id": "a89531d5-5bc2-4abc-9300-05448b2f5560",
        "outputId": "0145cd13-cca8-4f13-b63f-a0ebf532c72e"
      },
      "outputs": [
        {
          "name": "stdout",
          "output_type": "stream",
          "text": [
            "my name is ram. \\nI am\\tfrom ktm.\n"
          ]
        }
      ],
      "source": [
        "name = r'my name is ram. \\nI am\\tfrom ktm.'\n",
        "print(name)"
      ]
    },
    {
      "cell_type": "code",
      "execution_count": null,
      "id": "f8fc2229-eb82-4279-ab01-977055a2e48e",
      "metadata": {
        "id": "f8fc2229-eb82-4279-ab01-977055a2e48e",
        "outputId": "49956900-61a8-4fcb-cb97-dfcf0ef26c31"
      },
      "outputs": [
        {
          "name": "stdout",
          "output_type": "stream",
          "text": [
            "True False\n"
          ]
        }
      ],
      "source": [
        "x = True # boolean\n",
        "y = False # boolean\n",
        "\n",
        "print(x,y)"
      ]
    },
    {
      "cell_type": "code",
      "execution_count": null,
      "id": "831c72ff-a1ed-4e9c-8675-779ba5b3a6c9",
      "metadata": {
        "id": "831c72ff-a1ed-4e9c-8675-779ba5b3a6c9",
        "outputId": "2d921bc9-c056-4a66-d842-ea79b5ed2363"
      },
      "outputs": [
        {
          "name": "stdout",
          "output_type": "stream",
          "text": [
            "['apple', 'mango', 'orange']\n",
            "(1, 2, 3)\n",
            "{'u', 'e', 'i', 'a', 'o'}\n"
          ]
        }
      ],
      "source": [
        "fruits = [\"apple\", \"mango\", \"orange\"] #list\n",
        "numbers = (1, 2, 3) #tuple\n",
        "vowels = {'a', 'e', 'i' , 'o', 'u'} #set\n",
        "\n",
        "print(fruits)\n",
        "print(numbers)\n",
        "print(vowels)\n"
      ]
    },
    {
      "cell_type": "code",
      "execution_count": null,
      "id": "6a9aafe1-c056-46e0-90d1-e073a8f91e35",
      "metadata": {
        "id": "6a9aafe1-c056-46e0-90d1-e073a8f91e35",
        "outputId": "a0341b46-cead-4836-ed21-cb4886770a14"
      },
      "outputs": [
        {
          "name": "stdout",
          "output_type": "stream",
          "text": [
            "{'name': 'ram', 'address': 'ktm', 'contact': 9234324, 'gender': 'male'}\n"
          ]
        }
      ],
      "source": [
        "person = {\n",
        "    \"name\":\"ram\",\n",
        "    \"address\":\"ktm\",\n",
        "    \"contact\":9234324,\n",
        "    \"gender\":\"male\"\n",
        "}\n",
        "# dictionary => key : value\n",
        "print(person)"
      ]
    },
    {
      "cell_type": "code",
      "execution_count": null,
      "id": "937d7929-6a86-4d52-ae69-c2088679f0aa",
      "metadata": {
        "id": "937d7929-6a86-4d52-ae69-c2088679f0aa"
      },
      "outputs": [],
      "source": []
    }
  ],
  "metadata": {
    "kernelspec": {
      "display_name": "Python 3 (ipykernel)",
      "language": "python",
      "name": "python3"
    },
    "language_info": {
      "codemirror_mode": {
        "name": "ipython",
        "version": 3
      },
      "file_extension": ".py",
      "mimetype": "text/x-python",
      "name": "python",
      "nbconvert_exporter": "python",
      "pygments_lexer": "ipython3",
      "version": "3.11.4"
    },
    "colab": {
      "provenance": []
    }
  },
  "nbformat": 4,
  "nbformat_minor": 5
}