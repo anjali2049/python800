{
 "cells": [
  {
   "cell_type": "markdown",
   "id": "2ae7470e-2c0f-45f7-896a-d6c2d49b0d5a",
   "metadata": {},
   "source": [
    "Are access specifiers used in python? -- No but has concept of limiting behaviour of variables : private attribute ar not inherited"
   ]
  },
  {
   "cell_type": "code",
   "execution_count": 1,
   "id": "62ab5a4c-7639-47c9-81d5-0adb883f55f8",
   "metadata": {},
   "outputs": [],
   "source": [
    "class Employee:\n",
    "\n",
    "    #public\n",
    "    name = \"Kshitiz\"\n",
    "\n",
    "    #protected, _bata suru\n",
    "    _works_at = \"Braodway\"\n",
    "\n",
    "    #private, __ bata suru\n",
    "    __age = 26\n",
    "\n",
    "    "
   ]
  },
  {
   "cell_type": "code",
   "execution_count": 2,
   "id": "475451bb-e656-4af3-9362-4eb21d21cf5f",
   "metadata": {},
   "outputs": [],
   "source": [
    "obj = Employee()"
   ]
  },
  {
   "cell_type": "code",
   "execution_count": 4,
   "id": "d943e9ef-56f3-4854-9dfb-14bb72044efa",
   "metadata": {},
   "outputs": [
    {
     "data": {
      "text/plain": [
       "'Kshitiz'"
      ]
     },
     "execution_count": 4,
     "metadata": {},
     "output_type": "execute_result"
    }
   ],
   "source": [
    "obj.name "
   ]
  },
  {
   "cell_type": "code",
   "execution_count": 9,
   "id": "7ff24c35-6d70-472d-843b-3e2b6702846c",
   "metadata": {},
   "outputs": [
    {
     "data": {
      "text/plain": [
       "'Braodway'"
      ]
     },
     "execution_count": 9,
     "metadata": {},
     "output_type": "execute_result"
    }
   ],
   "source": [
    "obj._works_at #protected lai bahira bata heridaina generally, tara show garxa. general ma vhai line, function bhitrai call garne ho"
   ]
  },
  {
   "cell_type": "code",
   "execution_count": 10,
   "id": "71691d9c-6cf9-4c20-a409-e5c7a771f4ff",
   "metadata": {},
   "outputs": [
    {
     "ename": "AttributeError",
     "evalue": "'Employee' object has no attribute '__age'",
     "output_type": "error",
     "traceback": [
      "\u001b[1;31m---------------------------------------------------------------------------\u001b[0m",
      "\u001b[1;31mAttributeError\u001b[0m                            Traceback (most recent call last)",
      "Cell \u001b[1;32mIn[10], line 1\u001b[0m\n\u001b[1;32m----> 1\u001b[0m \u001b[43mobj\u001b[49m\u001b[38;5;241;43m.\u001b[39;49m\u001b[43m__age\u001b[49m \u001b[38;5;66;03m#private bahira show gardaina\u001b[39;00m\n",
      "\u001b[1;31mAttributeError\u001b[0m: 'Employee' object has no attribute '__age'"
     ]
    }
   ],
   "source": [
    "obj.__age #private bahira show gardaina"
   ]
  },
  {
   "cell_type": "code",
   "execution_count": null,
   "id": "a6d51693-da46-4980-a20d-a8cc51e9a48e",
   "metadata": {},
   "outputs": [],
   "source": []
  }
 ],
 "metadata": {
  "kernelspec": {
   "display_name": "Python 3 (ipykernel)",
   "language": "python",
   "name": "python3"
  },
  "language_info": {
   "codemirror_mode": {
    "name": "ipython",
    "version": 3
   },
   "file_extension": ".py",
   "mimetype": "text/x-python",
   "name": "python",
   "nbconvert_exporter": "python",
   "pygments_lexer": "ipython3",
   "version": "3.11.4"
  }
 },
 "nbformat": 4,
 "nbformat_minor": 5
}
