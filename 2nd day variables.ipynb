{
 "cells": [
  {
   "cell_type": "code",
   "execution_count": 2,
   "id": "7278d8ec-a4e2-401b-9c9c-047e577e89f1",
   "metadata": {},
   "outputs": [
    {
     "name": "stdout",
     "output_type": "stream",
     "text": [
      "Hello World\n"
     ]
    }
   ],
   "source": [
    "print(\"Hello World\")"
   ]
  },
  {
   "cell_type": "code",
   "execution_count": 9,
   "id": "adfb25cf-8e89-43f3-b267-ddb5a544ffbf",
   "metadata": {},
   "outputs": [
    {
     "name": "stdout",
     "output_type": "stream",
     "text": [
      "sum\n",
      "6\n"
     ]
    }
   ],
   "source": [
    "x = 1 #x=> variable which contains integer\n",
    "y = 5\n",
    "print (\"sum\")\n",
    "sum = x + y # we are adding both variables which contain integer value\n",
    "print(sum)"
   ]
  },
  {
   "cell_type": "code",
   "execution_count": 11,
   "id": "a77e47d4-ced2-4248-bbe8-a02d8eb9f1cf",
   "metadata": {},
   "outputs": [
    {
     "data": {
      "text/plain": [
       "7.5"
      ]
     },
     "execution_count": 11,
     "metadata": {},
     "output_type": "execute_result"
    }
   ],
   "source": [
    "x=5.5 # float\n",
    "y = 2 # integer\n",
    "sum = x+y # float\n",
    "x+y"
   ]
  },
  {
   "cell_type": "code",
   "execution_count": 13,
   "id": "e910930f-47ab-4fae-b4a8-8633b0f48bc3",
   "metadata": {},
   "outputs": [],
   "source": [
    "#we can not name variables which are in reserved or python keywords in variables"
   ]
  },
  {
   "cell_type": "code",
   "execution_count": 18,
   "id": "6143d311-be5c-4276-8f39-7c5c06d98127",
   "metadata": {},
   "outputs": [],
   "source": [
    "#variables are case sensetive\n",
    "name = 'Ram'\n",
    "NAME = 'ram'"
   ]
  },
  {
   "cell_type": "code",
   "execution_count": 23,
   "id": "e13d8d8d-8c1b-4490-ae0e-b0d362a722bb",
   "metadata": {},
   "outputs": [
    {
     "name": "stdout",
     "output_type": "stream",
     "text": [
      "538\n"
     ]
    }
   ],
   "source": [
    "x = (1+2+3+4+5+6+7+8+9\n",
    "    +9+8+9+86+3+5+5+\n",
    "    2+7+4+4+4+44+2+2+\n",
    "    5+5+5+8+8+5+4+4+5\n",
    "    +54+5+9+6+5+8+7+4\n",
    "    +9+4+5+5+5+\n",
    "    5+5+5+9+100)\n",
    "print(x) # we can put enter to make easy to read and we have to put brackets in starting and middle"
   ]
  },
  {
   "cell_type": "code",
   "execution_count": 24,
   "id": "59e27a48-d3f6-4b57-9c84-66af40742329",
   "metadata": {},
   "outputs": [],
   "source": [
    "a=1\n",
    "b=2 \n",
    "c=3"
   ]
  },
  {
   "cell_type": "code",
   "execution_count": 26,
   "id": "5c2d457c-ce50-4750-a113-bfb09e9dfe79",
   "metadata": {},
   "outputs": [
    {
     "name": "stdout",
     "output_type": "stream",
     "text": [
      "1 2 3\n"
     ]
    }
   ],
   "source": [
    "a=1 ; b=2 ; c=3; #use semicolons; to print in same line\n",
    "print(a,b,c)"
   ]
  },
  {
   "cell_type": "code",
   "execution_count": 27,
   "id": "15d3af4a-8274-4f57-a538-4ce0016e9359",
   "metadata": {},
   "outputs": [],
   "source": [
    "a=2\n",
    "b=2\n",
    "c=2"
   ]
  },
  {
   "cell_type": "code",
   "execution_count": 28,
   "id": "33446f96-fd77-4573-8c7b-55c63719debf",
   "metadata": {},
   "outputs": [
    {
     "name": "stdout",
     "output_type": "stream",
     "text": [
      "2 2 2\n"
     ]
    }
   ],
   "source": [
    "a=b=c=2 # to print all same equal values in same line \n",
    "print(a,b,c)"
   ]
  },
  {
   "cell_type": "code",
   "execution_count": 30,
   "id": "0f5f0403-c8d4-4ef2-9e47-8b7d3da5acdf",
   "metadata": {},
   "outputs": [
    {
     "name": "stdout",
     "output_type": "stream",
     "text": [
      "Unauthorized\n"
     ]
    }
   ],
   "source": [
    "age = 17\n",
    "if age< 18:\n",
    "    print(\"Unauthorized\") #indentation ( print should not be alingned to first line, some gap should be given. 4space or 2 tab but tab is preferable"
   ]
  },
  {
   "cell_type": "code",
   "execution_count": 34,
   "id": "1c870b43-2e80-41e4-9569-0aa652160255",
   "metadata": {},
   "outputs": [],
   "source": [
    "def square(num):\n",
    "    \"\"\"Function to find square of the value\"\"\" #docstring\n",
    "    return num **2"
   ]
  },
  {
   "cell_type": "code",
   "execution_count": 35,
   "id": "115419f0-2b5a-4cdc-ba34-c89fbd43c778",
   "metadata": {},
   "outputs": [
    {
     "data": {
      "text/plain": [
       "49"
      ]
     },
     "execution_count": 35,
     "metadata": {},
     "output_type": "execute_result"
    }
   ],
   "source": [
    "square(7)"
   ]
  },
  {
   "cell_type": "code",
   "execution_count": 37,
   "id": "4620b576-c3b2-409e-8ebc-28da504ecdc2",
   "metadata": {},
   "outputs": [
    {
     "data": {
      "text/plain": [
       "49"
      ]
     },
     "execution_count": 37,
     "metadata": {},
     "output_type": "execute_result"
    }
   ],
   "source": [
    "7**2 # we can use both both ** is most easy to find power off"
   ]
  },
  {
   "cell_type": "markdown",
   "id": "444de682-3581-4908-aed7-3807bffeef7b",
   "metadata": {},
   "source": [
    "#data types\n",
    "country = \"Nepal\" #string\n",
    "number = 1 # integer\n",
    "f_number = 2.5 #flaot\n",
    "c_number = 1+6j #complex"
   ]
  },
  {
   "cell_type": "code",
   "execution_count": 41,
   "id": "e5b6d6fd-4400-421f-86d4-f7fd320a1577",
   "metadata": {},
   "outputs": [],
   "source": [
    "x=1\n",
    "y=2\n",
    "z=3"
   ]
  },
  {
   "cell_type": "code",
   "execution_count": 42,
   "id": "98e76e18-38b9-4aa0-872d-7f73697942db",
   "metadata": {},
   "outputs": [
    {
     "name": "stdout",
     "output_type": "stream",
     "text": [
      "1 2 3\n"
     ]
    }
   ],
   "source": [
    "x, y, z =1, 2, 3\n",
    "print(x, y, z)"
   ]
  },
  {
   "cell_type": "code",
   "execution_count": 47,
   "id": "b67d7c6c-3ba0-49ec-a69f-0deb8bb790e3",
   "metadata": {},
   "outputs": [],
   "source": [
    "gravity = 9.8"
   ]
  },
  {
   "cell_type": "code",
   "execution_count": 46,
   "id": "59ba7ee8-f523-49ec-a6a2-0c8df2e45904",
   "metadata": {},
   "outputs": [],
   "source": [
    "GRAVITY = 9.8 #to denote constant, we write variables in UPPER case"
   ]
  },
  {
   "cell_type": "code",
   "execution_count": 49,
   "id": "ab3e3edc-9b7f-47e0-a6cd-aa612dd14713",
   "metadata": {},
   "outputs": [
    {
     "name": "stdout",
     "output_type": "stream",
     "text": [
      "10 100 200 4813\n"
     ]
    }
   ],
   "source": [
    "a = 0b1010 #Binary Literals => 2 digits 0,1\n",
    "b = 100 # Decimal Literal => 10 digits 0-9\n",
    "c = 0o310 #Octal literal => 8 digits 0-7\n",
    "d=0x12cd #Hexadecimal Literal=> 16 digit 0-9 a-f\n",
    "\n",
    "#answer shows you in decimal \n",
    "\n",
    "print(a,b,c,d)"
   ]
  },
  {
   "cell_type": "code",
   "execution_count": 51,
   "id": "4936a248-9cab-4a79-aed0-6439837e55f9",
   "metadata": {},
   "outputs": [],
   "source": [
    "name = 'ram'\n",
    "name = \"ram\"\n",
    "name = \"\"\"ram\"\"\"\n",
    "name = '''ram'''  #these all strings are valid"
   ]
  },
  {
   "cell_type": "code",
   "execution_count": 53,
   "id": "94714b63-df4f-4048-9011-0867eaa24deb",
   "metadata": {},
   "outputs": [
    {
     "name": "stdout",
     "output_type": "stream",
     "text": [
      "my name is ram. I am from ktm\n"
     ]
    }
   ],
   "source": [
    "name = 'my name is ram. I am from ktm' # to ptint in same name\n",
    "print (name)"
   ]
  },
  {
   "cell_type": "code",
   "execution_count": 54,
   "id": "01828163-0274-4f01-a550-96a7a8a6df20",
   "metadata": {},
   "outputs": [
    {
     "name": "stdout",
     "output_type": "stream",
     "text": [
      "my name is ram.\n",
      "I am from ktm\n"
     ]
    }
   ],
   "source": [
    "name = '''my name is ram.\n",
    "I am from ktm''' # multi line string ''' to print in multi lines\n",
    "print (name)"
   ]
  },
  {
   "cell_type": "code",
   "execution_count": 56,
   "id": "f27cbc97-064d-427f-8d2d-6d8395ddb953",
   "metadata": {},
   "outputs": [
    {
     "name": "stdout",
     "output_type": "stream",
     "text": [
      "my name is ram. \n",
      "I am from ktm\n"
     ]
    }
   ],
   "source": [
    "name = 'my name is ram. \\nI am from ktm' # to ptint in multi lines while we put variables in same line\n",
    "print (name)"
   ]
  },
  {
   "cell_type": "code",
   "execution_count": 59,
   "id": "c70fc617-7aab-4f15-9eec-e9ebc4bdb6ec",
   "metadata": {},
   "outputs": [
    {
     "name": "stdout",
     "output_type": "stream",
     "text": [
      "my name is ram. \n",
      "I am\tfrom ktm\n"
     ]
    }
   ],
   "source": [
    "name = 'my name is ram. \\nI am\\tfrom ktm' # we use \\t to print tab where ever we need\n",
    "print(name)"
   ]
  },
  {
   "cell_type": "code",
   "execution_count": 61,
   "id": "af119861-f7d9-4c45-899e-04faab574fef",
   "metadata": {},
   "outputs": [
    {
     "name": "stdout",
     "output_type": "stream",
     "text": [
      "my name is ram. \\nI am \\tfrom ktm\n"
     ]
    }
   ],
   "source": [
    "name = 'my name is ram. \\\\nI am \\\\tfrom ktm' \n",
    "print(name)"
   ]
  },
  {
   "cell_type": "code",
   "execution_count": 64,
   "id": "33b56eb1-6b74-4b3a-94c7-de1f704aee30",
   "metadata": {},
   "outputs": [
    {
     "name": "stdout",
     "output_type": "stream",
     "text": [
      "my name is ram. \\\\nI am \\\\tfrom ktm\n"
     ]
    }
   ],
   "source": [
    "name = r'my name is ram. \\\\nI am \\\\tfrom ktm' #to make readable we use r in starting\n",
    "print(name)"
   ]
  },
  {
   "cell_type": "code",
   "execution_count": 65,
   "id": "082edaf6-50ec-4129-8449-ed9628a27bc0",
   "metadata": {},
   "outputs": [
    {
     "name": "stdout",
     "output_type": "stream",
     "text": [
      "True False\n"
     ]
    }
   ],
   "source": [
    "x= True # boolean\n",
    "y= False # boolean\n",
    "print (x,y)"
   ]
  },
  {
   "cell_type": "code",
   "execution_count": 66,
   "id": "74c9e4f1-65bd-476f-a03e-86ac201b0533",
   "metadata": {},
   "outputs": [
    {
     "name": "stdout",
     "output_type": "stream",
     "text": [
      "['apple', 'mango', 'orange']\n",
      "(1, 2, 3)\n",
      "{'a', 'u', 'o', 'e', 'i'}\n"
     ]
    }
   ],
   "source": [
    "fruits = [\"apple\", \"mango\", \"orange\"] #list []\n",
    "numbers = (1, 2, 3) #tuple()\n",
    "vowels = {'a', 'e', 'i', 'o', 'u'} # set\n",
    "\n",
    "print(fruits)\n",
    "print(numbers)\n",
    "print(vowels)"
   ]
  },
  {
   "cell_type": "code",
   "execution_count": 69,
   "id": "661676f8-aab3-4b2e-bac9-6d1391adb25b",
   "metadata": {},
   "outputs": [
    {
     "name": "stdout",
     "output_type": "stream",
     "text": [
      "{'name': 'ram', 'address': 'ktm', 'contact': 92348565, 'gender': 'male'}\n"
     ]
    }
   ],
   "source": [
    "person = {\n",
    "    \"name\":\"ram\",\n",
    "    \"address\":\"ktm\", \n",
    "    \"contact\": 92348565,\n",
    "    \"gender\":\"male\"\n",
    "}\n",
    "#dictionary => key : value where name is key and ram is value\n",
    "print(person)"
   ]
  },
  {
   "cell_type": "code",
   "execution_count": null,
   "id": "1c6762a0-4167-4cff-86c5-e1593b79e000",
   "metadata": {},
   "outputs": [],
   "source": []
  }
 ],
 "metadata": {
  "kernelspec": {
   "display_name": "Python 3 (ipykernel)",
   "language": "python",
   "name": "python3"
  },
  "language_info": {
   "codemirror_mode": {
    "name": "ipython",
    "version": 3
   },
   "file_extension": ".py",
   "mimetype": "text/x-python",
   "name": "python",
   "nbconvert_exporter": "python",
   "pygments_lexer": "ipython3",
   "version": "3.11.4"
  }
 },
 "nbformat": 4,
 "nbformat_minor": 5
}
