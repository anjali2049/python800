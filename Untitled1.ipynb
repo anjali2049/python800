{
 "cells": [
  {
   "cell_type": "code",
   "execution_count": 1,
   "id": "281e9552-25f0-4824-b8e5-4f852df335b6",
   "metadata": {},
   "outputs": [
    {
     "name": "stdout",
     "output_type": "stream",
     "text": [
      "Help on class filter in module builtins:\n",
      "\n",
      "class filter(object)\n",
      " |  filter(function or None, iterable) --> filter object\n",
      " |  \n",
      " |  Return an iterator yielding those items of iterable for which function(item)\n",
      " |  is true. If function is None, return the items that are true.\n",
      " |  \n",
      " |  Methods defined here:\n",
      " |  \n",
      " |  __getattribute__(self, name, /)\n",
      " |      Return getattr(self, name).\n",
      " |  \n",
      " |  __iter__(self, /)\n",
      " |      Implement iter(self).\n",
      " |  \n",
      " |  __next__(self, /)\n",
      " |      Implement next(self).\n",
      " |  \n",
      " |  __reduce__(...)\n",
      " |      Return state information for pickling.\n",
      " |  \n",
      " |  ----------------------------------------------------------------------\n",
      " |  Static methods defined here:\n",
      " |  \n",
      " |  __new__(*args, **kwargs) from builtins.type\n",
      " |      Create and return a new object.  See help(type) for accurate signature.\n",
      "\n"
     ]
    }
   ],
   "source": [
    "help(filter)"
   ]
  },
  {
   "cell_type": "code",
   "execution_count": 2,
   "id": "7cfc102e-5dc3-4a6f-82b8-45d534d859a3",
   "metadata": {},
   "outputs": [
    {
     "data": {
      "text/plain": [
       "<filter at 0x21c2a98bb20>"
      ]
     },
     "execution_count": 2,
     "metadata": {},
     "output_type": "execute_result"
    }
   ],
   "source": [
    "filter(None, [7,-1,0,'hello', '', None, str()])"
   ]
  },
  {
   "cell_type": "code",
   "execution_count": 3,
   "id": "ce82ac5f-ae77-49f1-a38b-52282fd575d6",
   "metadata": {},
   "outputs": [
    {
     "data": {
      "text/plain": [
       "[7, -1, 'hello']"
      ]
     },
     "execution_count": 3,
     "metadata": {},
     "output_type": "execute_result"
    }
   ],
   "source": [
    "list(filter(None, [7,-1,0,'hello', '', None, str()])) #tom filter the truth value"
   ]
  },
  {
   "cell_type": "code",
   "execution_count": 4,
   "id": "47208950-5565-44e6-a849-18f1ad0b1a3e",
   "metadata": {},
   "outputs": [],
   "source": [
    "def is_odd(n):\n",
    "    if n % 2 ==0: #first we create function\n",
    "        return False\n",
    "    else:\n",
    "        return True"
   ]
  },
  {
   "cell_type": "code",
   "execution_count": 6,
   "id": "f8698c24-89b9-4a01-9b53-6ac02efc830f",
   "metadata": {},
   "outputs": [
    {
     "data": {
      "text/plain": [
       "[1, 3, 5, 7]"
      ]
     },
     "execution_count": 6,
     "metadata": {},
     "output_type": "execute_result"
    }
   ],
   "source": [
    "list(filter(is_odd, [1,2,3,4,5,6,7])) #filter le true value matra filter garxa\n",
    "#mathi ko function anusar true lai filter garxa"
   ]
  },
  {
   "cell_type": "code",
   "execution_count": 11,
   "id": "783616c3-c48e-4712-8e5b-f84d0cf7f603",
   "metadata": {},
   "outputs": [],
   "source": [
    "def is_odd(n):\n",
    "    return n % 2 != 0 #1 line function      #remiNDER 0 nahune vanera function  "
   ]
  },
  {
   "cell_type": "code",
   "execution_count": 10,
   "id": "d9f82bf7-71ae-48c3-bccc-d995e64d4bac",
   "metadata": {},
   "outputs": [
    {
     "data": {
      "text/plain": [
       "[1, 3, 5, 7]"
      ]
     },
     "execution_count": 10,
     "metadata": {},
     "output_type": "execute_result"
    }
   ],
   "source": [
    "list(filter(is_odd, [1,2,3,4,5,6,7]))"
   ]
  },
  {
   "cell_type": "code",
   "execution_count": 13,
   "id": "8141a22c-10fe-4d0a-b962-7b3304dc5952",
   "metadata": {},
   "outputs": [
    {
     "data": {
      "text/plain": [
       "[1, 3, 5, 7]"
      ]
     },
     "execution_count": 13,
     "metadata": {},
     "output_type": "execute_result"
    }
   ],
   "source": [
    "list(filter(lambda n: n% 2 != 0, [1,2,3,4,5,6,7])) #use lembda function"
   ]
  },
  {
   "cell_type": "code",
   "execution_count": 14,
   "id": "81ba23a6-71e7-4f0f-bc43-ca06889f9b2f",
   "metadata": {},
   "outputs": [
    {
     "name": "stdout",
     "output_type": "stream",
     "text": [
      "Help on class map in module builtins:\n",
      "\n",
      "class map(object)\n",
      " |  map(func, *iterables) --> map object\n",
      " |  \n",
      " |  Make an iterator that computes the function using arguments from\n",
      " |  each of the iterables.  Stops when the shortest iterable is exhausted.\n",
      " |  \n",
      " |  Methods defined here:\n",
      " |  \n",
      " |  __getattribute__(self, name, /)\n",
      " |      Return getattr(self, name).\n",
      " |  \n",
      " |  __iter__(self, /)\n",
      " |      Implement iter(self).\n",
      " |  \n",
      " |  __next__(self, /)\n",
      " |      Implement next(self).\n",
      " |  \n",
      " |  __reduce__(...)\n",
      " |      Return state information for pickling.\n",
      " |  \n",
      " |  ----------------------------------------------------------------------\n",
      " |  Static methods defined here:\n",
      " |  \n",
      " |  __new__(*args, **kwargs) from builtins.type\n",
      " |      Create and return a new object.  See help(type) for accurate signature.\n",
      "\n"
     ]
    }
   ],
   "source": [
    "help(map)"
   ]
  },
  {
   "cell_type": "code",
   "execution_count": 15,
   "id": "7cecea39-24d9-4cbf-a845-c82a2e0448ae",
   "metadata": {},
   "outputs": [],
   "source": [
    "def square(n) :\n",
    "    return n **2"
   ]
  },
  {
   "cell_type": "code",
   "execution_count": 16,
   "id": "43edf1a2-6554-4bc4-8d2e-9bf1555b4ff9",
   "metadata": {},
   "outputs": [
    {
     "data": {
      "text/plain": [
       "16"
      ]
     },
     "execution_count": 16,
     "metadata": {},
     "output_type": "execute_result"
    }
   ],
   "source": [
    "square(4)"
   ]
  },
  {
   "cell_type": "code",
   "execution_count": 18,
   "id": "10b28695-a5d9-4da7-989b-07de6dfd072f",
   "metadata": {},
   "outputs": [
    {
     "data": {
      "text/plain": [
       "[1, 4, 9, 16, 25, 36]"
      ]
     },
     "execution_count": 18,
     "metadata": {},
     "output_type": "execute_result"
    }
   ],
   "source": [
    "list(map(square, [1,2,3,4,5,6])) #list ko harek ko square nikalyo"
   ]
  },
  {
   "cell_type": "code",
   "execution_count": 19,
   "id": "fe31ea20-009a-4a45-a9ec-7d374b92e999",
   "metadata": {},
   "outputs": [],
   "source": [
    "from functools import reduce"
   ]
  },
  {
   "cell_type": "code",
   "execution_count": 20,
   "id": "757ce9c6-2404-4cd7-b329-86538ebe1b6c",
   "metadata": {},
   "outputs": [
    {
     "name": "stdout",
     "output_type": "stream",
     "text": [
      "Help on built-in function reduce in module _functools:\n",
      "\n",
      "reduce(...)\n",
      "    reduce(function, iterable[, initial]) -> value\n",
      "    \n",
      "    Apply a function of two arguments cumulatively to the items of a sequence\n",
      "    or iterable, from left to right, so as to reduce the iterable to a single\n",
      "    value.  For example, reduce(lambda x, y: x+y, [1, 2, 3, 4, 5]) calculates\n",
      "    ((((1+2)+3)+4)+5).  If initial is present, it is placed before the items\n",
      "    of the iterable in the calculation, and serves as a default when the\n",
      "    iterable is empty.\n",
      "\n"
     ]
    }
   ],
   "source": [
    "help(reduce)"
   ]
  },
  {
   "cell_type": "code",
   "execution_count": 21,
   "id": "70d8da50-01bd-4c76-8d68-3b67bf0923cb",
   "metadata": {},
   "outputs": [],
   "source": [
    "def addition(x , y):\n",
    "    return x + y"
   ]
  },
  {
   "cell_type": "code",
   "execution_count": 22,
   "id": "b43abce1-1a80-4847-afbb-58ce56c48c83",
   "metadata": {},
   "outputs": [
    {
     "data": {
      "text/plain": [
       "15"
      ]
     },
     "execution_count": 22,
     "metadata": {},
     "output_type": "execute_result"
    }
   ],
   "source": [
    "reduce(addition, [1,2,3,4,5])"
   ]
  },
  {
   "cell_type": "code",
   "execution_count": 23,
   "id": "cd596722-30c3-484b-952a-bad0dd1391b6",
   "metadata": {},
   "outputs": [],
   "source": [
    "# OOP => object oriented programmin"
   ]
  },
  {
   "cell_type": "code",
   "execution_count": 24,
   "id": "57698d15-11a5-4b03-b777-dfece52442bc",
   "metadata": {},
   "outputs": [],
   "source": [
    "def today_date():\n",
    "    pass\n",
    "def today_tie():\n",
    "    pass\n",
    "def today_year():\n",
    "    pass\n",
    "\n",
    "def today_month():\n",
    "    pass\n",
    "\n",
    "def today_day():\n",
    "    pass\n",
    "\n",
    "def today_utc_time():\n",
    "    pass\n",
    "    "
   ]
  },
  {
   "cell_type": "code",
   "execution_count": 25,
   "id": "b66abdce-fab0-4c92-a354-0d39956eb190",
   "metadata": {},
   "outputs": [],
   "source": [
    "class DateTime: #Pascal Case\n",
    "    def today_date(): #snake case\n",
    "        pass\n",
    "    def today_tie():\n",
    "        pass\n",
    "    def today_year():\n",
    "        pass\n",
    "\n",
    "    def today_month():\n",
    "        pass\n",
    "\n",
    "    def today_day():\n",
    "        pass\n",
    "\n",
    "    def today_utc_time():\n",
    "        pass\n",
    "    "
   ]
  },
  {
   "cell_type": "code",
   "execution_count": 26,
   "id": "5c18d9e9-241f-4cbe-9247-e3c4b846d83c",
   "metadata": {},
   "outputs": [],
   "source": [
    "#class => Person => blueprint\n",
    "#object =>ram => actual instance of class"
   ]
  },
  {
   "cell_type": "code",
   "execution_count": 27,
   "id": "c5d6b8b2-3e5c-4f7b-9120-404333bd2250",
   "metadata": {},
   "outputs": [],
   "source": [
    "class Person:\n",
    "    name = \"ram\"\n",
    "    age = 18\n",
    "    address = \"ktm\""
   ]
  },
  {
   "cell_type": "code",
   "execution_count": 28,
   "id": "bf4ca635-08f7-402c-833d-90d0ac78829c",
   "metadata": {},
   "outputs": [],
   "source": [
    "ram = Person() #ram is an object of Person class=> instance"
   ]
  },
  {
   "cell_type": "code",
   "execution_count": 29,
   "id": "7e060a8b-7669-43b9-9b1f-69c5d9b69954",
   "metadata": {},
   "outputs": [
    {
     "name": "stdout",
     "output_type": "stream",
     "text": [
      "<__main__.Person object at 0x0000021C2B1E7A90>\n"
     ]
    }
   ],
   "source": [
    "print(ram) #main file ko person vanne class ko object ko tyo memory ma baseo xa"
   ]
  },
  {
   "cell_type": "code",
   "execution_count": 31,
   "id": "0e3d4af1-fc9e-49e9-a537-fde9f961b3b4",
   "metadata": {},
   "outputs": [],
   "source": [
    "class Person:\n",
    "    #attribure/property=> outside of class it is variable =>inside class attribute\n",
    "    name = \"ram\"\n",
    "    age = 18\n",
    "    address = \"ktm\"\n",
    "\n",
    "#action/behaviour = outside function but inside class its a method\n",
    "    def eat():\n",
    "        pass\n",
    "\n",
    "    def sleep():\n",
    "        pass\n",
    "\n",
    "    def walk():\n",
    "        pass"
   ]
  },
  {
   "cell_type": "code",
   "execution_count": 33,
   "id": "d9f51d30-c035-4cee-aeed-631a385c87ef",
   "metadata": {},
   "outputs": [],
   "source": [
    "p1 = Person()"
   ]
  },
  {
   "cell_type": "code",
   "execution_count": 34,
   "id": "4d5d5a2f-8fec-425f-9dad-34f8e6e66dd7",
   "metadata": {},
   "outputs": [
    {
     "data": {
      "text/plain": [
       "'ram'"
      ]
     },
     "execution_count": 34,
     "metadata": {},
     "output_type": "execute_result"
    }
   ],
   "source": [
    "p1.name"
   ]
  },
  {
   "cell_type": "code",
   "execution_count": 36,
   "id": "ac632d9f-df83-4ba1-a02a-25656c875b4c",
   "metadata": {},
   "outputs": [],
   "source": [
    "p2 = Person()"
   ]
  },
  {
   "cell_type": "code",
   "execution_count": 37,
   "id": "ef1d3a29-99f1-464c-a9f5-10519825e3f4",
   "metadata": {},
   "outputs": [
    {
     "data": {
      "text/plain": [
       "'ram'"
      ]
     },
     "execution_count": 37,
     "metadata": {},
     "output_type": "execute_result"
    }
   ],
   "source": [
    "p2.name"
   ]
  },
  {
   "cell_type": "code",
   "execution_count": 38,
   "id": "d523f3cd-1975-4fb9-8c22-e15c0056a62c",
   "metadata": {},
   "outputs": [
    {
     "data": {
      "text/plain": [
       "18"
      ]
     },
     "execution_count": 38,
     "metadata": {},
     "output_type": "execute_result"
    }
   ],
   "source": [
    "p2.age"
   ]
  },
  {
   "cell_type": "code",
   "execution_count": 40,
   "id": "fd590608-92fb-4c93-a281-c04d36817bec",
   "metadata": {},
   "outputs": [],
   "source": [
    "def person(name, age, address):\n",
    "    print(name,age,address)"
   ]
  },
  {
   "cell_type": "code",
   "execution_count": 41,
   "id": "c38327a0-1d88-4b86-8500-210226cd666e",
   "metadata": {},
   "outputs": [
    {
     "ename": "NameError",
     "evalue": "name 'name' is not defined",
     "output_type": "error",
     "traceback": [
      "\u001b[1;31m---------------------------------------------------------------------------\u001b[0m",
      "\u001b[1;31mNameError\u001b[0m                                 Traceback (most recent call last)",
      "Cell \u001b[1;32mIn[41], line 1\u001b[0m\n\u001b[1;32m----> 1\u001b[0m person(\u001b[43mname\u001b[49m,age,address)\n",
      "\u001b[1;31mNameError\u001b[0m: name 'name' is not defined"
     ]
    }
   ],
   "source": [
    "person(name,age,address)"
   ]
  },
  {
   "cell_type": "code",
   "execution_count": 55,
   "id": "0384c030-7dba-44a6-9f29-77e0d4d2b19f",
   "metadata": {},
   "outputs": [],
   "source": [
    "class Person:\n",
    "    #constructor in other programming language\n",
    "    #intializer => value intialize\n",
    "\n",
    "    def __init__(self,name,age,address): #double underscore, dunder, special method\n",
    "        \n",
    "        self.name = name\n",
    "        self.age = age\n",
    "        self.address = address\n",
    "   \n",
    "\n",
    "    #self must be an first argument to the method of class\n",
    "    def eat(self):\n",
    "        print(\"Person in eating\")\n",
    "\n",
    "    def sleep(self):\n",
    "        print(\"Person is sleeping\")\n",
    "\n",
    "    def walk(self):\n",
    "        print(\"Person is walking\")"
   ]
  },
  {
   "cell_type": "code",
   "execution_count": 56,
   "id": "168dfa4f-5d68-495c-8418-2232e74bb9d2",
   "metadata": {},
   "outputs": [],
   "source": [
    "ram = Person(name='ram', age=18, address = 'ktm') #object banako"
   ]
  },
  {
   "cell_type": "code",
   "execution_count": 57,
   "id": "0fb767ed-1873-4074-ab5d-dca6b86a0cd2",
   "metadata": {},
   "outputs": [],
   "source": [
    "p2 = Person(name='shyam', age=28, address = 'ltr') #object banako"
   ]
  },
  {
   "cell_type": "code",
   "execution_count": 58,
   "id": "32d30721-092a-40d9-893e-36ea0068df8e",
   "metadata": {},
   "outputs": [
    {
     "data": {
      "text/plain": [
       "'shyam'"
      ]
     },
     "execution_count": 58,
     "metadata": {},
     "output_type": "execute_result"
    }
   ],
   "source": [
    "p2.name"
   ]
  },
  {
   "cell_type": "code",
   "execution_count": 61,
   "id": "dd829c68-af3a-4420-8714-a8592ada644d",
   "metadata": {},
   "outputs": [
    {
     "name": "stdout",
     "output_type": "stream",
     "text": [
      "Person in eating\n"
     ]
    }
   ],
   "source": [
    "ram.eat()"
   ]
  },
  {
   "cell_type": "code",
   "execution_count": 2,
   "id": "99235950-26ae-4c05-9297-dbd202e5a5e6",
   "metadata": {},
   "outputs": [],
   "source": [
    "class Student: \n",
    "    def __init__(self, name, age, address, college, faculty, roll_no):\n",
    "        self.name = name\n",
    "        self.age = age\n",
    "        self.address = address\n",
    "        self.college = college\n",
    "        self.faculty = faculty\n",
    "        self.roll_no = roll_no\n",
    "        self.subjects = []\n",
    "\n",
    "    def learn(self):\n",
    "        print(f\"Studnet is learning.\")"
   ]
  },
  {
   "cell_type": "code",
   "execution_count": 4,
   "id": "d341c891-dbf6-4036-a998-1391ef82c3d3",
   "metadata": {},
   "outputs": [],
   "source": [
    "s1 = Student(name=\"Ram\", age = 23, address=\"ktm\", college= \"NCIT\", faculty=\"IT\", roll_no=1)"
   ]
  },
  {
   "cell_type": "code",
   "execution_count": 5,
   "id": "28368174-15f4-4e12-be2b-698036403f85",
   "metadata": {},
   "outputs": [
    {
     "data": {
      "text/plain": [
       "'Ram'"
      ]
     },
     "execution_count": 5,
     "metadata": {},
     "output_type": "execute_result"
    }
   ],
   "source": [
    "s1.name"
   ]
  },
  {
   "cell_type": "code",
   "execution_count": 7,
   "id": "2f6b19bf-504a-4025-abe8-0fc2a7774c39",
   "metadata": {},
   "outputs": [
    {
     "name": "stdout",
     "output_type": "stream",
     "text": [
      "Studnet is learning.\n"
     ]
    }
   ],
   "source": [
    "s1.learn()"
   ]
  },
  {
   "cell_type": "code",
   "execution_count": 8,
   "id": "f92f76f7-6092-4d8a-bf1e-2ba49cd7aa07",
   "metadata": {},
   "outputs": [],
   "source": [
    "class Student: \n",
    "    def __init__(self, name, age, address, college, faculty, roll_no):\n",
    "        self.name = name\n",
    "        self.age = age\n",
    "        self.address = address\n",
    "        self.college = college\n",
    "        self.faculty = faculty\n",
    "        self.roll_no = roll_no\n",
    "        self.subjects = []\n",
    "\n",
    "    def learn(self):\n",
    "        print(f\"Studnet is learning {self.subjects}.\")"
   ]
  },
  {
   "cell_type": "code",
   "execution_count": 11,
   "id": "6ac99663-9287-486e-b795-012248bf46a6",
   "metadata": {},
   "outputs": [
    {
     "name": "stdout",
     "output_type": "stream",
     "text": [
      "Studnet is learning [].\n"
     ]
    }
   ],
   "source": [
    "s1 = Student(name=\"Ram\", age = 23, address=\"ktm\", college= \"NCIT\", faculty=\"IT\", roll_no=1)\n",
    "s1.learn()"
   ]
  },
  {
   "cell_type": "code",
   "execution_count": 15,
   "id": "55d511dc-ca5d-4456-99d1-5d0eaa85a21f",
   "metadata": {},
   "outputs": [],
   "source": [
    "class Student: \n",
    "    def __init__(self, name, age, address, college, faculty, roll_no):\n",
    "        self.name = name\n",
    "        self.age = age\n",
    "        self.address = address\n",
    "        self.college = college\n",
    "        self.faculty = faculty\n",
    "        self.roll_no = roll_no\n",
    "        self.subjects = []\n",
    "\n",
    "    def learn(self):\n",
    "        print(f\"Studnet is learning {self.subjects}.\")\n",
    "\n",
    "    def add_subject(self,subject_name):\n",
    "        self.subjects.append(subject_name)"
   ]
  },
  {
   "cell_type": "code",
   "execution_count": 16,
   "id": "c968e752-b7f4-41b2-83f2-7f825ba31e55",
   "metadata": {},
   "outputs": [
    {
     "name": "stdout",
     "output_type": "stream",
     "text": [
      "Studnet is learning [].\n"
     ]
    }
   ],
   "source": [
    "s1 = Student(name=\"Ram\", age = 23, address=\"ktm\", college= \"NCIT\", faculty=\"IT\", roll_no=1)\n",
    "s1.learn()"
   ]
  },
  {
   "cell_type": "code",
   "execution_count": 17,
   "id": "72d46ffd-c0f8-459c-90fd-e6d59681f718",
   "metadata": {},
   "outputs": [
    {
     "name": "stdout",
     "output_type": "stream",
     "text": [
      "Studnet is learning ['HTML'].\n"
     ]
    }
   ],
   "source": [
    "s1.add_subject(\"HTML\")\n",
    "s1.learn()"
   ]
  },
  {
   "cell_type": "code",
   "execution_count": 21,
   "id": "9731af07-6ede-4676-a38e-47efd66c3615",
   "metadata": {},
   "outputs": [
    {
     "name": "stdout",
     "output_type": "stream",
     "text": [
      "Studnet is learning [].\n"
     ]
    }
   ],
   "source": [
    "s2 = Student(name=\"Shyam\", age = 23, address=\"ktm\", college= \"NCIT\", faculty=\"IT\", roll_no=1)\n",
    "s2.learn()"
   ]
  },
  {
   "cell_type": "code",
   "execution_count": 26,
   "id": "2475e5ee-7239-4e1e-b853-c9892b8eeada",
   "metadata": {},
   "outputs": [
    {
     "name": "stdout",
     "output_type": "stream",
     "text": [
      "Studnet is learning ['DJANGO', 'DJANGO', 'DJANGO', 'DJANGO', 'DJANGO'].\n"
     ]
    }
   ],
   "source": [
    "s2.add_subject(\"DJANGO\")\n",
    "s2.learn()"
   ]
  },
  {
   "cell_type": "code",
   "execution_count": 28,
   "id": "d4c9f1db-7d4f-4c99-ade7-68d8fdaf8b0e",
   "metadata": {},
   "outputs": [],
   "source": [
    "class Student: \n",
    "    def __init__(self, name, age, address, college, faculty, roll_no):\n",
    "        self.name = name\n",
    "        self.age = age\n",
    "        self.address = address\n",
    "        self.college = college\n",
    "        self.faculty = faculty\n",
    "        self.roll_no = roll_no\n",
    "        self.subjects = []\n",
    "\n",
    "    def learn(self):\n",
    "        print(f\"Studnet is learning {self.subjects}.\")\n",
    "\n",
    "    def add_subject(self,subject_name):\n",
    "        if subject_name not in self.subjects:\n",
    "            self.subjects.append(subject_name)"
   ]
  },
  {
   "cell_type": "code",
   "execution_count": 29,
   "id": "8a2f7c2e-2914-48aa-854e-56c3217753f3",
   "metadata": {},
   "outputs": [
    {
     "name": "stdout",
     "output_type": "stream",
     "text": [
      "Studnet is learning [].\n"
     ]
    }
   ],
   "source": [
    "s1 = Student(name=\"Ram\", age = 23, address=\"ktm\", college= \"NCIT\", faculty=\"IT\", roll_no=1)\n",
    "s1.learn()"
   ]
  },
  {
   "cell_type": "code",
   "execution_count": 30,
   "id": "a3e4165c-0fc7-4446-866b-d35de39fe6e8",
   "metadata": {},
   "outputs": [],
   "source": [
    "s1.add_subject(\"HTML\")"
   ]
  },
  {
   "cell_type": "code",
   "execution_count": 34,
   "id": "25121715-faa4-416f-82aa-01c2c3673906",
   "metadata": {},
   "outputs": [
    {
     "name": "stdout",
     "output_type": "stream",
     "text": [
      "Studnet is learning ['HTML'].\n"
     ]
    }
   ],
   "source": [
    "s1.learn()"
   ]
  },
  {
   "cell_type": "code",
   "execution_count": 44,
   "id": "3eabb3b9-a35e-4d8c-998f-946f389a7946",
   "metadata": {},
   "outputs": [],
   "source": [
    "class Rectangle:\n",
    "    def __init__(self, length, width):\n",
    "        self.l = length\n",
    "        self.w = width\n",
    "\n",
    "    def area(self):\n",
    "        return self.l*self.w\n",
    "\n",
    "    def perimeter(self):\n",
    "        return 2*(self.l+ self.w)    "
   ]
  },
  {
   "cell_type": "code",
   "execution_count": 45,
   "id": "47ef7ef1-ce58-4dbb-86d1-c56c6d9bd18b",
   "metadata": {},
   "outputs": [
    {
     "name": "stdout",
     "output_type": "stream",
     "text": [
      "50\n",
      "30\n"
     ]
    }
   ],
   "source": [
    "r1 = Rectangle(5,10)\n",
    "print(r1.area())\n",
    "print(r1.perimeter())"
   ]
  },
  {
   "cell_type": "code",
   "execution_count": 43,
   "id": "0330cfb1-3eee-4a08-b5a5-48d51f0d0ab7",
   "metadata": {},
   "outputs": [
    {
     "name": "stdin",
     "output_type": "stream",
     "text": [
      "Enter the length 5\n",
      "Enter the width 10\n"
     ]
    },
    {
     "ename": "NameError",
     "evalue": "name 'area' is not defined",
     "output_type": "error",
     "traceback": [
      "\u001b[1;31m---------------------------------------------------------------------------\u001b[0m",
      "\u001b[1;31mNameError\u001b[0m                                 Traceback (most recent call last)",
      "Cell \u001b[1;32mIn[43], line 3\u001b[0m\n\u001b[0;32m      1\u001b[0m length \u001b[38;5;241m=\u001b[39m \u001b[38;5;28mint\u001b[39m(\u001b[38;5;28minput\u001b[39m(\u001b[38;5;124m\"\u001b[39m\u001b[38;5;124mEnter the length\u001b[39m\u001b[38;5;124m\"\u001b[39m))\n\u001b[0;32m      2\u001b[0m width \u001b[38;5;241m=\u001b[39m \u001b[38;5;28mint\u001b[39m(\u001b[38;5;28minput\u001b[39m(\u001b[38;5;124m\"\u001b[39m\u001b[38;5;124mEnter the width\u001b[39m\u001b[38;5;124m\"\u001b[39m))\n\u001b[1;32m----> 3\u001b[0m \u001b[38;5;28mprint\u001b[39m(\u001b[38;5;124m\"\u001b[39m\u001b[38;5;124marea:\u001b[39m\u001b[38;5;124m\"\u001b[39m, \u001b[43marea\u001b[49m(\u001b[38;5;28mself\u001b[39m))\n",
      "\u001b[1;31mNameError\u001b[0m: name 'area' is not defined"
     ]
    }
   ],
   "source": [
    "length = int(input(\"Enter the length\"))\n",
    "width = int(input(\"Enter the width\"))\n",
    "print(\"area:\", area(self))"
   ]
  },
  {
   "cell_type": "code",
   "execution_count": 50,
   "id": "86bc05e3-77f5-4a99-8949-583642b79fca",
   "metadata": {},
   "outputs": [],
   "source": [
    "from math import pi\n",
    "\n",
    "class Circle:\n",
    "    def __init__(self,radius):\n",
    "        self.r = radius\n",
    "\n",
    "    def area(self):\n",
    "        return pi * self.r **2\n",
    "\n",
    "    def perimeter(self):\n",
    "        return 2 *pi * self.r"
   ]
  },
  {
   "cell_type": "code",
   "execution_count": 54,
   "id": "c7449d8e-bcda-4770-a36b-4c4b2c1c1bf2",
   "metadata": {},
   "outputs": [
    {
     "name": "stdout",
     "output_type": "stream",
     "text": [
      "314.1592653589793\n",
      "62\n"
     ]
    }
   ],
   "source": [
    "c1 = Circle(10)\n",
    "print(c1.area())\n",
    "print(int(c1.perimeter())) #int ma change gareko"
   ]
  },
  {
   "cell_type": "code",
   "execution_count": 56,
   "id": "55f140ce-369f-4a54-bcde-2edd4e82677b",
   "metadata": {},
   "outputs": [],
   "source": [
    "class Parent:\n",
    "    pass\n",
    "\n",
    "class Child(Parent):\n",
    "    pass"
   ]
  },
  {
   "cell_type": "code",
   "execution_count": 61,
   "id": "d9fd3924-6b4c-4f06-9022-aee9373cf0ae",
   "metadata": {},
   "outputs": [],
   "source": [
    "class Person:\n",
    "    def __init__(self,name,age,address):\n",
    "        self.name = name\n",
    "        self.age = age\n",
    "        self.address = address\n",
    "\n",
    "    def eat(self): \n",
    "        print(f'{self.name} is eating')\n",
    "\n",
    "    def sleep(self):\n",
    "        print(f'{self.name} is sleeping')\n",
    "\n",
    "    def info(self):\n",
    "        print(f\"Name:{self.name}\")\n",
    "        print(f\"AGe: {self.age}\")\n",
    "        print(f\"Address: {self.address}\")\n",
    "\n",
    "class Student(Person): #Inheritance\n",
    "    pass"
   ]
  },
  {
   "cell_type": "code",
   "execution_count": 66,
   "id": "192955cc-e613-441b-8ad6-a4c588f1a939",
   "metadata": {},
   "outputs": [
    {
     "name": "stdout",
     "output_type": "stream",
     "text": [
      "Name:ram\n",
      "AGe: 19\n",
      "Address: ktm\n"
     ]
    }
   ],
   "source": [
    "s1 = Person(name=\"ram\", age= 19, address=\"ktm\")\n",
    "s1.info()"
   ]
  },
  {
   "cell_type": "code",
   "execution_count": 74,
   "id": "efa7bc26-8277-4ba7-8b95-b07c89d57876",
   "metadata": {},
   "outputs": [],
   "source": [
    "class Person:\n",
    "    def __init__(self,name,age,address):\n",
    "        self.name = name\n",
    "        self.age = age\n",
    "        self.address = address\n",
    "\n",
    "    def eat(self): \n",
    "        print(f'{self.name} is eating')\n",
    "\n",
    "    def sleep(self):\n",
    "        print(f'{self.name} is sleeping')\n",
    "\n",
    "    def info(self):\n",
    "        print(f\"Name:{self.name}\")\n",
    "        print(f\"AGe: {self.age}\")\n",
    "        print(f\"Address: {self.address}\")\n",
    "\n",
    "class Student(Person): #Inheritance\n",
    "    def __init__(self,name,age,address, college,faculty,roll_no):\n",
    "        self.name = name\n",
    "        self.age =age\n",
    "        self.address = address\n",
    "        self.college = college\n",
    "        self.faculty = faculty\n",
    "        self.roll_no = roll_no\n",
    "\n",
    "    def learn(self):\n",
    "        print(f\"Student is learning{self.subjects}.\")\n",
    "\n",
    "    def add_subject(self,subject_name):\n",
    "        if subject_name not in self.subject:\n",
    "            self.subject.append(subject_name)\n",
    "\n",
    "    def info(self):\n",
    "        print(f\"Name: {self.name}\")\n",
    "        print(f\"Age: {self.age}\")\n",
    "        print(f\"Address: {self.address}\")\n",
    "        print(f\"College: {self.college}\")\n",
    "        print(f\"Faculty: {self.faculty}\")\n",
    "        print(f\"Roll_no: {self.roll_no}\")\n",
    "        print(f\"Subjects: {self.subject}\")       \n",
    "        "
   ]
  },
  {
   "cell_type": "code",
   "execution_count": 77,
   "id": "d0713031-33af-4a3a-ab77-7bd2a56f2930",
   "metadata": {},
   "outputs": [
    {
     "name": "stdout",
     "output_type": "stream",
     "text": [
      "Name: ram\n",
      "Age: 23\n",
      "Address: ktm\n",
      "College: NCIT\n",
      "Faculty: IT\n",
      "Roll_no: 3\n"
     ]
    },
    {
     "ename": "AttributeError",
     "evalue": "'Student' object has no attribute 'subject'",
     "output_type": "error",
     "traceback": [
      "\u001b[1;31m---------------------------------------------------------------------------\u001b[0m",
      "\u001b[1;31mAttributeError\u001b[0m                            Traceback (most recent call last)",
      "Cell \u001b[1;32mIn[77], line 2\u001b[0m\n\u001b[0;32m      1\u001b[0m s1 \u001b[38;5;241m=\u001b[39m Student(name \u001b[38;5;241m=\u001b[39m \u001b[38;5;124m\"\u001b[39m\u001b[38;5;124mram\u001b[39m\u001b[38;5;124m\"\u001b[39m, age \u001b[38;5;241m=\u001b[39m \u001b[38;5;241m23\u001b[39m, address \u001b[38;5;241m=\u001b[39m \u001b[38;5;124m\"\u001b[39m\u001b[38;5;124mktm\u001b[39m\u001b[38;5;124m\"\u001b[39m, college\u001b[38;5;241m=\u001b[39m\u001b[38;5;124m\"\u001b[39m\u001b[38;5;124mNCIT\u001b[39m\u001b[38;5;124m\"\u001b[39m, faculty \u001b[38;5;241m=\u001b[39m \u001b[38;5;124m\"\u001b[39m\u001b[38;5;124mIT\u001b[39m\u001b[38;5;124m\"\u001b[39m, roll_no \u001b[38;5;241m=\u001b[39m \u001b[38;5;241m3\u001b[39m)\n\u001b[1;32m----> 2\u001b[0m \u001b[43ms1\u001b[49m\u001b[38;5;241;43m.\u001b[39;49m\u001b[43minfo\u001b[49m\u001b[43m(\u001b[49m\u001b[43m)\u001b[49m\n",
      "Cell \u001b[1;32mIn[74], line 41\u001b[0m, in \u001b[0;36mStudent.info\u001b[1;34m(self)\u001b[0m\n\u001b[0;32m     39\u001b[0m \u001b[38;5;28mprint\u001b[39m(\u001b[38;5;124mf\u001b[39m\u001b[38;5;124m\"\u001b[39m\u001b[38;5;124mFaculty: \u001b[39m\u001b[38;5;132;01m{\u001b[39;00m\u001b[38;5;28mself\u001b[39m\u001b[38;5;241m.\u001b[39mfaculty\u001b[38;5;132;01m}\u001b[39;00m\u001b[38;5;124m\"\u001b[39m)\n\u001b[0;32m     40\u001b[0m \u001b[38;5;28mprint\u001b[39m(\u001b[38;5;124mf\u001b[39m\u001b[38;5;124m\"\u001b[39m\u001b[38;5;124mRoll_no: \u001b[39m\u001b[38;5;132;01m{\u001b[39;00m\u001b[38;5;28mself\u001b[39m\u001b[38;5;241m.\u001b[39mroll_no\u001b[38;5;132;01m}\u001b[39;00m\u001b[38;5;124m\"\u001b[39m)\n\u001b[1;32m---> 41\u001b[0m \u001b[38;5;28mprint\u001b[39m(\u001b[38;5;124mf\u001b[39m\u001b[38;5;124m\"\u001b[39m\u001b[38;5;124mSubjects: \u001b[39m\u001b[38;5;132;01m{\u001b[39;00m\u001b[38;5;28;43mself\u001b[39;49m\u001b[38;5;241;43m.\u001b[39;49m\u001b[43msubject\u001b[49m\u001b[38;5;132;01m}\u001b[39;00m\u001b[38;5;124m\"\u001b[39m)\n",
      "\u001b[1;31mAttributeError\u001b[0m: 'Student' object has no attribute 'subject'"
     ]
    }
   ],
   "source": [
    "s1 = Student(name = \"ram\", age = 23, address = \"ktm\", college=\"NCIT\", faculty = \"IT\", roll_no = 3)\n",
    "s1.info()"
   ]
  },
  {
   "cell_type": "code",
   "execution_count": null,
   "id": "87d37670-ad7a-4109-b1d4-f8d3b7044d08",
   "metadata": {},
   "outputs": [],
   "source": []
  },
  {
   "cell_type": "code",
   "execution_count": null,
   "id": "75404031-1b67-466c-b9e3-a137c1bf812c",
   "metadata": {},
   "outputs": [],
   "source": []
  },
  {
   "cell_type": "code",
   "execution_count": null,
   "id": "d2259e24-8a52-4ce7-b89c-d160bd0c689a",
   "metadata": {},
   "outputs": [],
   "source": []
  },
  {
   "cell_type": "code",
   "execution_count": null,
   "id": "8880957d-595c-4911-b0ed-82f98c23162a",
   "metadata": {},
   "outputs": [],
   "source": []
  },
  {
   "cell_type": "code",
   "execution_count": null,
   "id": "026abf7a-58fb-4ab4-b17e-ad8d8d406672",
   "metadata": {},
   "outputs": [],
   "source": []
  }
 ],
 "metadata": {
  "kernelspec": {
   "display_name": "Python 3 (ipykernel)",
   "language": "python",
   "name": "python3"
  },
  "language_info": {
   "codemirror_mode": {
    "name": "ipython",
    "version": 3
   },
   "file_extension": ".py",
   "mimetype": "text/x-python",
   "name": "python",
   "nbconvert_exporter": "python",
   "pygments_lexer": "ipython3",
   "version": "3.11.4"
  }
 },
 "nbformat": 4,
 "nbformat_minor": 5
}
