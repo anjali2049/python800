{
 "cells": [
  {
   "cell_type": "code",
   "execution_count": 3,
   "id": "30d1cb48-a8a3-4c18-922d-24388106b7bf",
   "metadata": {},
   "outputs": [
    {
     "data": {
      "text/plain": [
       "[1, 2, 3, 5, 7, 9, 8, 7]"
      ]
     },
     "execution_count": 3,
     "metadata": {},
     "output_type": "execute_result"
    }
   ],
   "source": [
    "a = [1, 2 , 3, 5, 7 ,9, 8, 7]\n",
    "a[:] # to print all elements in the list"
   ]
  },
  {
   "cell_type": "code",
   "execution_count": 10,
   "id": "09a63968-a2d1-460e-afd8-3c432ed06df3",
   "metadata": {},
   "outputs": [
    {
     "data": {
      "text/plain": [
       "3"
      ]
     },
     "execution_count": 10,
     "metadata": {},
     "output_type": "execute_result"
    }
   ],
   "source": [
    "a = [1, 2, 3, 5, 7 , 9, 8, 7]\n",
    "a[2] #to print specific element which lies in 3rd position in the list"
   ]
  },
  {
   "cell_type": "code",
   "execution_count": 8,
   "id": "48f3f7d7-c290-488d-9b18-ef1a893e4d8f",
   "metadata": {},
   "outputs": [
    {
     "name": "stdout",
     "output_type": "stream",
     "text": [
      "a[2] =  3\n"
     ]
    }
   ],
   "source": [
    "print(\"a[2] = \", a[2]) #print garda pani a[2 ]=3 vanne print garna ko lagi ' 'bhitra 'a[2] = ' rakheko so output testo aayo,\n",
    "#navaye mathi ko jasto just 3 matra aauthyo"
   ]
  },
  {
   "cell_type": "code",
   "execution_count": 10,
   "id": "b9b1116e-77aa-4bcc-a6f0-9e725315ac36",
   "metadata": {},
   "outputs": [
    {
     "name": "stdout",
     "output_type": "stream",
     "text": [
      "a[0:3]=  [1, 2, 3]\n"
     ]
    }
   ],
   "source": [
    "print(\"a[0:3]= \", a[0:3]) #(\"a[0:3]= \" lyaunai ko lagi string ma rakheko otherwise answer muni ko jasto aauxa"
   ]
  },
  {
   "cell_type": "code",
   "execution_count": 12,
   "id": "f225a23d-398b-461e-ae02-6a96e1705dce",
   "metadata": {},
   "outputs": [
    {
     "data": {
      "text/plain": [
       "[1, 2, 3]"
      ]
     },
     "execution_count": 12,
     "metadata": {},
     "output_type": "execute_result"
    }
   ],
   "source": [
    "a[0:3] # 0(first) dekhi 3 wata samma"
   ]
  },
  {
   "cell_type": "code",
   "execution_count": 16,
   "id": "0096ce23-bfec-4912-ad32-59b44b75a91b",
   "metadata": {},
   "outputs": [
    {
     "data": {
      "text/plain": [
       "[1, 2, 3, 5, 7]"
      ]
     },
     "execution_count": 16,
     "metadata": {},
     "output_type": "execute_result"
    }
   ],
   "source": [
    "a[0:5] # 0 dekhi 5 wata samma"
   ]
  },
  {
   "cell_type": "code",
   "execution_count": 11,
   "id": "62f3e92f-4c18-41c7-a99d-de7b831e51b0",
   "metadata": {},
   "outputs": [
    {
     "data": {
      "text/plain": [
       "[1, 2, 3, 5, 7, 9]"
      ]
     },
     "execution_count": 11,
     "metadata": {},
     "output_type": "execute_result"
    }
   ],
   "source": [
    "a[0:6]  # :vaneko infinity wa suru dekhi vaneko ho, 0 dekhi 4(5-1) samma vaneko ho"
   ]
  },
  {
   "cell_type": "code",
   "execution_count": 14,
   "id": "ac088664-e03b-45b0-8daa-2c9969055ba1",
   "metadata": {},
   "outputs": [
    {
     "data": {
      "text/plain": [
       "[3, 5, 7, 9, 8, 7]"
      ]
     },
     "execution_count": 14,
     "metadata": {},
     "output_type": "execute_result"
    }
   ],
   "source": [
    "a[2:] #0,1 chhadera 2 dekhi mean 2+1 3rd element dekhi sapai print vaneko"
   ]
  },
  {
   "cell_type": "code",
   "execution_count": 17,
   "id": "be693406-37f2-40f8-a918-3f4daa1b745e",
   "metadata": {},
   "outputs": [
    {
     "data": {
      "text/plain": [
       "[2, 3, 5, 7, 9]"
      ]
     },
     "execution_count": 17,
     "metadata": {},
     "output_type": "execute_result"
    }
   ],
   "source": [
    "a = [1, 2, 3, 5, 7 , 9, 8, 7] # -vaneko reverse bata ho\n",
    "a[1:-2]"
   ]
  },
  {
   "cell_type": "code",
   "execution_count": 21,
   "id": "e3ba2356-cbfb-4677-a9fa-4214f07d4374",
   "metadata": {},
   "outputs": [
    {
     "data": {
      "text/plain": [
       "[7, 9]"
      ]
     },
     "execution_count": 21,
     "metadata": {},
     "output_type": "execute_result"
    }
   ],
   "source": [
    "a[4:6]"
   ]
  },
  {
   "cell_type": "code",
   "execution_count": 24,
   "id": "0474eae5-dd38-416e-9fcc-2ce65a1f578d",
   "metadata": {},
   "outputs": [
    {
     "name": "stdout",
     "output_type": "stream",
     "text": [
      "[1, 2, 3, 55, 7, 9, 8, 7]\n"
     ]
    }
   ],
   "source": [
    "a[3] = 55 #lists are mutable, means the value of elements of a list can be changed, like i changed element 5 to 55\n",
    "print(a)"
   ]
  },
  {
   "cell_type": "code",
   "execution_count": 30,
   "id": "629f7858-ab6c-4a87-aa73-e6040b9700ff",
   "metadata": {},
   "outputs": [
    {
     "data": {
      "text/plain": [
       "(5.5, 'we', 56)"
      ]
     },
     "execution_count": 30,
     "metadata": {},
     "output_type": "execute_result"
    }
   ],
   "source": [
    "a = (\"my\", 123, 3.2, 5.5, \"we\", 56, 23, 65, \"i\") \n",
    "\n",
    "# we can use differents types of data in tuple and must be seperated by commas\n",
    "#we can not modify value of elements like in list but we can seperate elements\n",
    "\n",
    "a[3 : 6]"
   ]
  },
  {
   "cell_type": "code",
   "execution_count": 36,
   "id": "dc645d34-face-4200-9b33-bfcabbe7baef",
   "metadata": {},
   "outputs": [
    {
     "ename": "SyntaxError",
     "evalue": "cannot assign to function call here. Maybe you meant '==' instead of '='? (3574304057.py, line 1)",
     "output_type": "error",
     "traceback": [
      "\u001b[1;36m  Cell \u001b[1;32mIn[36], line 1\u001b[1;36m\u001b[0m\n\u001b[1;33m    a(5) = 63 #trying to change value of element 56 to 63 but generates error\u001b[0m\n\u001b[1;37m    ^\u001b[0m\n\u001b[1;31mSyntaxError\u001b[0m\u001b[1;31m:\u001b[0m cannot assign to function call here. Maybe you meant '==' instead of '='?\n"
     ]
    }
   ],
   "source": [
    "a(5) = 63 #trying to change value of element 56 to 63 but generates error\n",
    "\n",
    "#tuples are immutable, can not be altered\n"
   ]
  },
  {
   "cell_type": "markdown",
   "id": "99a01171-39f2-424a-a654-d1c49232033c",
   "metadata": {},
   "source": []
  },
  {
   "cell_type": "code",
   "execution_count": null,
   "id": "92812d62-5aee-4654-bebb-d35469f0be81",
   "metadata": {},
   "outputs": [],
   "source": []
  },
  {
   "cell_type": "markdown",
   "id": "ac586e35-99cc-4c09-a91a-e01ffb9312e7",
   "metadata": {},
   "source": []
  },
  {
   "cell_type": "code",
   "execution_count": null,
   "id": "0c2e9040-81f4-4e8b-8936-372da3bd91e4",
   "metadata": {},
   "outputs": [],
   "source": []
  },
  {
   "cell_type": "code",
   "execution_count": null,
   "id": "53af59ff-5969-4cce-b1d5-bfe6acf66a7f",
   "metadata": {},
   "outputs": [],
   "source": []
  },
  {
   "cell_type": "code",
   "execution_count": null,
   "id": "22fffc47-8148-495a-97b7-38fa39872640",
   "metadata": {},
   "outputs": [],
   "source": []
  }
 ],
 "metadata": {
  "kernelspec": {
   "display_name": "Python 3 (ipykernel)",
   "language": "python",
   "name": "python3"
  },
  "language_info": {
   "codemirror_mode": {
    "name": "ipython",
    "version": 3
   },
   "file_extension": ".py",
   "mimetype": "text/x-python",
   "name": "python",
   "nbconvert_exporter": "python",
   "pygments_lexer": "ipython3",
   "version": "3.11.4"
  }
 },
 "nbformat": 4,
 "nbformat_minor": 5
}
