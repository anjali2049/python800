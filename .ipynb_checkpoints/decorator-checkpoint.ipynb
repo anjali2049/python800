{
 "cells": [
  {
   "cell_type": "code",
   "execution_count": 1,
   "id": "450bd3f9-cca5-47a9-a0d1-e527f1c322a2",
   "metadata": {},
   "outputs": [],
   "source": [
    "def is_odd(n):\n",
    "    return n % 2 == 1"
   ]
  },
  {
   "cell_type": "code",
   "execution_count": 2,
   "id": "8a97dd7a-3eb2-4f4d-a2aa-f0bb3316a444",
   "metadata": {},
   "outputs": [
    {
     "data": {
      "text/plain": [
       "[1, 3]"
      ]
     },
     "execution_count": 2,
     "metadata": {},
     "output_type": "execute_result"
    }
   ],
   "source": [
    "list(filter(is_odd, [ 1,2,3,4,4]))"
   ]
  },
  {
   "cell_type": "code",
   "execution_count": 3,
   "id": "5892c124-16e4-4f1b-bf43-6496311bd7c6",
   "metadata": {},
   "outputs": [
    {
     "data": {
      "text/plain": [
       "[1, 3]"
      ]
     },
     "execution_count": 3,
     "metadata": {},
     "output_type": "execute_result"
    }
   ],
   "source": [
    "list(filter(lambda x:x% 2 == 1, [1,2,3,4,4]))"
   ]
  },
  {
   "cell_type": "code",
   "execution_count": 4,
   "id": "e6a61b2d-5a90-4d0d-985d-6b5f3e9f9af1",
   "metadata": {},
   "outputs": [],
   "source": [
    "#higher order function => filter, map, reduce"
   ]
  },
  {
   "cell_type": "code",
   "execution_count": 5,
   "id": "7098d14e-e6c6-481c-b5d0-c610515c4154",
   "metadata": {},
   "outputs": [],
   "source": [
    "def hello():\n",
    "    return \"hello\""
   ]
  },
  {
   "cell_type": "code",
   "execution_count": 6,
   "id": "c8cb17ad-ffc9-4ae3-aaa4-bba70338da6f",
   "metadata": {},
   "outputs": [],
   "source": [
    "def higher_order_function(fn): #we are expecting function in fn.variable\n",
    "    x = fn()\n",
    "    print(x)"
   ]
  },
  {
   "cell_type": "code",
   "execution_count": 7,
   "id": "b2114d75-4279-4e50-a639-20c916b5b774",
   "metadata": {},
   "outputs": [
    {
     "name": "stdout",
     "output_type": "stream",
     "text": [
      "hello\n"
     ]
    }
   ],
   "source": [
    "higher_order_function(hello)"
   ]
  },
  {
   "cell_type": "code",
   "execution_count": 11,
   "id": "0797d40e-5570-4624-8a85-402351d67722",
   "metadata": {},
   "outputs": [],
   "source": [
    "def addition(iterable): \n",
    "    sum = 0\n",
    "    for i in iterable:\n",
    "        sum += i\n",
    "    return sum"
   ]
  },
  {
   "cell_type": "code",
   "execution_count": 12,
   "id": "0945cfcc-7915-4836-ae44-88e1967a599c",
   "metadata": {},
   "outputs": [],
   "source": [
    "def higher_order_function(fn, iterable):\n",
    "    x = fn(iterable)\n",
    "    return x"
   ]
  },
  {
   "cell_type": "code",
   "execution_count": 13,
   "id": "31953341-1bba-4947-ada5-f0aefd47fdf7",
   "metadata": {},
   "outputs": [
    {
     "data": {
      "text/plain": [
       "15"
      ]
     },
     "execution_count": 13,
     "metadata": {},
     "output_type": "execute_result"
    }
   ],
   "source": [
    "higher_order_function(addition, [1,2,3,4,5])"
   ]
  },
  {
   "cell_type": "code",
   "execution_count": 14,
   "id": "a0d71f4a-54f2-4fde-a7ad-59a7c2f02b53",
   "metadata": {},
   "outputs": [
    {
     "name": "stdout",
     "output_type": "stream",
     "text": [
      "1\n"
     ]
    }
   ],
   "source": [
    "x = 1 #global scope\n",
    "\n",
    "def outer():\n",
    "    print(x) #local space => global space\n",
    "    \n",
    "outer()"
   ]
  },
  {
   "cell_type": "code",
   "execution_count": 16,
   "id": "126ce03b-9595-41fc-851e-d79fa648bdf3",
   "metadata": {},
   "outputs": [
    {
     "name": "stdout",
     "output_type": "stream",
     "text": [
      "1\n"
     ]
    }
   ],
   "source": [
    "def outer():\n",
    "    x = 1 #local scope\n",
    "    print(x) # local scope=> 1\n",
    "outer()"
   ]
  },
  {
   "cell_type": "code",
   "execution_count": 18,
   "id": "797efbc2-2892-4ca9-adca-3c7056c3b1b6",
   "metadata": {},
   "outputs": [],
   "source": [
    "del x #mati function ma rakheko value delete garna"
   ]
  },
  {
   "cell_type": "code",
   "execution_count": 17,
   "id": "1b0890dd-0b05-4547-bc4b-c7ccc0418ad3",
   "metadata": {},
   "outputs": [
    {
     "name": "stdout",
     "output_type": "stream",
     "text": [
      "11\n"
     ]
    }
   ],
   "source": [
    "def outer():\n",
    "    x = 11 #local scope => outer function ko local scpoe\n",
    "\n",
    "    def inner():\n",
    "        print(x) # local scope => non local scope +> global pani haina, local pani haina\n",
    "\n",
    "    inner()\n",
    "\n",
    "outer()"
   ]
  },
  {
   "cell_type": "code",
   "execution_count": 20,
   "id": "0974c65e-80e6-4c61-a042-770b43f4de67",
   "metadata": {},
   "outputs": [
    {
     "name": "stdout",
     "output_type": "stream",
     "text": [
      "11\n",
      "None\n"
     ]
    }
   ],
   "source": [
    "def outer():\n",
    "    x = 11 \n",
    "\n",
    "    def inner():\n",
    "        print(x)  \n",
    "        \n",
    "    inner() #none\n",
    "\n",
    "y = outer() #none\n",
    "print(y)"
   ]
  },
  {
   "cell_type": "code",
   "execution_count": 21,
   "id": "384fda17-bf85-4258-98dd-d97da1249ac1",
   "metadata": {},
   "outputs": [
    {
     "name": "stdout",
     "output_type": "stream",
     "text": [
      "None\n"
     ]
    }
   ],
   "source": [
    "def outer():\n",
    "    x = 11 \n",
    "\n",
    "    def inner():\n",
    "        return x  \n",
    "        \n",
    "    inner() #11\n",
    "\n",
    "y = outer() #none\n",
    "print(y)"
   ]
  },
  {
   "cell_type": "code",
   "execution_count": 22,
   "id": "adaa931d-8483-4155-a6a6-b7ef9714fbfb",
   "metadata": {},
   "outputs": [
    {
     "name": "stdout",
     "output_type": "stream",
     "text": [
      "11\n"
     ]
    }
   ],
   "source": [
    "def outer():\n",
    "    x = 11 \n",
    "\n",
    "    def inner():\n",
    "        return x  \n",
    "        \n",
    "    return inner() #11 function return gareko karan le value payo\n",
    "\n",
    "y = outer() \n",
    "print(y)"
   ]
  },
  {
   "cell_type": "code",
   "execution_count": 24,
   "id": "987e1594-e654-4302-81b5-2b7d00b126c0",
   "metadata": {},
   "outputs": [
    {
     "name": "stdout",
     "output_type": "stream",
     "text": [
      "<function outer.<locals>.inner at 0x00000209C7CFED40>\n",
      "11\n"
     ]
    }
   ],
   "source": [
    "def outer():\n",
    "    \n",
    "     \n",
    "    ####closure\n",
    "    x = 11\n",
    "    def inner():\n",
    "        return x  \n",
    "    ######### closure\n",
    "    \n",
    "    return inner\n",
    "\n",
    "y = outer() #function\n",
    "print(y)\n",
    "print(y())"
   ]
  },
  {
   "cell_type": "code",
   "execution_count": 25,
   "id": "dfe9e858-bcd0-490a-b1c2-7f33011cb9ae",
   "metadata": {},
   "outputs": [],
   "source": [
    "del outer #closure form vayo vane delete garda pani kai na kai basirakeko hinxa, value call garda aauxa"
   ]
  },
  {
   "cell_type": "code",
   "execution_count": 28,
   "id": "f5d1cb81-b99d-4be8-bcf9-a5ad84b04297",
   "metadata": {},
   "outputs": [
    {
     "data": {
      "text/plain": [
       "11"
      ]
     },
     "execution_count": 28,
     "metadata": {},
     "output_type": "execute_result"
    }
   ],
   "source": [
    "y() #delete garda pani value aairaxa"
   ]
  },
  {
   "cell_type": "code",
   "execution_count": 29,
   "id": "28ec53b1-9841-44f6-8d83-98fb31bacd42",
   "metadata": {},
   "outputs": [
    {
     "name": "stdout",
     "output_type": "stream",
     "text": [
      "11\n"
     ]
    }
   ],
   "source": [
    "def outer():\n",
    "    \n",
    "     \n",
    "    ####closure\n",
    "    x = 11\n",
    "    def inner():\n",
    "        return x  \n",
    "    ######### closure\n",
    "    \n",
    "    return inner\n",
    "\n",
    "y = outer()() #function\n",
    "print(y)\n"
   ]
  },
  {
   "cell_type": "code",
   "execution_count": null,
   "id": "cc88ef42-94f0-4c93-ba87-f1710bb7c267",
   "metadata": {},
   "outputs": [],
   "source": [
    "def outer(fn):\n",
    "    def inner():\n",
    "        print(\"********\")\n",
    "        x = fn()\n",
    "        print(x)\n",
    "        print(\"********\")\n",
    "\n",
    "    return inner"
   ]
  },
  {
   "cell_type": "code",
   "execution_count": 31,
   "id": "0bac8fa0-51aa-40bc-990f-ed5c4a56eb56",
   "metadata": {},
   "outputs": [],
   "source": [
    "def hello():\n",
    "    return 'hello'"
   ]
  },
  {
   "cell_type": "code",
   "execution_count": 35,
   "id": "1707fb1e-0ff0-4dff-8351-667ebf270b1f",
   "metadata": {},
   "outputs": [
    {
     "name": "stdout",
     "output_type": "stream",
     "text": [
      "<function outer.<locals>.inner at 0x00000209C7CFEFC0>\n"
     ]
    }
   ],
   "source": [
    "o = outer(hello)\n",
    "print(o)"
   ]
  },
  {
   "cell_type": "code",
   "execution_count": 36,
   "id": "1e62d1da-8b43-4aee-bca3-9ab8b63b9591",
   "metadata": {},
   "outputs": [
    {
     "name": "stdout",
     "output_type": "stream",
     "text": [
      "********\n",
      "hello\n",
      "********\n"
     ]
    }
   ],
   "source": [
    "o()"
   ]
  },
  {
   "cell_type": "code",
   "execution_count": 33,
   "id": "3d764014-b162-4c9e-b7b8-7e0440e6e532",
   "metadata": {},
   "outputs": [],
   "source": [
    "def outer(fn):\n",
    "    def inner():\n",
    "        print(\"********\")\n",
    "        x = fn()\n",
    "        print(x)\n",
    "        print(\"********\")\n",
    "\n",
    "    return inner\n",
    "\n",
    "def hello():\n",
    "    return 'hello'"
   ]
  },
  {
   "cell_type": "code",
   "execution_count": 34,
   "id": "59314ca7-6855-444e-ab27-e592321cfacd",
   "metadata": {},
   "outputs": [
    {
     "name": "stdout",
     "output_type": "stream",
     "text": [
      "********\n",
      "hello\n",
      "********\n"
     ]
    }
   ],
   "source": [
    "o = outer(hello)()"
   ]
  },
  {
   "cell_type": "code",
   "execution_count": 37,
   "id": "0904c027-be8f-4bf5-a785-e584979dbc07",
   "metadata": {},
   "outputs": [
    {
     "name": "stdout",
     "output_type": "stream",
     "text": [
      "3\n"
     ]
    }
   ],
   "source": [
    "x = 1\n",
    "x = x + 2\n",
    "\n",
    "print(x)"
   ]
  },
  {
   "cell_type": "code",
   "execution_count": 38,
   "id": "9031be38-5ef6-441c-9f72-64c3d4ab42b0",
   "metadata": {},
   "outputs": [],
   "source": [
    "def outer(fn):\n",
    "    def inner():\n",
    "        print(\"********\")\n",
    "        x = fn()\n",
    "        print(x)\n",
    "        print(\"********\")\n",
    "\n",
    "    return inner\n",
    "\n",
    "def hello():\n",
    "    return 'hello'"
   ]
  },
  {
   "cell_type": "code",
   "execution_count": 43,
   "id": "69dd2380-00a3-461e-8926-360d0957e0b8",
   "metadata": {},
   "outputs": [
    {
     "name": "stdout",
     "output_type": "stream",
     "text": [
      "()\n"
     ]
    }
   ],
   "source": [
    "print(hello)"
   ]
  },
  {
   "cell_type": "code",
   "execution_count": 39,
   "id": "acefd04b-08d4-4525-9207-a463509e7eca",
   "metadata": {},
   "outputs": [],
   "source": [
    "hello = outer(hello) #decorator"
   ]
  },
  {
   "cell_type": "code",
   "execution_count": 40,
   "id": "8adb3d8d-6620-4f42-9ab6-6858fac714dd",
   "metadata": {},
   "outputs": [
    {
     "name": "stdout",
     "output_type": "stream",
     "text": [
      "********\n",
      "hello\n",
      "********\n"
     ]
    }
   ],
   "source": [
    "hello()"
   ]
  },
  {
   "cell_type": "code",
   "execution_count": 44,
   "id": "67c1d3d2-c287-4e0b-b561-87618c499da1",
   "metadata": {},
   "outputs": [],
   "source": [
    "def outer(fn):\n",
    "    def inner():\n",
    "        print(\"********\")\n",
    "        x = fn()\n",
    "        print(x)\n",
    "        print(\"********\")\n",
    "\n",
    "    return inner\n",
    "\n",
    "#hello = outer(hello) #decorator\n",
    "\n",
    "@outer #another way to make decorator\n",
    "def hello():\n",
    "    return 'hello'"
   ]
  },
  {
   "cell_type": "code",
   "execution_count": 45,
   "id": "c09772c4-c078-4730-8f79-6ea0b4f235bd",
   "metadata": {},
   "outputs": [
    {
     "name": "stdout",
     "output_type": "stream",
     "text": [
      "********\n",
      "hello\n",
      "********\n"
     ]
    }
   ],
   "source": [
    "hello()"
   ]
  },
  {
   "cell_type": "code",
   "execution_count": 46,
   "id": "4d5b5b54-24ab-4b22-8091-73f7b373015b",
   "metadata": {},
   "outputs": [],
   "source": [
    "def outer(fn):\n",
    "    def inner():\n",
    "        print(\"********\")\n",
    "        x = fn()\n",
    "        print(x)\n",
    "        print(\"********\")\n",
    "\n",
    "    return inner\n",
    "\n",
    "#hello = outer(hello) #decorator\n",
    "\n",
    "@outer #another way to make decorator\n",
    "def hi():\n",
    "    return 'hi hello 123'"
   ]
  },
  {
   "cell_type": "code",
   "execution_count": 47,
   "id": "5a3ff854-cd1f-475b-b41a-f358499b9bab",
   "metadata": {},
   "outputs": [
    {
     "name": "stdout",
     "output_type": "stream",
     "text": [
      "********\n",
      "hi hello 123\n",
      "********\n"
     ]
    }
   ],
   "source": [
    "hi()"
   ]
  },
  {
   "cell_type": "code",
   "execution_count": 51,
   "id": "3ef0dd21-4fc1-4714-b0bc-47bd33952415",
   "metadata": {},
   "outputs": [],
   "source": [
    "@outer #decorator is for multiple use of same code\n",
    "def full_name():\n",
    "    return \"ramesh pradhan\""
   ]
  },
  {
   "cell_type": "code",
   "execution_count": 52,
   "id": "425c439c-beb9-407d-a1ca-ca14f4a8330d",
   "metadata": {},
   "outputs": [
    {
     "name": "stdout",
     "output_type": "stream",
     "text": [
      "********\n",
      "ramesh pradhan\n",
      "********\n"
     ]
    }
   ],
   "source": [
    "full_name()"
   ]
  },
  {
   "cell_type": "code",
   "execution_count": 1,
   "id": "4f89b31b-b089-4c18-8b41-314357df04f0",
   "metadata": {},
   "outputs": [
    {
     "data": {
      "text/plain": [
       "'HI HELLO 123'"
      ]
     },
     "execution_count": 1,
     "metadata": {},
     "output_type": "execute_result"
    }
   ],
   "source": [
    "def hi():\n",
    "    return 'hi hello 123'.upper()\n",
    "\n",
    "hi()"
   ]
  },
  {
   "cell_type": "code",
   "execution_count": 2,
   "id": "6a7f8617-7820-4de2-bf3f-72c8ebaedf78",
   "metadata": {},
   "outputs": [],
   "source": [
    "def to_uppercase(fn):\n",
    "    def inner():\n",
    "        x = fn().upper()\n",
    "        return x\n",
    "\n",
    "    return inner\n",
    "\n",
    "#hi = to_uppercase (hi) # decorator\n",
    "\n",
    "@to_uppercase\n",
    "def hi():\n",
    "    return 'hi hello 123'"
   ]
  },
  {
   "cell_type": "code",
   "execution_count": 3,
   "id": "914c5678-aa3c-4b9c-bb33-d150562d5bc2",
   "metadata": {},
   "outputs": [
    {
     "data": {
      "text/plain": [
       "'HI HELLO 123'"
      ]
     },
     "execution_count": 3,
     "metadata": {},
     "output_type": "execute_result"
    }
   ],
   "source": [
    "hi()"
   ]
  },
  {
   "cell_type": "code",
   "execution_count": 4,
   "id": "7123d03d-3207-4b64-8f80-f03b9b0f9338",
   "metadata": {},
   "outputs": [],
   "source": [
    "def multiplication(n):\n",
    "    mul = 1\n",
    "    for i in range(1, n+1):\n",
    "        mul *= i\n",
    "    return mul"
   ]
  },
  {
   "cell_type": "code",
   "execution_count": 5,
   "id": "a4812811-f82a-4a95-ac50-548e0510309d",
   "metadata": {},
   "outputs": [
    {
     "data": {
      "text/plain": [
       "120"
      ]
     },
     "execution_count": 5,
     "metadata": {},
     "output_type": "execute_result"
    }
   ],
   "source": [
    "multiplication(5)"
   ]
  },
  {
   "cell_type": "code",
   "execution_count": 6,
   "id": "15339ef9-4f9b-4083-b639-12bacec6c194",
   "metadata": {},
   "outputs": [
    {
     "ename": "ValueError",
     "evalue": "Exceeds the limit (4300 digits) for integer string conversion; use sys.set_int_max_str_digits() to increase the limit",
     "output_type": "error",
     "traceback": [
      "\u001b[1;31m---------------------------------------------------------------------------\u001b[0m",
      "\u001b[1;31mValueError\u001b[0m                                Traceback (most recent call last)",
      "File \u001b[1;32m~\\AppData\\Local\\Programs\\Python\\Python311\\Lib\\site-packages\\IPython\\core\\formatters.py:708\u001b[0m, in \u001b[0;36mPlainTextFormatter.__call__\u001b[1;34m(self, obj)\u001b[0m\n\u001b[0;32m    701\u001b[0m stream \u001b[38;5;241m=\u001b[39m StringIO()\n\u001b[0;32m    702\u001b[0m printer \u001b[38;5;241m=\u001b[39m pretty\u001b[38;5;241m.\u001b[39mRepresentationPrinter(stream, \u001b[38;5;28mself\u001b[39m\u001b[38;5;241m.\u001b[39mverbose,\n\u001b[0;32m    703\u001b[0m     \u001b[38;5;28mself\u001b[39m\u001b[38;5;241m.\u001b[39mmax_width, \u001b[38;5;28mself\u001b[39m\u001b[38;5;241m.\u001b[39mnewline,\n\u001b[0;32m    704\u001b[0m     max_seq_length\u001b[38;5;241m=\u001b[39m\u001b[38;5;28mself\u001b[39m\u001b[38;5;241m.\u001b[39mmax_seq_length,\n\u001b[0;32m    705\u001b[0m     singleton_pprinters\u001b[38;5;241m=\u001b[39m\u001b[38;5;28mself\u001b[39m\u001b[38;5;241m.\u001b[39msingleton_printers,\n\u001b[0;32m    706\u001b[0m     type_pprinters\u001b[38;5;241m=\u001b[39m\u001b[38;5;28mself\u001b[39m\u001b[38;5;241m.\u001b[39mtype_printers,\n\u001b[0;32m    707\u001b[0m     deferred_pprinters\u001b[38;5;241m=\u001b[39m\u001b[38;5;28mself\u001b[39m\u001b[38;5;241m.\u001b[39mdeferred_printers)\n\u001b[1;32m--> 708\u001b[0m \u001b[43mprinter\u001b[49m\u001b[38;5;241;43m.\u001b[39;49m\u001b[43mpretty\u001b[49m\u001b[43m(\u001b[49m\u001b[43mobj\u001b[49m\u001b[43m)\u001b[49m\n\u001b[0;32m    709\u001b[0m printer\u001b[38;5;241m.\u001b[39mflush()\n\u001b[0;32m    710\u001b[0m \u001b[38;5;28;01mreturn\u001b[39;00m stream\u001b[38;5;241m.\u001b[39mgetvalue()\n",
      "File \u001b[1;32m~\\AppData\\Local\\Programs\\Python\\Python311\\Lib\\site-packages\\IPython\\lib\\pretty.py:393\u001b[0m, in \u001b[0;36mRepresentationPrinter.pretty\u001b[1;34m(self, obj)\u001b[0m\n\u001b[0;32m    390\u001b[0m \u001b[38;5;28;01mfor\u001b[39;00m \u001b[38;5;28mcls\u001b[39m \u001b[38;5;129;01min\u001b[39;00m _get_mro(obj_class):\n\u001b[0;32m    391\u001b[0m     \u001b[38;5;28;01mif\u001b[39;00m \u001b[38;5;28mcls\u001b[39m \u001b[38;5;129;01min\u001b[39;00m \u001b[38;5;28mself\u001b[39m\u001b[38;5;241m.\u001b[39mtype_pprinters:\n\u001b[0;32m    392\u001b[0m         \u001b[38;5;66;03m# printer registered in self.type_pprinters\u001b[39;00m\n\u001b[1;32m--> 393\u001b[0m         \u001b[38;5;28;01mreturn\u001b[39;00m \u001b[38;5;28;43mself\u001b[39;49m\u001b[38;5;241;43m.\u001b[39;49m\u001b[43mtype_pprinters\u001b[49m\u001b[43m[\u001b[49m\u001b[38;5;28;43mcls\u001b[39;49m\u001b[43m]\u001b[49m\u001b[43m(\u001b[49m\u001b[43mobj\u001b[49m\u001b[43m,\u001b[49m\u001b[43m \u001b[49m\u001b[38;5;28;43mself\u001b[39;49m\u001b[43m,\u001b[49m\u001b[43m \u001b[49m\u001b[43mcycle\u001b[49m\u001b[43m)\u001b[49m\n\u001b[0;32m    394\u001b[0m     \u001b[38;5;28;01melse\u001b[39;00m:\n\u001b[0;32m    395\u001b[0m         \u001b[38;5;66;03m# deferred printer\u001b[39;00m\n\u001b[0;32m    396\u001b[0m         printer \u001b[38;5;241m=\u001b[39m \u001b[38;5;28mself\u001b[39m\u001b[38;5;241m.\u001b[39m_in_deferred_types(\u001b[38;5;28mcls\u001b[39m)\n",
      "File \u001b[1;32m~\\AppData\\Local\\Programs\\Python\\Python311\\Lib\\site-packages\\IPython\\lib\\pretty.py:778\u001b[0m, in \u001b[0;36m_repr_pprint\u001b[1;34m(obj, p, cycle)\u001b[0m\n\u001b[0;32m    776\u001b[0m \u001b[38;5;250m\u001b[39m\u001b[38;5;124;03m\"\"\"A pprint that just redirects to the normal repr function.\"\"\"\u001b[39;00m\n\u001b[0;32m    777\u001b[0m \u001b[38;5;66;03m# Find newlines and replace them with p.break_()\u001b[39;00m\n\u001b[1;32m--> 778\u001b[0m output \u001b[38;5;241m=\u001b[39m \u001b[38;5;28;43mrepr\u001b[39;49m\u001b[43m(\u001b[49m\u001b[43mobj\u001b[49m\u001b[43m)\u001b[49m\n\u001b[0;32m    779\u001b[0m lines \u001b[38;5;241m=\u001b[39m output\u001b[38;5;241m.\u001b[39msplitlines()\n\u001b[0;32m    780\u001b[0m \u001b[38;5;28;01mwith\u001b[39;00m p\u001b[38;5;241m.\u001b[39mgroup():\n",
      "\u001b[1;31mValueError\u001b[0m: Exceeds the limit (4300 digits) for integer string conversion; use sys.set_int_max_str_digits() to increase the limit"
     ]
    }
   ],
   "source": [
    "multiplication(100000)"
   ]
  },
  {
   "cell_type": "code",
   "execution_count": 11,
   "id": "b4c177d8-f3fb-4d9b-98d0-fd06a2692ea3",
   "metadata": {},
   "outputs": [],
   "source": [
    "from time import perf_counter"
   ]
  },
  {
   "cell_type": "code",
   "execution_count": 12,
   "id": "abef2ab5-7ba1-4d46-98f4-b525c4f8c4fb",
   "metadata": {},
   "outputs": [
    {
     "data": {
      "text/plain": [
       "2343860.7794417"
      ]
     },
     "execution_count": 12,
     "metadata": {},
     "output_type": "execute_result"
    }
   ],
   "source": [
    "perf_counter()"
   ]
  },
  {
   "cell_type": "code",
   "execution_count": 13,
   "id": "674b5409-7348-4e3f-87c2-b2a7c1daa2fb",
   "metadata": {},
   "outputs": [],
   "source": [
    "from time import perf_counter\n",
    "\n",
    "def multiplication(n):\n",
    "    start = perf_counter()\n",
    "    mul = 1\n",
    "    for i in range(1, n+1):\n",
    "        mul *= i\n",
    "    end = perf_counter()\n",
    "    print(f\"Time taken to compute multiplication of {n} is {end-start}\")"
   ]
  },
  {
   "cell_type": "code",
   "execution_count": 15,
   "id": "ad725711-3379-4fa8-b8a9-b14391c353f3",
   "metadata": {},
   "outputs": [
    {
     "name": "stdout",
     "output_type": "stream",
     "text": [
      "Time taken to compute multiplication of 100 is 0.0005753003060817719\n"
     ]
    }
   ],
   "source": [
    "multiplication(100) #3sec lagayo"
   ]
  },
  {
   "cell_type": "code",
   "execution_count": 23,
   "id": "d025be8d-5094-4472-82d8-c4f67ed3a280",
   "metadata": {},
   "outputs": [],
   "source": [
    "from time import perf_counter\n",
    "\n",
    "def timer(fn):\n",
    "    def inner(*args, **kwargs):\n",
    "        start = perf_counter()\n",
    "        x = fn(*args, **kwargs)\n",
    "        stop = perf_counter()\n",
    "        print(f\"Time taken to compute : {stop - start} seconds.\")\n",
    "    return inner"
   ]
  },
  {
   "cell_type": "code",
   "execution_count": 24,
   "id": "c2738661-fb86-45ab-bb40-ea19990dc451",
   "metadata": {},
   "outputs": [],
   "source": [
    "@timer\n",
    "def multiplication(n):\n",
    "    mul = 1\n",
    "    for i in range(1, n+1):\n",
    "        mul *= i"
   ]
  },
  {
   "cell_type": "code",
   "execution_count": 25,
   "id": "95c6507c-a5ff-4756-80ec-a85427da1343",
   "metadata": {},
   "outputs": [
    {
     "name": "stdout",
     "output_type": "stream",
     "text": [
      "Time taken to compute : 0.0008066999725997448 seconds.\n"
     ]
    }
   ],
   "source": [
    "multiplication(1000)"
   ]
  },
  {
   "cell_type": "code",
   "execution_count": 26,
   "id": "6b4934b6-7efa-4773-b866-71c7c193cb16",
   "metadata": {},
   "outputs": [],
   "source": [
    "@timer\n",
    "def addition(n):\n",
    "    add = 0\n",
    "    for i in range(1, n+1):\n",
    "        add += i"
   ]
  },
  {
   "cell_type": "code",
   "execution_count": 27,
   "id": "045e0664-5bfc-4ec5-916d-c298a2a97462",
   "metadata": {},
   "outputs": [
    {
     "name": "stdout",
     "output_type": "stream",
     "text": [
      "Time taken to compute : 0.0001509999856352806 seconds.\n"
     ]
    }
   ],
   "source": [
    "addition(1000)"
   ]
  },
  {
   "cell_type": "code",
   "execution_count": 29,
   "id": "9b218732-90b3-470f-ae3f-0389d3c739ef",
   "metadata": {},
   "outputs": [
    {
     "name": "stdout",
     "output_type": "stream",
     "text": [
      "[1, 529, 16, 9, 16, 4, 4]\n"
     ]
    }
   ],
   "source": [
    "ls = [1,23,4,3,4,2,2]\n",
    "\n",
    "squares = []\n",
    "for i in ls :\n",
    "    squares.append(i ** 2) #non-pythonic code\n",
    "print(squares)"
   ]
  },
  {
   "cell_type": "code",
   "execution_count": 31,
   "id": "c57aa20e-b1ca-4708-8acf-8d4e4cb68e47",
   "metadata": {},
   "outputs": [
    {
     "name": "stdout",
     "output_type": "stream",
     "text": [
      "[1, 529, 16, 9, 16, 4, 16]\n"
     ]
    }
   ],
   "source": [
    "ls = [1,23,4,3,4,2,4]\n",
    "\n",
    "#pythonic code\n",
    "squares = [i ** 2 for i in ls] #fast code to run\n",
    "print(squares)"
   ]
  },
  {
   "cell_type": "code",
   "execution_count": 35,
   "id": "9f161f8c-7ca9-48f2-826c-0ac794f2c903",
   "metadata": {},
   "outputs": [
    {
     "name": "stdout",
     "output_type": "stream",
     "text": [
      "Unauthorised\n"
     ]
    }
   ],
   "source": [
    "age = 17\n",
    "\n",
    "if age< 18 :\n",
    "    print(\"Unauthorised\")\n",
    "\n",
    "else:\n",
    "    print(\"Authorised\") #use this if there is many logic"
   ]
  },
  {
   "cell_type": "code",
   "execution_count": 37,
   "id": "ee24f78b-15cb-4160-89b8-c238485730ad",
   "metadata": {},
   "outputs": [
    {
     "name": "stdout",
     "output_type": "stream",
     "text": [
      "Unauthorised\n"
     ]
    }
   ],
   "source": [
    "age = 17\n",
    "#use this if there is only one logic\n",
    "#ternary operator\n",
    "is_authorised = \"Unauthorised\" if age < 18 else \"Authorised\"\n",
    "print(is_authorised)"
   ]
  },
  {
   "cell_type": "code",
   "execution_count": 39,
   "id": "92ff8829-18d8-4628-909b-a19340a11309",
   "metadata": {},
   "outputs": [
    {
     "name": "stdout",
     "output_type": "stream",
     "text": [
      "['odd', 'odd', 'even', 'odd', 'even', 'even', 'even']\n"
     ]
    }
   ],
   "source": [
    "numbers = [1,23,4,3,4,2,2]\n",
    "#output = [\"odd\", \"odd\",\"even\", \"odd\"....]\n",
    " # non pythonic way\n",
    "output = []\n",
    "for number in numbers:\n",
    "    if number % 2 == 0:\n",
    "        output.append('even')\n",
    "    else:\n",
    "        output.append('odd')\n",
    "\n",
    "print(output)\n",
    "\n"
   ]
  },
  {
   "cell_type": "code",
   "execution_count": 40,
   "id": "044a1144-8218-4b13-825e-945e59a69c3e",
   "metadata": {},
   "outputs": [
    {
     "name": "stdout",
     "output_type": "stream",
     "text": [
      "['odd', 'odd', 'even', 'odd', 'even', 'even', 'even']\n"
     ]
    }
   ],
   "source": [
    "#pythonic way\n",
    "\n",
    "numbers = [1,23,4,3,4,2,2]\n",
    "outpur = [\"even\" if number % 2 == 0 else \"odd\" for number in numbers]\n",
    "print(output)"
   ]
  },
  {
   "cell_type": "code",
   "execution_count": null,
   "id": "a1beb67f-9d3d-44eb-b15f-fa4d1f6b1c8f",
   "metadata": {},
   "outputs": [],
   "source": []
  },
  {
   "cell_type": "code",
   "execution_count": null,
   "id": "1f66017b-791a-45aa-93f7-51693e6317b0",
   "metadata": {},
   "outputs": [],
   "source": []
  },
  {
   "cell_type": "code",
   "execution_count": null,
   "id": "1cbcd55f-866f-4163-88d1-9581d82850dd",
   "metadata": {},
   "outputs": [],
   "source": []
  },
  {
   "cell_type": "code",
   "execution_count": null,
   "id": "7da6fc6f-d55a-4dfa-b134-a868c39c43f7",
   "metadata": {},
   "outputs": [],
   "source": []
  },
  {
   "cell_type": "code",
   "execution_count": null,
   "id": "5972e50a-69a1-46ca-af3d-822f7b6cb1f5",
   "metadata": {},
   "outputs": [],
   "source": []
  },
  {
   "cell_type": "code",
   "execution_count": null,
   "id": "c7b78c3a-70c1-4306-95aa-01573c69206c",
   "metadata": {},
   "outputs": [],
   "source": []
  },
  {
   "cell_type": "code",
   "execution_count": null,
   "id": "6fed9a4d-fa9f-480e-accc-a643fe10a86f",
   "metadata": {},
   "outputs": [],
   "source": []
  },
  {
   "cell_type": "code",
   "execution_count": null,
   "id": "31252663-8c44-4e1d-a738-41de4d9f1bbf",
   "metadata": {},
   "outputs": [],
   "source": []
  },
  {
   "cell_type": "code",
   "execution_count": null,
   "id": "1c32b191-b42c-48ce-a8c6-19efb57753ee",
   "metadata": {},
   "outputs": [],
   "source": []
  },
  {
   "cell_type": "code",
   "execution_count": null,
   "id": "ee12366c-bcba-45c0-9ab1-b734e5a6c257",
   "metadata": {},
   "outputs": [],
   "source": []
  },
  {
   "cell_type": "code",
   "execution_count": null,
   "id": "22f1608c-9a66-4279-a2bb-6285bee41988",
   "metadata": {},
   "outputs": [],
   "source": []
  },
  {
   "cell_type": "code",
   "execution_count": null,
   "id": "b4e45d72-89c5-44ee-a1ea-20eb2b63a94d",
   "metadata": {},
   "outputs": [],
   "source": []
  },
  {
   "cell_type": "code",
   "execution_count": null,
   "id": "05684137-77db-459a-af8a-3b05dff9f14b",
   "metadata": {},
   "outputs": [],
   "source": []
  },
  {
   "cell_type": "code",
   "execution_count": null,
   "id": "07119652-f50c-42c3-a4c0-794fcc0e4616",
   "metadata": {},
   "outputs": [],
   "source": []
  },
  {
   "cell_type": "code",
   "execution_count": null,
   "id": "823e2be4-ebd7-4b4f-87ad-1a14e8849411",
   "metadata": {},
   "outputs": [],
   "source": []
  },
  {
   "cell_type": "code",
   "execution_count": null,
   "id": "af0d9891-e1cc-42f5-ac5b-f253d59fee27",
   "metadata": {},
   "outputs": [],
   "source": []
  },
  {
   "cell_type": "code",
   "execution_count": null,
   "id": "a1e40ceb-0b1f-41b2-908a-3258d5b61392",
   "metadata": {},
   "outputs": [],
   "source": []
  },
  {
   "cell_type": "code",
   "execution_count": null,
   "id": "b9417443-03c1-425d-9f83-9d41acb5f78c",
   "metadata": {},
   "outputs": [],
   "source": []
  },
  {
   "cell_type": "code",
   "execution_count": null,
   "id": "8ce5610e-b692-4c91-8513-c03a238d4004",
   "metadata": {},
   "outputs": [],
   "source": []
  },
  {
   "cell_type": "code",
   "execution_count": null,
   "id": "adbfa62f-4b7b-43b6-b29a-a2b0de6a5fb2",
   "metadata": {},
   "outputs": [],
   "source": []
  }
 ],
 "metadata": {
  "kernelspec": {
   "display_name": "Python 3 (ipykernel)",
   "language": "python",
   "name": "python3"
  },
  "language_info": {
   "codemirror_mode": {
    "name": "ipython",
    "version": 3
   },
   "file_extension": ".py",
   "mimetype": "text/x-python",
   "name": "python",
   "nbconvert_exporter": "python",
   "pygments_lexer": "ipython3",
   "version": "3.11.4"
  }
 },
 "nbformat": 4,
 "nbformat_minor": 5
}
