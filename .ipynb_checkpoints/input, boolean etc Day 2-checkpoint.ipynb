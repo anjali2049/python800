{
  "cells": [
    {
      "cell_type": "code",
      "execution_count": null,
      "id": "bb4cb6b8",
      "metadata": {
        "id": "bb4cb6b8",
        "outputId": "402715c8-43a2-40a0-9c6f-d3b585cc4d44"
      },
      "outputs": [
        {
          "ename": "SyntaxError",
          "evalue": "cannot assign to None (2184368329.py, line 1)",
          "output_type": "error",
          "traceback": [
            "\u001b[0;36m  Cell \u001b[0;32mIn[1], line 1\u001b[0;36m\u001b[0m\n\u001b[0;31m    None = 'hello'\u001b[0m\n\u001b[0m    ^\u001b[0m\n\u001b[0;31mSyntaxError\u001b[0m\u001b[0;31m:\u001b[0m cannot assign to None\n"
          ]
        }
      ],
      "source": [
        "None = 'hello'"
      ]
    },
    {
      "cell_type": "code",
      "execution_count": null,
      "id": "76ed4dc2",
      "metadata": {
        "id": "76ed4dc2"
      },
      "outputs": [],
      "source": [
        "hell_owlrd = 'ram'"
      ]
    },
    {
      "cell_type": "code",
      "execution_count": null,
      "id": "f0a0264b",
      "metadata": {
        "id": "f0a0264b"
      },
      "outputs": [],
      "source": [
        "__helo = 'hello'"
      ]
    },
    {
      "cell_type": "code",
      "execution_count": null,
      "id": "38970fe5",
      "metadata": {
        "id": "38970fe5"
      },
      "outputs": [],
      "source": [
        "___helo133Hello = 'ram'"
      ]
    },
    {
      "cell_type": "code",
      "execution_count": null,
      "id": "245180f7",
      "metadata": {
        "id": "245180f7",
        "outputId": "09726056-06cc-458a-9621-c641861b2cb9"
      },
      "outputs": [
        {
          "ename": "SyntaxError",
          "evalue": "invalid syntax (4115762879.py, line 1)",
          "output_type": "error",
          "traceback": [
            "\u001b[0;36m  Cell \u001b[0;32mIn[5], line 1\u001b[0;36m\u001b[0m\n\u001b[0;31m    hello wrld = '7'\u001b[0m\n\u001b[0m          ^\u001b[0m\n\u001b[0;31mSyntaxError\u001b[0m\u001b[0;31m:\u001b[0m invalid syntax\n"
          ]
        }
      ],
      "source": [
        "hello wrld = '7'"
      ]
    },
    {
      "cell_type": "code",
      "execution_count": null,
      "id": "020bbd28",
      "metadata": {
        "id": "020bbd28",
        "outputId": "a27f53ca-0580-4889-d149-06ce22fdea91"
      },
      "outputs": [
        {
          "ename": "SyntaxError",
          "evalue": "invalid syntax (3809510764.py, line 1)",
          "output_type": "error",
          "traceback": [
            "\u001b[0;36m  Cell \u001b[0;32mIn[6], line 1\u001b[0;36m\u001b[0m\n\u001b[0;31m    if = 'hello'\u001b[0m\n\u001b[0m       ^\u001b[0m\n\u001b[0;31mSyntaxError\u001b[0m\u001b[0;31m:\u001b[0m invalid syntax\n"
          ]
        }
      ],
      "source": [
        "if = 'hello'"
      ]
    },
    {
      "cell_type": "code",
      "execution_count": null,
      "id": "9649c148",
      "metadata": {
        "id": "9649c148"
      },
      "outputs": [],
      "source": [
        "If = 'helo'"
      ]
    },
    {
      "cell_type": "code",
      "execution_count": null,
      "id": "28690160",
      "metadata": {
        "id": "28690160",
        "outputId": "902fc280-23f1-4553-b0a4-cd08cc020815"
      },
      "outputs": [
        {
          "name": "stdout",
          "output_type": "stream",
          "text": [
            "1\n"
          ]
        }
      ],
      "source": [
        "x = 1\n",
        "\n",
        "print(x)"
      ]
    },
    {
      "cell_type": "code",
      "execution_count": null,
      "id": "dd34d874",
      "metadata": {
        "id": "dd34d874",
        "outputId": "7ebe9289-192e-42d7-ef9e-2a3b8a235e67"
      },
      "outputs": [
        {
          "ename": "NameError",
          "evalue": "name 'X' is not defined",
          "output_type": "error",
          "traceback": [
            "\u001b[0;31m---------------------------------------------------------------------------\u001b[0m",
            "\u001b[0;31mNameError\u001b[0m                                 Traceback (most recent call last)",
            "Cell \u001b[0;32mIn[10], line 1\u001b[0m\n\u001b[0;32m----> 1\u001b[0m \u001b[38;5;28mprint\u001b[39m(\u001b[43mX\u001b[49m)\n",
            "\u001b[0;31mNameError\u001b[0m: name 'X' is not defined"
          ]
        }
      ],
      "source": [
        "print(X)"
      ]
    },
    {
      "cell_type": "code",
      "execution_count": null,
      "id": "f606e9db",
      "metadata": {
        "id": "f606e9db",
        "outputId": "7fecafd4-5fd5-4fe7-ab3e-bf3410672dbf"
      },
      "outputs": [
        {
          "ename": "SyntaxError",
          "evalue": "unterminated string literal (detected at line 1) (4222643893.py, line 1)",
          "output_type": "error",
          "traceback": [
            "\u001b[0;36m  Cell \u001b[0;32mIn[11], line 1\u001b[0;36m\u001b[0m\n\u001b[0;31m    x = 'ram\u001b[0m\n\u001b[0m        ^\u001b[0m\n\u001b[0;31mSyntaxError\u001b[0m\u001b[0;31m:\u001b[0m unterminated string literal (detected at line 1)\n"
          ]
        }
      ],
      "source": [
        "x = 'ram\n",
        "bahadur'\n",
        "\n",
        "print(x)"
      ]
    },
    {
      "cell_type": "code",
      "execution_count": null,
      "id": "06d58eac",
      "metadata": {
        "id": "06d58eac",
        "outputId": "7b0c3ea7-f47a-4f65-a618-0eb35d68691b"
      },
      "outputs": [
        {
          "name": "stdout",
          "output_type": "stream",
          "text": [
            "ram \n",
            "bahadur\n"
          ]
        }
      ],
      "source": [
        "x = 'ram \\nbahadur'\n",
        "\n",
        "print(x)"
      ]
    },
    {
      "cell_type": "code",
      "execution_count": null,
      "id": "882ea76a",
      "metadata": {
        "id": "882ea76a",
        "outputId": "c5eb327a-ad5d-4d8a-e3f5-f7ddfb21e0e2"
      },
      "outputs": [
        {
          "name": "stdout",
          "output_type": "stream",
          "text": [
            "ram \tbahadur\n"
          ]
        }
      ],
      "source": [
        "x = 'ram \\tbahadur'\n",
        "\n",
        "print(x)"
      ]
    },
    {
      "cell_type": "code",
      "execution_count": null,
      "id": "325094de",
      "metadata": {
        "id": "325094de",
        "outputId": "fa9b988e-39a3-4c79-ba71-ab05de91be05"
      },
      "outputs": [
        {
          "name": "stdout",
          "output_type": "stream",
          "text": [
            "ram\n",
            "bahadur\n"
          ]
        }
      ],
      "source": [
        "x = '''ram\n",
        "bahadur'''\n",
        "\n",
        "print(x)"
      ]
    },
    {
      "cell_type": "code",
      "execution_count": null,
      "id": "bf6c29bf",
      "metadata": {
        "id": "bf6c29bf",
        "outputId": "df7e64a5-7372-483f-d84b-a29ce39b1de6"
      },
      "outputs": [
        {
          "name": "stdout",
          "output_type": "stream",
          "text": [
            "ram\n",
            "bahadur\n"
          ]
        }
      ],
      "source": [
        "x = \"\"\"ram\n",
        "bahadur\"\"\"\n",
        "\n",
        "print(x)"
      ]
    },
    {
      "cell_type": "code",
      "execution_count": null,
      "id": "cb302552",
      "metadata": {
        "id": "cb302552",
        "outputId": "3abb62e6-f17c-4fec-b241-64f2c83e17a9"
      },
      "outputs": [
        {
          "name": "stdout",
          "output_type": "stream",
          "text": [
            "{'first name': 'Ram', 'last name': 'pradhan', 'address': 'ktm', 'age': 17, 'email': 'asdfasdfds@gamil.cim'}\n"
          ]
        }
      ],
      "source": [
        "person = {\n",
        "    'first name' : \"Ram\", # key-value pair => dictionary\n",
        "    'last name': \"pradhan\",\n",
        "    \"address\":'ktm',\n",
        "    'age': 17,\n",
        "    'email':'asdfasdfds@gamil.cim'\n",
        "}\n",
        "print(person)"
      ]
    },
    {
      "cell_type": "code",
      "execution_count": null,
      "id": "c690f691",
      "metadata": {
        "id": "c690f691"
      },
      "outputs": [],
      "source": [
        "person = ('ram', 'pradhan', 'ktm',17, 'adfsadf@gmail.com')"
      ]
    },
    {
      "cell_type": "code",
      "execution_count": null,
      "id": "63625f28",
      "metadata": {
        "id": "63625f28",
        "outputId": "df0e177f-78ea-4fe3-fe11-17ee30b84835"
      },
      "outputs": [
        {
          "name": "stdout",
          "output_type": "stream",
          "text": [
            "Enter the value of x: 2\n",
            "Enter the value of y: 2\n",
            "<class 'str'> <class 'str'>\n",
            "22\n"
          ]
        }
      ],
      "source": [
        "x = input(\"Enter the value of x: \")\n",
        "y = input(\"Enter the value of y: \")\n",
        "\n",
        "print(type(x), type(y))\n",
        "sum = x + y\n",
        "\n",
        "print(sum)"
      ]
    },
    {
      "cell_type": "code",
      "execution_count": null,
      "id": "700314c6",
      "metadata": {
        "id": "700314c6",
        "outputId": "a2a3bc2d-d4a9-40f0-91b4-473a50ef4ac7"
      },
      "outputs": [
        {
          "name": "stdout",
          "output_type": "stream",
          "text": [
            "rambahadur\n"
          ]
        }
      ],
      "source": [
        "f = 'ram'\n",
        "l = 'bahadur'\n",
        "\n",
        "full = f + l\n",
        "\n",
        "print(full) # concatenation"
      ]
    },
    {
      "cell_type": "code",
      "execution_count": null,
      "id": "d6c94c26",
      "metadata": {
        "id": "d6c94c26",
        "outputId": "cc08cdef-255e-470a-868a-d616faf3a1ea"
      },
      "outputs": [
        {
          "name": "stdout",
          "output_type": "stream",
          "text": [
            "Enter the value of x: 4\n",
            "Enter the value of y: 5\n",
            "The sum of 4 and 5 is 9\n"
          ]
        }
      ],
      "source": [
        "x = int(input(\"Enter the value of x: \"))\n",
        "y = int(input(\"Enter the value of y: \"))\n",
        "\n",
        "sum = x + y\n",
        "\n",
        "print(f\"The sum of {x} and {y} is {sum}\") # f-string"
      ]
    },
    {
      "cell_type": "code",
      "execution_count": null,
      "id": "70f02059",
      "metadata": {
        "id": "70f02059",
        "outputId": "02580b53-9733-4414-f596-80aa97fd16b6"
      },
      "outputs": [
        {
          "name": "stdout",
          "output_type": "stream",
          "text": [
            "3\n"
          ]
        }
      ],
      "source": [
        "x = 5\n",
        "y = 2\n",
        "\n",
        "sub = x-y\n",
        "print(sub)"
      ]
    },
    {
      "cell_type": "code",
      "execution_count": null,
      "id": "7ed7c580",
      "metadata": {
        "id": "7ed7c580",
        "outputId": "2e7d176a-0e82-4f0c-bc1f-dc7799e3b673"
      },
      "outputs": [
        {
          "data": {
            "text/plain": [
              "2.5"
            ]
          },
          "execution_count": 29,
          "metadata": {},
          "output_type": "execute_result"
        }
      ],
      "source": [
        "5 /2"
      ]
    },
    {
      "cell_type": "code",
      "execution_count": null,
      "id": "8ddcc04b",
      "metadata": {
        "id": "8ddcc04b",
        "outputId": "9ba7cde7-a46f-40a7-f9a9-a163c16da8f6"
      },
      "outputs": [
        {
          "data": {
            "text/plain": [
              "2"
            ]
          },
          "execution_count": 31,
          "metadata": {},
          "output_type": "execute_result"
        }
      ],
      "source": [
        "5 // 2 # floor division"
      ]
    },
    {
      "cell_type": "code",
      "execution_count": null,
      "id": "29b71cea",
      "metadata": {
        "id": "29b71cea",
        "outputId": "6b44051c-c4cd-444e-b1d3-a2747f4039f5"
      },
      "outputs": [
        {
          "data": {
            "text/plain": [
              "1"
            ]
          },
          "execution_count": 32,
          "metadata": {},
          "output_type": "execute_result"
        }
      ],
      "source": [
        "5 % 2 # modulus"
      ]
    },
    {
      "cell_type": "code",
      "execution_count": null,
      "id": "658ce368",
      "metadata": {
        "id": "658ce368",
        "outputId": "e5475b98-fbac-40a5-9a7d-20201dc95769"
      },
      "outputs": [
        {
          "data": {
            "text/plain": [
              "625"
            ]
          },
          "execution_count": 33,
          "metadata": {},
          "output_type": "execute_result"
        }
      ],
      "source": [
        "5 * 5 * 5 * 5"
      ]
    },
    {
      "cell_type": "code",
      "execution_count": null,
      "id": "b157148d",
      "metadata": {
        "id": "b157148d",
        "outputId": "15913adb-dde2-45b3-912b-ea98d2975bbb"
      },
      "outputs": [
        {
          "data": {
            "text/plain": [
              "625"
            ]
          },
          "execution_count": 34,
          "metadata": {},
          "output_type": "execute_result"
        }
      ],
      "source": [
        "5 ** 4 # exponential / power operator"
      ]
    },
    {
      "cell_type": "code",
      "execution_count": null,
      "id": "b9593a9e",
      "metadata": {
        "id": "b9593a9e",
        "outputId": "b075a121-141c-4967-a375-20fd219668ff"
      },
      "outputs": [
        {
          "name": "stdout",
          "output_type": "stream",
          "text": [
            "5\n"
          ]
        }
      ],
      "source": [
        "print(x)"
      ]
    },
    {
      "cell_type": "code",
      "execution_count": null,
      "id": "d6bf795b",
      "metadata": {
        "id": "d6bf795b",
        "outputId": "5992618d-e342-48af-c54d-88c1e5e423b3"
      },
      "outputs": [
        {
          "data": {
            "text/plain": [
              "False"
            ]
          },
          "execution_count": 36,
          "metadata": {},
          "output_type": "execute_result"
        }
      ],
      "source": [
        "5 < 4"
      ]
    },
    {
      "cell_type": "code",
      "execution_count": null,
      "id": "3a9f058c",
      "metadata": {
        "id": "3a9f058c",
        "outputId": "ede0477a-dedb-488e-801f-c27078ecb027"
      },
      "outputs": [
        {
          "data": {
            "text/plain": [
              "False"
            ]
          },
          "execution_count": 37,
          "metadata": {},
          "output_type": "execute_result"
        }
      ],
      "source": [
        "5 == 4"
      ]
    },
    {
      "cell_type": "code",
      "execution_count": null,
      "id": "2699da3b",
      "metadata": {
        "id": "2699da3b",
        "outputId": "ec30e75e-ffeb-4cc4-9d19-4ad02c126747"
      },
      "outputs": [
        {
          "data": {
            "text/plain": [
              "True"
            ]
          },
          "execution_count": 38,
          "metadata": {},
          "output_type": "execute_result"
        }
      ],
      "source": [
        "5 > 3"
      ]
    },
    {
      "cell_type": "code",
      "execution_count": null,
      "id": "5040eae1",
      "metadata": {
        "id": "5040eae1",
        "outputId": "d580d434-5479-4b44-ec4c-26ce0785f815"
      },
      "outputs": [
        {
          "data": {
            "text/plain": [
              "True"
            ]
          },
          "execution_count": 39,
          "metadata": {},
          "output_type": "execute_result"
        }
      ],
      "source": [
        "5 >= 3"
      ]
    },
    {
      "cell_type": "code",
      "execution_count": null,
      "id": "486ac10d",
      "metadata": {
        "id": "486ac10d",
        "outputId": "ab354146-2b54-43cc-dc65-f3c6ccbf1925"
      },
      "outputs": [
        {
          "data": {
            "text/plain": [
              "True"
            ]
          },
          "execution_count": 40,
          "metadata": {},
          "output_type": "execute_result"
        }
      ],
      "source": [
        "5 >= 5"
      ]
    },
    {
      "cell_type": "code",
      "execution_count": null,
      "id": "7de6c989",
      "metadata": {
        "id": "7de6c989",
        "outputId": "c6bd5465-a22e-4ef7-a913-e9d906d97bbe"
      },
      "outputs": [
        {
          "data": {
            "text/plain": [
              "False"
            ]
          },
          "execution_count": 41,
          "metadata": {},
          "output_type": "execute_result"
        }
      ],
      "source": [
        "5 <= 2"
      ]
    },
    {
      "cell_type": "code",
      "execution_count": null,
      "id": "204ba869",
      "metadata": {
        "id": "204ba869",
        "outputId": "9dbb49cd-7726-4d6a-c06b-7079c7110f37"
      },
      "outputs": [
        {
          "data": {
            "text/plain": [
              "True"
            ]
          },
          "execution_count": 42,
          "metadata": {},
          "output_type": "execute_result"
        }
      ],
      "source": [
        "5 != 2"
      ]
    },
    {
      "cell_type": "code",
      "execution_count": null,
      "id": "55c5df2e",
      "metadata": {
        "id": "55c5df2e"
      },
      "outputs": [],
      "source": [
        "# and => all value True => True\n",
        "# or => any value True => True\n",
        "# and => opposite"
      ]
    },
    {
      "cell_type": "code",
      "execution_count": null,
      "id": "6bc716fb",
      "metadata": {
        "id": "6bc716fb",
        "outputId": "5116fe83-527f-4975-a9f3-2e14ab42df32"
      },
      "outputs": [
        {
          "data": {
            "text/plain": [
              "True"
            ]
          },
          "execution_count": 44,
          "metadata": {},
          "output_type": "execute_result"
        }
      ],
      "source": [
        "True and True and True"
      ]
    },
    {
      "cell_type": "code",
      "execution_count": null,
      "id": "6249a967",
      "metadata": {
        "id": "6249a967",
        "outputId": "a18d677f-84eb-40c4-fde4-ac7b609a86b2"
      },
      "outputs": [
        {
          "data": {
            "text/plain": [
              "False"
            ]
          },
          "execution_count": 45,
          "metadata": {},
          "output_type": "execute_result"
        }
      ],
      "source": [
        "True and True and False"
      ]
    },
    {
      "cell_type": "code",
      "execution_count": null,
      "id": "d3e0d6d7",
      "metadata": {
        "id": "d3e0d6d7",
        "outputId": "d3925430-9f5c-4a91-fe6b-f2f4f6737e99"
      },
      "outputs": [
        {
          "data": {
            "text/plain": [
              "True"
            ]
          },
          "execution_count": 46,
          "metadata": {},
          "output_type": "execute_result"
        }
      ],
      "source": [
        "True or True"
      ]
    },
    {
      "cell_type": "code",
      "execution_count": null,
      "id": "1f07ade8",
      "metadata": {
        "id": "1f07ade8",
        "outputId": "268fdc30-db28-4939-fc84-2e5581da4e7d"
      },
      "outputs": [
        {
          "data": {
            "text/plain": [
              "True"
            ]
          },
          "execution_count": 47,
          "metadata": {},
          "output_type": "execute_result"
        }
      ],
      "source": [
        "True or False"
      ]
    },
    {
      "cell_type": "code",
      "execution_count": null,
      "id": "f16ac1c5",
      "metadata": {
        "id": "f16ac1c5",
        "outputId": "71bc39f9-3e83-4194-ce6e-157aa8aa2e08"
      },
      "outputs": [
        {
          "data": {
            "text/plain": [
              "False"
            ]
          },
          "execution_count": 48,
          "metadata": {},
          "output_type": "execute_result"
        }
      ],
      "source": [
        "False or False"
      ]
    },
    {
      "cell_type": "code",
      "execution_count": null,
      "id": "7cec2f20",
      "metadata": {
        "id": "7cec2f20",
        "outputId": "b8bd5710-d5aa-4757-d911-50af2650b0df"
      },
      "outputs": [
        {
          "data": {
            "text/plain": [
              "True"
            ]
          },
          "execution_count": 49,
          "metadata": {},
          "output_type": "execute_result"
        }
      ],
      "source": [
        "not False"
      ]
    },
    {
      "cell_type": "code",
      "execution_count": null,
      "id": "b662e52a",
      "metadata": {
        "id": "b662e52a",
        "outputId": "abce5998-119d-46fe-9b2d-2d6dfb0a6edd"
      },
      "outputs": [
        {
          "data": {
            "text/plain": [
              "False"
            ]
          },
          "execution_count": 50,
          "metadata": {},
          "output_type": "execute_result"
        }
      ],
      "source": [
        "not True"
      ]
    },
    {
      "cell_type": "code",
      "execution_count": null,
      "id": "dda13221",
      "metadata": {
        "id": "dda13221",
        "outputId": "3cd7a674-5340-4500-accf-215b71d88867"
      },
      "outputs": [
        {
          "data": {
            "text/plain": [
              "True"
            ]
          },
          "execution_count": 51,
          "metadata": {},
          "output_type": "execute_result"
        }
      ],
      "source": [
        "not not True"
      ]
    },
    {
      "cell_type": "code",
      "execution_count": null,
      "id": "13054da3",
      "metadata": {
        "id": "13054da3",
        "outputId": "471b3f7d-e15e-409f-cd4d-a256ec0f9089"
      },
      "outputs": [
        {
          "name": "stdout",
          "output_type": "stream",
          "text": [
            "12\n"
          ]
        }
      ],
      "source": [
        "x = 6 #assignment operator\n",
        "\n",
        "x = x + 6\n",
        "\n",
        "print(x)"
      ]
    },
    {
      "cell_type": "code",
      "execution_count": null,
      "id": "5dc09b56",
      "metadata": {
        "id": "5dc09b56",
        "outputId": "cd22ea7c-348b-48a9-9a3c-cd8eb5e8d3b9"
      },
      "outputs": [
        {
          "name": "stdout",
          "output_type": "stream",
          "text": [
            "12\n"
          ]
        }
      ],
      "source": [
        "x = 6 #assignment operator\n",
        "\n",
        "x += 6 # x= x+ 6\n",
        "\n",
        "print(x)"
      ]
    },
    {
      "cell_type": "code",
      "execution_count": null,
      "id": "66a7b1ac",
      "metadata": {
        "id": "66a7b1ac",
        "outputId": "8daa5879-fb48-4041-b25b-1ace991983d2"
      },
      "outputs": [
        {
          "name": "stdout",
          "output_type": "stream",
          "text": [
            "0\n"
          ]
        }
      ],
      "source": [
        "x = 6 #assignment operator\n",
        "\n",
        "x -= 6 # x= x- 6\n",
        "\n",
        "print(x)"
      ]
    },
    {
      "cell_type": "code",
      "execution_count": null,
      "id": "368150b5",
      "metadata": {
        "id": "368150b5",
        "outputId": "22d7ffe3-9413-4410-adc4-da8c1cc16bd0"
      },
      "outputs": [
        {
          "data": {
            "text/plain": [
              "False"
            ]
          },
          "execution_count": 55,
          "metadata": {},
          "output_type": "execute_result"
        }
      ],
      "source": [
        "x = 7\n",
        "y = 8\n",
        "\n",
        "x == y"
      ]
    },
    {
      "cell_type": "code",
      "execution_count": null,
      "id": "400d4c3f",
      "metadata": {
        "id": "400d4c3f",
        "outputId": "aa54aba6-545c-4e2f-ed6e-f7d71cdbea52"
      },
      "outputs": [
        {
          "name": "stdout",
          "output_type": "stream",
          "text": [
            "4342998704 4342998736\n"
          ]
        },
        {
          "data": {
            "text/plain": [
              "False"
            ]
          },
          "execution_count": 57,
          "metadata": {},
          "output_type": "execute_result"
        }
      ],
      "source": [
        "x = 7\n",
        "y = 8\n",
        "\n",
        "print(id(x), id(y))\n",
        "\n",
        "x is y"
      ]
    },
    {
      "cell_type": "code",
      "execution_count": null,
      "id": "1ce10f3a",
      "metadata": {
        "id": "1ce10f3a",
        "outputId": "7bfd389a-c323-4177-fe31-9a3383e5dcda"
      },
      "outputs": [
        {
          "name": "stdout",
          "output_type": "stream",
          "text": [
            "4342998704 4342998736\n"
          ]
        },
        {
          "data": {
            "text/plain": [
              "True"
            ]
          },
          "execution_count": 58,
          "metadata": {},
          "output_type": "execute_result"
        }
      ],
      "source": [
        "x = 7\n",
        "y = 8\n",
        "\n",
        "print(id(x), id(y))\n",
        "\n",
        "x is not y"
      ]
    },
    {
      "cell_type": "code",
      "execution_count": null,
      "id": "0fb9085e",
      "metadata": {
        "id": "0fb9085e",
        "outputId": "a939c597-5330-4da2-ce68-86ae2eff3253"
      },
      "outputs": [
        {
          "data": {
            "text/plain": [
              "True"
            ]
          },
          "execution_count": 59,
          "metadata": {},
          "output_type": "execute_result"
        }
      ],
      "source": [
        "'r' in 'ramesh'"
      ]
    },
    {
      "cell_type": "code",
      "execution_count": null,
      "id": "ea7cc0c9",
      "metadata": {
        "id": "ea7cc0c9",
        "outputId": "b77a86aa-593a-4dec-cb6c-7810e5294832"
      },
      "outputs": [
        {
          "data": {
            "text/plain": [
              "False"
            ]
          },
          "execution_count": 63,
          "metadata": {},
          "output_type": "execute_result"
        }
      ],
      "source": [
        "'rm' in 'ramesh'"
      ]
    },
    {
      "cell_type": "code",
      "execution_count": null,
      "id": "76450fd6",
      "metadata": {
        "id": "76450fd6",
        "outputId": "39cd4511-1309-45a7-f76d-7d9b69aa6682"
      },
      "outputs": [
        {
          "data": {
            "text/plain": [
              "True"
            ]
          },
          "execution_count": 61,
          "metadata": {},
          "output_type": "execute_result"
        }
      ],
      "source": [
        "1 in [1,2,3]"
      ]
    },
    {
      "cell_type": "code",
      "execution_count": null,
      "id": "ff503c3f",
      "metadata": {
        "id": "ff503c3f"
      },
      "outputs": [],
      "source": [
        "# builtin scope => print, input, id\n",
        "# global scope => x, y,z => module level / file\n",
        "# local scope => function"
      ]
    },
    {
      "cell_type": "code",
      "execution_count": null,
      "id": "bf8f94c4",
      "metadata": {
        "id": "bf8f94c4",
        "outputId": "fb7524fe-48c9-4803-922c-3c312985832e"
      },
      "outputs": [
        {
          "name": "stdout",
          "output_type": "stream",
          "text": [
            "e\n"
          ]
        }
      ],
      "source": [
        "x = \"python is my favorite programming language\"\n",
        "print(x[-1]) # negative indexing"
      ]
    },
    {
      "cell_type": "code",
      "execution_count": null,
      "id": "346fbd68",
      "metadata": {
        "id": "346fbd68",
        "outputId": "030dcb09-fe07-4e74-a17f-85f71286c3fc"
      },
      "outputs": [
        {
          "name": "stdout",
          "output_type": "stream",
          "text": [
            "l\n"
          ]
        }
      ],
      "source": [
        "print(x[-9])"
      ]
    },
    {
      "cell_type": "code",
      "execution_count": null,
      "id": "536da8d2",
      "metadata": {
        "id": "536da8d2",
        "outputId": "8d6ab52f-c26b-4246-8148-f79514147f5e"
      },
      "outputs": [
        {
          "name": "stdout",
          "output_type": "stream",
          "text": [
            "python\n"
          ]
        }
      ],
      "source": [
        "print(x[0:6]) # slicing"
      ]
    },
    {
      "cell_type": "code",
      "execution_count": null,
      "id": "70fcc907",
      "metadata": {
        "id": "70fcc907",
        "outputId": "de15f8b9-466a-4c07-98e8-5019bac36f3e"
      },
      "outputs": [
        {
          "name": "stdout",
          "output_type": "stream",
          "text": [
            "python is\n"
          ]
        }
      ],
      "source": [
        "print(x[0:9]) # slicing"
      ]
    },
    {
      "cell_type": "code",
      "execution_count": null,
      "id": "f1f29184",
      "metadata": {
        "id": "f1f29184",
        "outputId": "4fa64917-5e1e-412d-ddd3-4127958dfad0"
      },
      "outputs": [
        {
          "name": "stdout",
          "output_type": "stream",
          "text": [
            "python is\n"
          ]
        }
      ],
      "source": [
        "print(x[0:9:1]) # slicing # start:stop:step"
      ]
    },
    {
      "cell_type": "code",
      "execution_count": null,
      "id": "946dc85a",
      "metadata": {
        "id": "946dc85a",
        "outputId": "50dfca38-8898-4062-ccf1-2e78b3be7dcc"
      },
      "outputs": [
        {
          "name": "stdout",
          "output_type": "stream",
          "text": [
            "pto s\n"
          ]
        }
      ],
      "source": [
        "x = \"python is my favorite programming language\"\n",
        "print(x[0:9:2]) # slicing # start:stop:step"
      ]
    },
    {
      "cell_type": "code",
      "execution_count": null,
      "id": "68daca6e",
      "metadata": {
        "id": "68daca6e",
        "outputId": "c0a2d28e-1808-44ea-f005-8b7b92c11fa4"
      },
      "outputs": [
        {
          "name": "stdout",
          "output_type": "stream",
          "text": [
            "language\n"
          ]
        }
      ],
      "source": [
        "x = \"python is my favorite programming language\"\n",
        "print(x[-8:])"
      ]
    },
    {
      "cell_type": "code",
      "execution_count": null,
      "id": "32361c84",
      "metadata": {
        "id": "32361c84",
        "outputId": "2e7f5cc8-66db-4d1c-a8b5-a49aa00ff9bb"
      },
      "outputs": [
        {
          "name": "stdout",
          "output_type": "stream",
          "text": [
            "egaugnal\n"
          ]
        }
      ],
      "source": [
        "x = \"python is my favorite programming language\"\n",
        "print(x[-1:-9:-1])"
      ]
    },
    {
      "cell_type": "code",
      "execution_count": null,
      "id": "f65be473",
      "metadata": {
        "id": "f65be473",
        "outputId": "5dd309a9-a706-4f63-e2e3-0bfdb4799bd8"
      },
      "outputs": [
        {
          "name": "stdout",
          "output_type": "stream",
          "text": [
            "egaugnal gnimmargorp etirovaf ym si nohtyp\n"
          ]
        }
      ],
      "source": [
        "x = \"python is my favorite programming language\"\n",
        "print(x[::-1])"
      ]
    },
    {
      "cell_type": "code",
      "execution_count": null,
      "id": "5109066f",
      "metadata": {
        "id": "5109066f",
        "outputId": "98453208-237d-4bbc-d428-1e6ae95ed5d7"
      },
      "outputs": [
        {
          "name": "stdout",
          "output_type": "stream",
          "text": [
            "python is my favorite programming language\n"
          ]
        }
      ],
      "source": [
        "x = \"python is my favorite programming language\"\n",
        "print(x[:])"
      ]
    },
    {
      "cell_type": "code",
      "execution_count": null,
      "id": "06ccdc72",
      "metadata": {
        "id": "06ccdc72",
        "outputId": "b4e3a1cc-fd9f-4b94-cfad-bc7dfc4aa6d7"
      },
      "outputs": [
        {
          "name": "stdout",
          "output_type": "stream",
          "text": [
            "Help on class str in module builtins:\n",
            "\n",
            "class str(object)\n",
            " |  str(object='') -> str\n",
            " |  str(bytes_or_buffer[, encoding[, errors]]) -> str\n",
            " |  \n",
            " |  Create a new string object from the given object. If encoding or\n",
            " |  errors is specified, then the object must expose a data buffer\n",
            " |  that will be decoded using the given encoding and error handler.\n",
            " |  Otherwise, returns the result of object.__str__() (if defined)\n",
            " |  or repr(object).\n",
            " |  encoding defaults to sys.getdefaultencoding().\n",
            " |  errors defaults to 'strict'.\n",
            " |  \n",
            " |  Methods defined here:\n",
            " |  \n",
            " |  __add__(self, value, /)\n",
            " |      Return self+value.\n",
            " |  \n",
            " |  __contains__(self, key, /)\n",
            " |      Return key in self.\n",
            " |  \n",
            " |  __eq__(self, value, /)\n",
            " |      Return self==value.\n",
            " |  \n",
            " |  __format__(self, format_spec, /)\n",
            " |      Return a formatted version of the string as described by format_spec.\n",
            " |  \n",
            " |  __ge__(self, value, /)\n",
            " |      Return self>=value.\n",
            " |  \n",
            " |  __getattribute__(self, name, /)\n",
            " |      Return getattr(self, name).\n",
            " |  \n",
            " |  __getitem__(self, key, /)\n",
            " |      Return self[key].\n",
            " |  \n",
            " |  __getnewargs__(...)\n",
            " |  \n",
            " |  __gt__(self, value, /)\n",
            " |      Return self>value.\n",
            " |  \n",
            " |  __hash__(self, /)\n",
            " |      Return hash(self).\n",
            " |  \n",
            " |  __iter__(self, /)\n",
            " |      Implement iter(self).\n",
            " |  \n",
            " |  __le__(self, value, /)\n",
            " |      Return self<=value.\n",
            " |  \n",
            " |  __len__(self, /)\n",
            " |      Return len(self).\n",
            " |  \n",
            " |  __lt__(self, value, /)\n",
            " |      Return self<value.\n",
            " |  \n",
            " |  __mod__(self, value, /)\n",
            " |      Return self%value.\n",
            " |  \n",
            " |  __mul__(self, value, /)\n",
            " |      Return self*value.\n",
            " |  \n",
            " |  __ne__(self, value, /)\n",
            " |      Return self!=value.\n",
            " |  \n",
            " |  __repr__(self, /)\n",
            " |      Return repr(self).\n",
            " |  \n",
            " |  __rmod__(self, value, /)\n",
            " |      Return value%self.\n",
            " |  \n",
            " |  __rmul__(self, value, /)\n",
            " |      Return value*self.\n",
            " |  \n",
            " |  __sizeof__(self, /)\n",
            " |      Return the size of the string in memory, in bytes.\n",
            " |  \n",
            " |  __str__(self, /)\n",
            " |      Return str(self).\n",
            " |  \n",
            " |  capitalize(self, /)\n",
            " |      Return a capitalized version of the string.\n",
            " |      \n",
            " |      More specifically, make the first character have upper case and the rest lower\n",
            " |      case.\n",
            " |  \n",
            " |  casefold(self, /)\n",
            " |      Return a version of the string suitable for caseless comparisons.\n",
            " |  \n",
            " |  center(self, width, fillchar=' ', /)\n",
            " |      Return a centered string of length width.\n",
            " |      \n",
            " |      Padding is done using the specified fill character (default is a space).\n",
            " |  \n",
            " |  count(...)\n",
            " |      S.count(sub[, start[, end]]) -> int\n",
            " |      \n",
            " |      Return the number of non-overlapping occurrences of substring sub in\n",
            " |      string S[start:end].  Optional arguments start and end are\n",
            " |      interpreted as in slice notation.\n",
            " |  \n",
            " |  encode(self, /, encoding='utf-8', errors='strict')\n",
            " |      Encode the string using the codec registered for encoding.\n",
            " |      \n",
            " |      encoding\n",
            " |        The encoding in which to encode the string.\n",
            " |      errors\n",
            " |        The error handling scheme to use for encoding errors.\n",
            " |        The default is 'strict' meaning that encoding errors raise a\n",
            " |        UnicodeEncodeError.  Other possible values are 'ignore', 'replace' and\n",
            " |        'xmlcharrefreplace' as well as any other name registered with\n",
            " |        codecs.register_error that can handle UnicodeEncodeErrors.\n",
            " |  \n",
            " |  endswith(...)\n",
            " |      S.endswith(suffix[, start[, end]]) -> bool\n",
            " |      \n",
            " |      Return True if S ends with the specified suffix, False otherwise.\n",
            " |      With optional start, test S beginning at that position.\n",
            " |      With optional end, stop comparing S at that position.\n",
            " |      suffix can also be a tuple of strings to try.\n",
            " |  \n",
            " |  expandtabs(self, /, tabsize=8)\n",
            " |      Return a copy where all tab characters are expanded using spaces.\n",
            " |      \n",
            " |      If tabsize is not given, a tab size of 8 characters is assumed.\n",
            " |  \n",
            " |  find(...)\n",
            " |      S.find(sub[, start[, end]]) -> int\n",
            " |      \n",
            " |      Return the lowest index in S where substring sub is found,\n",
            " |      such that sub is contained within S[start:end].  Optional\n",
            " |      arguments start and end are interpreted as in slice notation.\n",
            " |      \n",
            " |      Return -1 on failure.\n",
            " |  \n",
            " |  format(...)\n",
            " |      S.format(*args, **kwargs) -> str\n",
            " |      \n",
            " |      Return a formatted version of S, using substitutions from args and kwargs.\n",
            " |      The substitutions are identified by braces ('{' and '}').\n",
            " |  \n",
            " |  format_map(...)\n",
            " |      S.format_map(mapping) -> str\n",
            " |      \n",
            " |      Return a formatted version of S, using substitutions from mapping.\n",
            " |      The substitutions are identified by braces ('{' and '}').\n",
            " |  \n",
            " |  index(...)\n",
            " |      S.index(sub[, start[, end]]) -> int\n",
            " |      \n",
            " |      Return the lowest index in S where substring sub is found,\n",
            " |      such that sub is contained within S[start:end].  Optional\n",
            " |      arguments start and end are interpreted as in slice notation.\n",
            " |      \n",
            " |      Raises ValueError when the substring is not found.\n",
            " |  \n",
            " |  isalnum(self, /)\n",
            " |      Return True if the string is an alpha-numeric string, False otherwise.\n",
            " |      \n",
            " |      A string is alpha-numeric if all characters in the string are alpha-numeric and\n",
            " |      there is at least one character in the string.\n",
            " |  \n",
            " |  isalpha(self, /)\n",
            " |      Return True if the string is an alphabetic string, False otherwise.\n",
            " |      \n",
            " |      A string is alphabetic if all characters in the string are alphabetic and there\n",
            " |      is at least one character in the string.\n",
            " |  \n",
            " |  isascii(self, /)\n",
            " |      Return True if all characters in the string are ASCII, False otherwise.\n",
            " |      \n",
            " |      ASCII characters have code points in the range U+0000-U+007F.\n",
            " |      Empty string is ASCII too.\n",
            " |  \n",
            " |  isdecimal(self, /)\n",
            " |      Return True if the string is a decimal string, False otherwise.\n",
            " |      \n",
            " |      A string is a decimal string if all characters in the string are decimal and\n",
            " |      there is at least one character in the string.\n",
            " |  \n",
            " |  isdigit(self, /)\n",
            " |      Return True if the string is a digit string, False otherwise.\n",
            " |      \n",
            " |      A string is a digit string if all characters in the string are digits and there\n",
            " |      is at least one character in the string.\n",
            " |  \n",
            " |  isidentifier(self, /)\n",
            " |      Return True if the string is a valid Python identifier, False otherwise.\n",
            " |      \n",
            " |      Call keyword.iskeyword(s) to test whether string s is a reserved identifier,\n",
            " |      such as \"def\" or \"class\".\n",
            " |  \n",
            " |  islower(self, /)\n",
            " |      Return True if the string is a lowercase string, False otherwise.\n",
            " |      \n",
            " |      A string is lowercase if all cased characters in the string are lowercase and\n",
            " |      there is at least one cased character in the string.\n",
            " |  \n",
            " |  isnumeric(self, /)\n",
            " |      Return True if the string is a numeric string, False otherwise.\n",
            " |      \n",
            " |      A string is numeric if all characters in the string are numeric and there is at\n",
            " |      least one character in the string.\n",
            " |  \n",
            " |  isprintable(self, /)\n",
            " |      Return True if the string is printable, False otherwise.\n",
            " |      \n",
            " |      A string is printable if all of its characters are considered printable in\n",
            " |      repr() or if it is empty.\n",
            " |  \n",
            " |  isspace(self, /)\n",
            " |      Return True if the string is a whitespace string, False otherwise.\n",
            " |      \n",
            " |      A string is whitespace if all characters in the string are whitespace and there\n",
            " |      is at least one character in the string.\n",
            " |  \n",
            " |  istitle(self, /)\n",
            " |      Return True if the string is a title-cased string, False otherwise.\n",
            " |      \n",
            " |      In a title-cased string, upper- and title-case characters may only\n",
            " |      follow uncased characters and lowercase characters only cased ones.\n",
            " |  \n",
            " |  isupper(self, /)\n",
            " |      Return True if the string is an uppercase string, False otherwise.\n",
            " |      \n",
            " |      A string is uppercase if all cased characters in the string are uppercase and\n",
            " |      there is at least one cased character in the string.\n",
            " |  \n",
            " |  join(self, iterable, /)\n",
            " |      Concatenate any number of strings.\n",
            " |      \n",
            " |      The string whose method is called is inserted in between each given string.\n",
            " |      The result is returned as a new string.\n",
            " |      \n",
            " |      Example: '.'.join(['ab', 'pq', 'rs']) -> 'ab.pq.rs'\n",
            " |  \n",
            " |  ljust(self, width, fillchar=' ', /)\n",
            " |      Return a left-justified string of length width.\n",
            " |      \n",
            " |      Padding is done using the specified fill character (default is a space).\n",
            " |  \n",
            " |  lower(self, /)\n",
            " |      Return a copy of the string converted to lowercase.\n",
            " |  \n",
            " |  lstrip(self, chars=None, /)\n",
            " |      Return a copy of the string with leading whitespace removed.\n",
            " |      \n",
            " |      If chars is given and not None, remove characters in chars instead.\n",
            " |  \n",
            " |  partition(self, sep, /)\n",
            " |      Partition the string into three parts using the given separator.\n",
            " |      \n",
            " |      This will search for the separator in the string.  If the separator is found,\n",
            " |      returns a 3-tuple containing the part before the separator, the separator\n",
            " |      itself, and the part after it.\n",
            " |      \n",
            " |      If the separator is not found, returns a 3-tuple containing the original string\n",
            " |      and two empty strings.\n",
            " |  \n",
            " |  removeprefix(self, prefix, /)\n",
            " |      Return a str with the given prefix string removed if present.\n",
            " |      \n",
            " |      If the string starts with the prefix string, return string[len(prefix):].\n",
            " |      Otherwise, return a copy of the original string.\n",
            " |  \n",
            " |  removesuffix(self, suffix, /)\n",
            " |      Return a str with the given suffix string removed if present.\n",
            " |      \n",
            " |      If the string ends with the suffix string and that suffix is not empty,\n",
            " |      return string[:-len(suffix)]. Otherwise, return a copy of the original\n",
            " |      string.\n",
            " |  \n",
            " |  replace(self, old, new, count=-1, /)\n",
            " |      Return a copy with all occurrences of substring old replaced by new.\n",
            " |      \n",
            " |        count\n",
            " |          Maximum number of occurrences to replace.\n",
            " |          -1 (the default value) means replace all occurrences.\n",
            " |      \n",
            " |      If the optional argument count is given, only the first count occurrences are\n",
            " |      replaced.\n",
            " |  \n",
            " |  rfind(...)\n",
            " |      S.rfind(sub[, start[, end]]) -> int\n",
            " |      \n",
            " |      Return the highest index in S where substring sub is found,\n",
            " |      such that sub is contained within S[start:end].  Optional\n",
            " |      arguments start and end are interpreted as in slice notation.\n",
            " |      \n",
            " |      Return -1 on failure.\n",
            " |  \n",
            " |  rindex(...)\n",
            " |      S.rindex(sub[, start[, end]]) -> int\n",
            " |      \n",
            " |      Return the highest index in S where substring sub is found,\n",
            " |      such that sub is contained within S[start:end].  Optional\n",
            " |      arguments start and end are interpreted as in slice notation.\n",
            " |      \n",
            " |      Raises ValueError when the substring is not found.\n",
            " |  \n",
            " |  rjust(self, width, fillchar=' ', /)\n",
            " |      Return a right-justified string of length width.\n",
            " |      \n",
            " |      Padding is done using the specified fill character (default is a space).\n",
            " |  \n",
            " |  rpartition(self, sep, /)\n",
            " |      Partition the string into three parts using the given separator.\n",
            " |      \n",
            " |      This will search for the separator in the string, starting at the end. If\n",
            " |      the separator is found, returns a 3-tuple containing the part before the\n",
            " |      separator, the separator itself, and the part after it.\n",
            " |      \n",
            " |      If the separator is not found, returns a 3-tuple containing two empty strings\n",
            " |      and the original string.\n",
            " |  \n",
            " |  rsplit(self, /, sep=None, maxsplit=-1)\n",
            " |      Return a list of the substrings in the string, using sep as the separator string.\n",
            " |      \n",
            " |        sep\n",
            " |          The separator used to split the string.\n",
            " |      \n",
            " |          When set to None (the default value), will split on any whitespace\n",
            " |          character (including \\\\n \\\\r \\\\t \\\\f and spaces) and will discard\n",
            " |          empty strings from the result.\n",
            " |        maxsplit\n",
            " |          Maximum number of splits (starting from the left).\n",
            " |          -1 (the default value) means no limit.\n",
            " |      \n",
            " |      Splitting starts at the end of the string and works to the front.\n",
            " |  \n",
            " |  rstrip(self, chars=None, /)\n",
            " |      Return a copy of the string with trailing whitespace removed.\n",
            " |      \n",
            " |      If chars is given and not None, remove characters in chars instead.\n",
            " |  \n",
            " |  split(self, /, sep=None, maxsplit=-1)\n",
            " |      Return a list of the substrings in the string, using sep as the separator string.\n",
            " |      \n",
            " |        sep\n",
            " |          The separator used to split the string.\n",
            " |      \n",
            " |          When set to None (the default value), will split on any whitespace\n",
            " |          character (including \\\\n \\\\r \\\\t \\\\f and spaces) and will discard\n",
            " |          empty strings from the result.\n",
            " |        maxsplit\n",
            " |          Maximum number of splits (starting from the left).\n",
            " |          -1 (the default value) means no limit.\n",
            " |      \n",
            " |      Note, str.split() is mainly useful for data that has been intentionally\n",
            " |      delimited.  With natural text that includes punctuation, consider using\n",
            " |      the regular expression module.\n",
            " |  \n",
            " |  splitlines(self, /, keepends=False)\n",
            " |      Return a list of the lines in the string, breaking at line boundaries.\n",
            " |      \n",
            " |      Line breaks are not included in the resulting list unless keepends is given and\n",
            " |      true.\n",
            " |  \n",
            " |  startswith(...)\n",
            " |      S.startswith(prefix[, start[, end]]) -> bool\n",
            " |      \n",
            " |      Return True if S starts with the specified prefix, False otherwise.\n",
            " |      With optional start, test S beginning at that position.\n",
            " |      With optional end, stop comparing S at that position.\n",
            " |      prefix can also be a tuple of strings to try.\n",
            " |  \n",
            " |  strip(self, chars=None, /)\n",
            " |      Return a copy of the string with leading and trailing whitespace removed.\n",
            " |      \n",
            " |      If chars is given and not None, remove characters in chars instead.\n",
            " |  \n",
            " |  swapcase(self, /)\n",
            " |      Convert uppercase characters to lowercase and lowercase characters to uppercase.\n",
            " |  \n",
            " |  title(self, /)\n",
            " |      Return a version of the string where each word is titlecased.\n",
            " |      \n",
            " |      More specifically, words start with uppercased characters and all remaining\n",
            " |      cased characters have lower case.\n",
            " |  \n",
            " |  translate(self, table, /)\n",
            " |      Replace each character in the string using the given translation table.\n",
            " |      \n",
            " |        table\n",
            " |          Translation table, which must be a mapping of Unicode ordinals to\n",
            " |          Unicode ordinals, strings, or None.\n",
            " |      \n",
            " |      The table must implement lookup/indexing via __getitem__, for instance a\n",
            " |      dictionary or list.  If this operation raises LookupError, the character is\n",
            " |      left untouched.  Characters mapped to None are deleted.\n",
            " |  \n",
            " |  upper(self, /)\n",
            " |      Return a copy of the string converted to uppercase.\n",
            " |  \n",
            " |  zfill(self, width, /)\n",
            " |      Pad a numeric string with zeros on the left, to fill a field of the given width.\n",
            " |      \n",
            " |      The string is never truncated.\n",
            " |  \n",
            " |  ----------------------------------------------------------------------\n",
            " |  Static methods defined here:\n",
            " |  \n",
            " |  __new__(*args, **kwargs) from builtins.type\n",
            " |      Create and return a new object.  See help(type) for accurate signature.\n",
            " |  \n",
            " |  maketrans(...)\n",
            " |      Return a translation table usable for str.translate().\n",
            " |      \n",
            " |      If there is only one argument, it must be a dictionary mapping Unicode\n",
            " |      ordinals (integers) or characters to Unicode ordinals, strings or None.\n",
            " |      Character keys will be then converted to ordinals.\n",
            " |      If there are two arguments, they must be strings of equal length, and\n",
            " |      in the resulting dictionary, each character in x will be mapped to the\n",
            " |      character at the same position in y. If there is a third argument, it\n",
            " |      must be a string, whose characters will be mapped to None in the result.\n",
            "\n"
          ]
        }
      ],
      "source": [
        "help(str)"
      ]
    },
    {
      "cell_type": "code",
      "execution_count": null,
      "id": "991d6735",
      "metadata": {
        "id": "991d6735",
        "outputId": "5d871e45-7a1f-4e67-9d2a-7b8c4d10a14e"
      },
      "outputs": [
        {
          "data": {
            "text/plain": [
              "'Ram is smart'"
            ]
          },
          "execution_count": 78,
          "metadata": {},
          "output_type": "execute_result"
        }
      ],
      "source": [
        "x = 'rAm is Smart'\n",
        "x.capitalize()"
      ]
    },
    {
      "cell_type": "code",
      "execution_count": null,
      "id": "ac4bba4c",
      "metadata": {
        "id": "ac4bba4c",
        "outputId": "ee7f215a-22f1-429c-d466-c287d1290f68"
      },
      "outputs": [
        {
          "data": {
            "text/plain": [
              "'RAM IS SMART'"
            ]
          },
          "execution_count": 79,
          "metadata": {},
          "output_type": "execute_result"
        }
      ],
      "source": [
        "x = 'rAm is Smart'\n",
        "x.upper()"
      ]
    },
    {
      "cell_type": "code",
      "execution_count": null,
      "id": "4c4cc8e7",
      "metadata": {
        "id": "4c4cc8e7",
        "outputId": "80c4dc5b-6e7b-4881-cb3e-f4718c6850fe"
      },
      "outputs": [
        {
          "data": {
            "text/plain": [
              "'ram is smart'"
            ]
          },
          "execution_count": 80,
          "metadata": {},
          "output_type": "execute_result"
        }
      ],
      "source": [
        "x = 'rAm is Smart'\n",
        "x.lower()"
      ]
    },
    {
      "cell_type": "code",
      "execution_count": null,
      "id": "abdbf764",
      "metadata": {
        "id": "abdbf764"
      },
      "outputs": [],
      "source": []
    }
  ],
  "metadata": {
    "kernelspec": {
      "display_name": "Python 3 (ipykernel)",
      "language": "python",
      "name": "python3"
    },
    "language_info": {
      "codemirror_mode": {
        "name": "ipython",
        "version": 3
      },
      "file_extension": ".py",
      "mimetype": "text/x-python",
      "name": "python",
      "nbconvert_exporter": "python",
      "pygments_lexer": "ipython3",
      "version": "3.11.2"
    },
    "colab": {
      "provenance": []
    }
  },
  "nbformat": 4,
  "nbformat_minor": 5
}