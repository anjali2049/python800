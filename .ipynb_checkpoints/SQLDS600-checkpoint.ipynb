{
 "cells": [
  {
   "cell_type": "code",
   "execution_count": 4,
   "id": "099d38e2-0658-4679-9a8c-1f6ab56e349b",
   "metadata": {},
   "outputs": [],
   "source": [
    "import sqlite3"
   ]
  },
  {
   "cell_type": "code",
   "execution_count": 5,
   "id": "c0843878-2a35-4299-b2b6-b86c40e556ef",
   "metadata": {},
   "outputs": [
    {
     "data": {
      "text/plain": [
       "<sqlite3.Connection at 0x17f8d849300>"
      ]
     },
     "execution_count": 5,
     "metadata": {},
     "output_type": "execute_result"
    }
   ],
   "source": [
    "sqlite3.connect('python800.db')"
   ]
  },
  {
   "cell_type": "code",
   "execution_count": 6,
   "id": "a5377fa7-8f8c-4f8b-9715-42a4c718c42c",
   "metadata": {},
   "outputs": [],
   "source": [
    "con=sqlite3.connect('python800.db')"
   ]
  },
  {
   "cell_type": "code",
   "execution_count": 7,
   "id": "e7c9501b-cb76-4d55-aa9d-85ba6d85209a",
   "metadata": {},
   "outputs": [],
   "source": [
    "cur=con.cursor()"
   ]
  },
  {
   "cell_type": "code",
   "execution_count": 24,
   "id": "68f03488-afb5-4ad5-9ea4-c08e6a29eb1d",
   "metadata": {},
   "outputs": [],
   "source": [
    "query = \"\"\"\n",
    "create table students (roll_no int, name varchar(50), address varchar(20))\n",
    "\"\"\""
   ]
  },
  {
   "cell_type": "code",
   "execution_count": 25,
   "id": "0c45da13-081c-4212-84da-201385769fbf",
   "metadata": {},
   "outputs": [],
   "source": [
    "try:\n",
    "    cur.execute(query)\n",
    "except Exception as e:\n",
    "    print(e)"
   ]
  },
  {
   "cell_type": "code",
   "execution_count": 26,
   "id": "b11aec71-a18e-4e95-8137-82d9c05fa984",
   "metadata": {},
   "outputs": [],
   "source": [
    "# Insert into table_name(column_1, column_2,...)\n"
   ]
  },
  {
   "cell_type": "code",
   "execution_count": 27,
   "id": "dc650bce-34d5-4eaf-94b6-edc2c3d2e869",
   "metadata": {},
   "outputs": [],
   "source": [
    "query = \"\"\"\n",
    "insert into students(roll_no, name, address)\n",
    "values\n",
    "(1, 'Kshitiz', 'Patan'),\n",
    "(2, 'Anil', 'Dang'),\n",
    "(3,'Anjali', 'Sarlhai'),\n",
    "(4, 'Bhabesh', 'Bhaktapur')\n",
    "\"\"\""
   ]
  },
  {
   "cell_type": "code",
   "execution_count": 28,
   "id": "0510f610-5577-4faf-b67b-ffed5c5c4d32",
   "metadata": {},
   "outputs": [
    {
     "data": {
      "text/plain": [
       "<sqlite3.Cursor at 0x17f8de10740>"
      ]
     },
     "execution_count": 28,
     "metadata": {},
     "output_type": "execute_result"
    }
   ],
   "source": [
    "cur.execute(query)"
   ]
  },
  {
   "cell_type": "markdown",
   "id": "f8cb6197-5e97-4e03-971b-0301fca5ab3a",
   "metadata": {},
   "source": [
    "#Read the DATA/ select Statement\n",
    "\n",
    "syntax:\n",
    "````Sql\n",
    "select*from table_name\n",
    "select column_name_1, column_name_2, ....... from table_name"
   ]
  },
  {
   "cell_type": "code",
   "execution_count": 30,
   "id": "f10d49f9-c2b8-40fb-8cc6-7c3b2aa68543",
   "metadata": {},
   "outputs": [
    {
     "data": {
      "text/plain": [
       "[(1, 'Kshitiz', 'Patan'),\n",
       " (2, 'Anil', 'Dang'),\n",
       " (3, 'Anjali', 'Sarlhai'),\n",
       " (4, 'Bhabesh', 'Bhaktapur')]"
      ]
     },
     "execution_count": 30,
     "metadata": {},
     "output_type": "execute_result"
    }
   ],
   "source": [
    "query = 'select*from students'\n",
    "cur.execute(query).fetchall()"
   ]
  },
  {
   "cell_type": "code",
   "execution_count": 32,
   "id": "13609298-5245-43e5-8853-7ed171cf62be",
   "metadata": {},
   "outputs": [
    {
     "data": {
      "text/plain": [
       "[('Kshitiz', 'Patan'),\n",
       " ('Anil', 'Dang'),\n",
       " ('Anjali', 'Sarlhai'),\n",
       " ('Bhabesh', 'Bhaktapur')]"
      ]
     },
     "execution_count": 32,
     "metadata": {},
     "output_type": "execute_result"
    }
   ],
   "source": [
    "cur.execute('select name,address from students').fetchall()"
   ]
  },
  {
   "cell_type": "code",
   "execution_count": 33,
   "id": "ca8376a5-e0c4-4da2-8af1-197b5af88624",
   "metadata": {},
   "outputs": [
    {
     "data": {
      "text/plain": [
       "[(1,), (2,), (3,), (4,)]"
      ]
     },
     "execution_count": 33,
     "metadata": {},
     "output_type": "execute_result"
    }
   ],
   "source": [
    "cur.execute('select roll_no from students').fetchall()"
   ]
  },
  {
   "cell_type": "code",
   "execution_count": null,
   "id": "fcca9a8a-b46d-406f-a1cd-c5841ea3561c",
   "metadata": {},
   "outputs": [],
   "source": [
    "# Where clause/ Conditional"
   ]
  },
  {
   "cell_type": "code",
   "execution_count": 34,
   "id": "ff81d52c-7e00-488c-bb7e-7678456ccda4",
   "metadata": {},
   "outputs": [],
   "source": [
    "query = \"\"\"\n",
    "select name from students\n",
    "where\n",
    "roll_no = 2\n",
    "\"\"\""
   ]
  },
  {
   "cell_type": "code",
   "execution_count": 35,
   "id": "99abc082-48e4-4003-9f8f-30024ac84fc7",
   "metadata": {},
   "outputs": [
    {
     "data": {
      "text/plain": [
       "[('Anil',)]"
      ]
     },
     "execution_count": 35,
     "metadata": {},
     "output_type": "execute_result"
    }
   ],
   "source": [
    "cur.execute(query).fetchall()"
   ]
  },
  {
   "cell_type": "code",
   "execution_count": 36,
   "id": "fff9dae8-13b4-4b02-be8a-4a4551a1d3bb",
   "metadata": {},
   "outputs": [],
   "source": [
    "query = \"\"\"\n",
    "select address from students\n",
    "where\n",
    "roll_no = 2\n",
    "\"\"\""
   ]
  },
  {
   "cell_type": "code",
   "execution_count": 38,
   "id": "419bb993-7227-4a7d-a148-23e0302c7de0",
   "metadata": {},
   "outputs": [
    {
     "data": {
      "text/plain": [
       "[('Dang',)]"
      ]
     },
     "execution_count": 38,
     "metadata": {},
     "output_type": "execute_result"
    }
   ],
   "source": [
    "cur.execute(query).fetchall()"
   ]
  },
  {
   "cell_type": "code",
   "execution_count": 46,
   "id": "ab8ea64e-c536-4d4e-90ff-39f36788ed0e",
   "metadata": {},
   "outputs": [],
   "source": [
    "#value is case sensetive , #lower(..)garyo vane case sensetive hatxa"
   ]
  },
  {
   "cell_type": "code",
   "execution_count": 47,
   "id": "1a1c47c9-0ded-4295-adfc-efe0f91a26fa",
   "metadata": {},
   "outputs": [],
   "source": [
    "query = \"\"\"\n",
    "select address from students\n",
    "where\n",
    "lower(name) = 'anil'\n",
    "\"\"\""
   ]
  },
  {
   "cell_type": "code",
   "execution_count": 48,
   "id": "efbe3914-d05e-4a10-ab6d-4ec48b4ff604",
   "metadata": {},
   "outputs": [
    {
     "data": {
      "text/plain": [
       "[('Dang',)]"
      ]
     },
     "execution_count": 48,
     "metadata": {},
     "output_type": "execute_result"
    }
   ],
   "source": [
    "cur.execute(query).fetchall()"
   ]
  },
  {
   "cell_type": "markdown",
   "id": "463bb92c-6d8a-46f8-8863-7c32fba7f17c",
   "metadata": {},
   "source": [
    "#update database\n",
    "````sql\n",
    "update table_name\n",
    "set column_name_n = value\n",
    "where\n",
    "condition"
   ]
  },
  {
   "cell_type": "code",
   "execution_count": 49,
   "id": "1a70ca79-98d9-4c23-8ac8-d4825f9e7fd3",
   "metadata": {},
   "outputs": [],
   "source": [
    "query = \"\"\"\n",
    "update students\n",
    "set name = 'Kshitiz Regmi'\n",
    "where\n",
    "roll_no = 1 \n",
    "\"\"\""
   ]
  },
  {
   "cell_type": "code",
   "execution_count": 51,
   "id": "f966e602-4785-4619-97b1-9b21f70e34f5",
   "metadata": {},
   "outputs": [
    {
     "data": {
      "text/plain": [
       "<sqlite3.Cursor at 0x17f8de10740>"
      ]
     },
     "execution_count": 51,
     "metadata": {},
     "output_type": "execute_result"
    }
   ],
   "source": [
    "cur.execute(query)"
   ]
  },
  {
   "cell_type": "code",
   "execution_count": 53,
   "id": "efde3c86-c0f1-43fc-aceb-7e1eee937939",
   "metadata": {},
   "outputs": [
    {
     "data": {
      "text/plain": [
       "[(1, 'Kshitiz Regmi', 'Patan'),\n",
       " (2, 'Anil', 'Dang'),\n",
       " (3, 'Anjali', 'Sarlhai'),\n",
       " (4, 'Bhabesh', 'Bhaktapur')]"
      ]
     },
     "execution_count": 53,
     "metadata": {},
     "output_type": "execute_result"
    }
   ],
   "source": [
    "cur.execute(\"select*from students\").fetchall()"
   ]
  },
  {
   "cell_type": "markdown",
   "id": "0626c760-b037-4979-b05a-adcf9f14647e",
   "metadata": {},
   "source": [
    "delete statement in sql"
   ]
  },
  {
   "cell_type": "code",
   "execution_count": 54,
   "id": "f3352e10-08ad-4f60-85d5-2c0e00ff7562",
   "metadata": {},
   "outputs": [
    {
     "data": {
      "text/plain": [
       "<sqlite3.Cursor at 0x17f8de10740>"
      ]
     },
     "execution_count": 54,
     "metadata": {},
     "output_type": "execute_result"
    }
   ],
   "source": [
    "cur.execute(\"delete from students where roll_no = 1 \")"
   ]
  },
  {
   "cell_type": "code",
   "execution_count": 56,
   "id": "2a7df966-a71b-444a-9315-4b9295f92546",
   "metadata": {},
   "outputs": [
    {
     "data": {
      "text/plain": [
       "[(2, 'Anil', 'Dang'), (3, 'Anjali', 'Sarlhai'), (4, 'Bhabesh', 'Bhaktapur')]"
      ]
     },
     "execution_count": 56,
     "metadata": {},
     "output_type": "execute_result"
    }
   ],
   "source": [
    "cur.execute('select*from students').fetchall()"
   ]
  },
  {
   "cell_type": "code",
   "execution_count": null,
   "id": "ac1151fb-09da-4a76-a362-a3f079cf37fd",
   "metadata": {},
   "outputs": [],
   "source": []
  }
 ],
 "metadata": {
  "kernelspec": {
   "display_name": "Python 3 (ipykernel)",
   "language": "python",
   "name": "python3"
  },
  "language_info": {
   "codemirror_mode": {
    "name": "ipython",
    "version": 3
   },
   "file_extension": ".py",
   "mimetype": "text/x-python",
   "name": "python",
   "nbconvert_exporter": "python",
   "pygments_lexer": "ipython3",
   "version": "3.11.4"
  }
 },
 "nbformat": 4,
 "nbformat_minor": 5
}
