{
 "cells": [
  {
   "cell_type": "code",
   "execution_count": 1,
   "id": "c8eb3164-b76e-4826-bfec-f366e5a42fec",
   "metadata": {},
   "outputs": [
    {
     "name": "stdout",
     "output_type": "stream",
     "text": [
      "9\n"
     ]
    }
   ],
   "source": [
    "x = 5\n",
    "y = 4\n",
    "\n",
    "sum = x + y\n",
    "print(sum)"
   ]
  },
  {
   "cell_type": "code",
   "execution_count": 5,
   "id": "b3b9ec23-9dfa-444c-917f-7bf4b1047636",
   "metadata": {},
   "outputs": [],
   "source": [
    "def addition (): #paile definie garne function, function lai reuse garna minlxa\n",
    "    x = 5\n",
    "    y = 4\n",
    "    sum = x + y\n",
    "    print(sum)"
   ]
  },
  {
   "cell_type": "code",
   "execution_count": 4,
   "id": "df9d522f-02c4-492a-8393-951bd453ce53",
   "metadata": {},
   "outputs": [
    {
     "name": "stdout",
     "output_type": "stream",
     "text": [
      "9\n"
     ]
    }
   ],
   "source": [
    "addition() #function execution / run"
   ]
  },
  {
   "cell_type": "code",
   "execution_count": 14,
   "id": "1acd5932-1d27-4dcc-9c05-7c99fc097865",
   "metadata": {},
   "outputs": [],
   "source": [
    "def addition(x, y): #function definition, x, y vaneko bahira bata x y ko value leko\n",
    "   \n",
    "    sum = x + y\n",
    "    print(sum)"
   ]
  },
  {
   "cell_type": "code",
   "execution_count": 16,
   "id": "97571e78-ad6c-4a25-bd82-dc3e1e0667f5",
   "metadata": {},
   "outputs": [
    {
     "name": "stdout",
     "output_type": "stream",
     "text": [
      "125\n"
     ]
    }
   ],
   "source": [
    "addition(x=5, y=120)"
   ]
  },
  {
   "cell_type": "code",
   "execution_count": 11,
   "id": "46d9c023-f1ee-4df2-b7ec-538f3367b7ab",
   "metadata": {},
   "outputs": [],
   "source": [
    "def addition (x, y): \n",
    "    sum = x + y\n",
    "    return sum #returning value from function"
   ]
  },
  {
   "cell_type": "code",
   "execution_count": 13,
   "id": "95c2fa72-a8b7-415f-bd92-f37dc0b64ec3",
   "metadata": {},
   "outputs": [
    {
     "data": {
      "text/plain": [
       "125"
      ]
     },
     "execution_count": 13,
     "metadata": {},
     "output_type": "execute_result"
    }
   ],
   "source": [
    "addition(x=5, y=120)"
   ]
  },
  {
   "cell_type": "code",
   "execution_count": 17,
   "id": "a977eba5-faa2-41e0-89e6-5769e30ccb3e",
   "metadata": {},
   "outputs": [
    {
     "name": "stdout",
     "output_type": "stream",
     "text": [
      "125\n"
     ]
    }
   ],
   "source": [
    "output = addition(x=5, y=120) #output variable will capture the value returned by addition"
   ]
  },
  {
   "cell_type": "code",
   "execution_count": 18,
   "id": "e0c66188-7cbb-4692-9b2f-75dd5f3620ff",
   "metadata": {},
   "outputs": [],
   "source": [
    "from math import sqrt"
   ]
  },
  {
   "cell_type": "code",
   "execution_count": 19,
   "id": "0d7a40c2-20ec-46e2-9b04-04b6830767f2",
   "metadata": {},
   "outputs": [
    {
     "data": {
      "text/plain": [
       "2.0"
      ]
     },
     "execution_count": 19,
     "metadata": {},
     "output_type": "execute_result"
    }
   ],
   "source": [
    "sqrt(4)"
   ]
  },
  {
   "cell_type": "code",
   "execution_count": 20,
   "id": "6c61bcef-9ea0-4f89-aec6-6340be19659c",
   "metadata": {},
   "outputs": [],
   "source": [
    "def addition (x, y): \n",
    "    sum = x + y\n",
    "    return sum "
   ]
  },
  {
   "cell_type": "code",
   "execution_count": 21,
   "id": "5102959b-b138-49d9-9d50-b353fa15c233",
   "metadata": {},
   "outputs": [
    {
     "name": "stdout",
     "output_type": "stream",
     "text": [
      "Help on function addition in module __main__:\n",
      "\n",
      "addition(x, y)\n",
      "\n"
     ]
    }
   ],
   "source": [
    "help (addition)"
   ]
  },
  {
   "cell_type": "code",
   "execution_count": 22,
   "id": "93b66deb-66d7-4814-b71c-f34717499b87",
   "metadata": {},
   "outputs": [],
   "source": [
    "def addition (x, y): \n",
    "    \"\"\" Add two numbers\"\"\" #documentation for addition function, help garda aauxa\n",
    "    sum = x + y\n",
    "    return sum "
   ]
  },
  {
   "cell_type": "code",
   "execution_count": 23,
   "id": "b4441edd-8369-49f4-8933-ab6624ccec25",
   "metadata": {},
   "outputs": [
    {
     "name": "stdout",
     "output_type": "stream",
     "text": [
      "Help on function addition in module __main__:\n",
      "\n",
      "addition(x, y)\n",
      "    Add two numbers\n",
      "\n"
     ]
    }
   ],
   "source": [
    "help(addition)"
   ]
  },
  {
   "cell_type": "code",
   "execution_count": 25,
   "id": "3d066915-3e9a-4f14-b221-86a111e2f16e",
   "metadata": {},
   "outputs": [
    {
     "data": {
      "text/plain": [
       "4"
      ]
     },
     "execution_count": 25,
     "metadata": {},
     "output_type": "execute_result"
    }
   ],
   "source": [
    "addition(2,2) #x ma 2 basxa, ya ma ni 2 basxa"
   ]
  },
  {
   "cell_type": "code",
   "execution_count": 26,
   "id": "7da50734-3194-4176-9d95-af08a6c3a2fe",
   "metadata": {},
   "outputs": [
    {
     "data": {
      "text/plain": [
       "7"
      ]
     },
     "execution_count": 26,
     "metadata": {},
     "output_type": "execute_result"
    }
   ],
   "source": [
    "addition(y=5,x=2)"
   ]
  },
  {
   "cell_type": "code",
   "execution_count": 28,
   "id": "6000637c-4be8-45df-9faf-f654a915f8da",
   "metadata": {},
   "outputs": [
    {
     "ename": "SyntaxError",
     "evalue": "positional argument follows keyword argument (3266853523.py, line 1)",
     "output_type": "error",
     "traceback": [
      "\u001b[1;36m  Cell \u001b[1;32mIn[28], line 1\u001b[1;36m\u001b[0m\n\u001b[1;33m    addition(x=5, 7) #error aauxa, dubai ma same huna parxa meaning x =, ani y= wa numbers matra\u001b[0m\n\u001b[1;37m                   ^\u001b[0m\n\u001b[1;31mSyntaxError\u001b[0m\u001b[1;31m:\u001b[0m positional argument follows keyword argument\n"
     ]
    }
   ],
   "source": [
    "addition(x=5, 7) #error aauxa, dubai ma same huna parxa meaning x =, ani y= wa numbers matra\n",
    "#x=5 keyword argument\n",
    "#7 positional argument"
   ]
  },
  {
   "cell_type": "code",
   "execution_count": 31,
   "id": "22aec7e4-85c5-4006-9287-0effa9ae1a1d",
   "metadata": {},
   "outputs": [
    {
     "data": {
      "text/plain": [
       "9"
      ]
     },
     "execution_count": 31,
     "metadata": {},
     "output_type": "execute_result"
    }
   ],
   "source": [
    "addition(2, y=7) #agadi position argument rakhera paxi key word aargument rakhna milxa"
   ]
  },
  {
   "cell_type": "code",
   "execution_count": 32,
   "id": "d7a71691-7dba-457c-b69f-f95edee87c10",
   "metadata": {},
   "outputs": [],
   "source": [
    "def addition(x, y=0):#y is default argument/paramenter\n",
    "    sum = x + y\n",
    "    return sum"
   ]
  },
  {
   "cell_type": "code",
   "execution_count": 34,
   "id": "648a9271-1188-4f9b-ab66-50fc4d0e07e1",
   "metadata": {},
   "outputs": [
    {
     "data": {
      "text/plain": [
       "6"
      ]
     },
     "execution_count": 34,
     "metadata": {},
     "output_type": "execute_result"
    }
   ],
   "source": [
    "addition(6)#if we dont give value of y, it will sum x+0 because we define y=0 in above"
   ]
  },
  {
   "cell_type": "code",
   "execution_count": 38,
   "id": "e6204e74-e42c-46eb-8946-9e3b82c394ca",
   "metadata": {},
   "outputs": [],
   "source": [
    "def addition(y, x=0):\n",
    "    sum = x + y\n",
    "    return sum"
   ]
  },
  {
   "cell_type": "code",
   "execution_count": 40,
   "id": "a538c2c5-87a8-44ab-980e-9bd1e636dc16",
   "metadata": {},
   "outputs": [
    {
     "data": {
      "text/plain": [
       "8"
      ]
     },
     "execution_count": 40,
     "metadata": {},
     "output_type": "execute_result"
    }
   ],
   "source": [
    "addition(8)"
   ]
  },
  {
   "cell_type": "code",
   "execution_count": 41,
   "id": "ebb76d9a-515d-4e91-a8bf-11e612786436",
   "metadata": {},
   "outputs": [
    {
     "data": {
      "text/plain": [
       "8"
      ]
     },
     "execution_count": 41,
     "metadata": {},
     "output_type": "execute_result"
    }
   ],
   "source": [
    "addition(y=8)"
   ]
  },
  {
   "cell_type": "code",
   "execution_count": 44,
   "id": "258b8c79-ca5d-4742-a845-2798ffd36b7f",
   "metadata": {},
   "outputs": [],
   "source": [
    "def addition(x,y):\n",
    "    sum = x + y\n",
    "    return sum\n",
    "def subtraction(x,y):\n",
    "    sub = x - y\n",
    "    return sub\n",
    "def multiplication(x,y):\n",
    "    mul = x * y\n",
    "    return mul\n",
    "def division (x, y):\n",
    "    div = x / y\n",
    "    return div"
   ]
  },
  {
   "cell_type": "code",
   "execution_count": 46,
   "id": "5eb94893-9b74-44e4-948e-76aa4a664e1d",
   "metadata": {},
   "outputs": [
    {
     "data": {
      "text/plain": [
       "2.0"
      ]
     },
     "execution_count": 46,
     "metadata": {},
     "output_type": "execute_result"
    }
   ],
   "source": [
    "division(10, 5)"
   ]
  },
  {
   "cell_type": "code",
   "execution_count": null,
   "id": "8239392a-de29-4b70-8a54-d1c1802b0d08",
   "metadata": {},
   "outputs": [],
   "source": []
  },
  {
   "cell_type": "code",
   "execution_count": null,
   "id": "38130bd8-9af8-4bfd-a6ee-4d62f6f2d299",
   "metadata": {},
   "outputs": [],
   "source": []
  },
  {
   "cell_type": "code",
   "execution_count": null,
   "id": "d68e2654-7648-4ed3-88c2-b6d2d707610c",
   "metadata": {},
   "outputs": [],
   "source": []
  },
  {
   "cell_type": "code",
   "execution_count": 45,
   "id": "8c5928ed-4c5a-4a4e-a6dd-d1a615a7fbaa",
   "metadata": {},
   "outputs": [],
   "source": [
    "def random_fun(a, b):\n",
    "    sum = a + b\n",
    "    sub = a - b\n",
    "    mul = a * b\n",
    "    div = a / b\n",
    "    return sum # function get terminated/ exit here #function le value return gare paxi function exit hunxa\n",
    "    return sub\n",
    "    return mul\n",
    "    return div"
   ]
  },
  {
   "cell_type": "code",
   "execution_count": 48,
   "id": "3ac29323-e2a1-4897-8632-726a289513ad",
   "metadata": {},
   "outputs": [
    {
     "data": {
      "text/plain": [
       "12"
      ]
     },
     "execution_count": 48,
     "metadata": {},
     "output_type": "execute_result"
    }
   ],
   "source": [
    "random_fun(10,2 #addition garera function terminate vayo kinaki first ma return sum xa"
   ]
  },
  {
   "cell_type": "code",
   "execution_count": 50,
   "id": "c2cdfe0b-3bc4-4f83-bc05-d94d30bde55c",
   "metadata": {},
   "outputs": [],
   "source": [
    "def random_fun(a, b):\n",
    "    sum = a + b\n",
    "    sub = a - b\n",
    "    mul = a * b\n",
    "    div = a / b\n",
    "    return sum,sub,mul,div #multiple value return garnu xa vane tuple ma garne"
   ]
  },
  {
   "cell_type": "code",
   "execution_count": 51,
   "id": "f0c9db17-ac77-40d7-8ae3-e02ce347b917",
   "metadata": {},
   "outputs": [
    {
     "data": {
      "text/plain": [
       "(12, 8, 20, 5.0)"
      ]
     },
     "execution_count": 51,
     "metadata": {},
     "output_type": "execute_result"
    }
   ],
   "source": [
    "random_fun(10,2)"
   ]
  },
  {
   "cell_type": "code",
   "execution_count": 52,
   "id": "617a2f82-05af-43c2-bf30-41dc2bb1ad57",
   "metadata": {},
   "outputs": [],
   "source": [
    "addition, subtraction, multiplication, division = random_fun(10,2) #tuple unpacking, aba auta ko matra value nikalna painxa"
   ]
  },
  {
   "cell_type": "code",
   "execution_count": 55,
   "id": "c3a35d4f-023a-4258-9da5-6b4ee59482cb",
   "metadata": {},
   "outputs": [
    {
     "name": "stdout",
     "output_type": "stream",
     "text": [
      "12\n"
     ]
    }
   ],
   "source": [
    "print(addition) #tuple vayeko le print function use gareko"
   ]
  },
  {
   "cell_type": "code",
   "execution_count": 59,
   "id": "d4ef2e60-672a-457a-9f81-051222c39db9",
   "metadata": {},
   "outputs": [],
   "source": [
    "def addition(x, y, z):\n",
    "    sum = x + y+ z\n",
    "    return sum"
   ]
  },
  {
   "cell_type": "code",
   "execution_count": 60,
   "id": "c3fc4141-6b87-41ee-9b34-455a305811c7",
   "metadata": {},
   "outputs": [
    {
     "data": {
      "text/plain": [
       "6"
      ]
     },
     "execution_count": 60,
     "metadata": {},
     "output_type": "execute_result"
    }
   ],
   "source": [
    "addition(1, 2, 3)"
   ]
  },
  {
   "cell_type": "code",
   "execution_count": 63,
   "id": "26dbaaa6-60a5-4560-aab8-802ed8e06f37",
   "metadata": {},
   "outputs": [],
   "source": [
    "def addition(*args): #to sum many numbers\n",
    "    print(args)\n",
    "    print(type(args))"
   ]
  },
  {
   "cell_type": "code",
   "execution_count": 64,
   "id": "482de8f4-fd58-41ac-a4b3-05cfee290ff5",
   "metadata": {},
   "outputs": [
    {
     "name": "stdout",
     "output_type": "stream",
     "text": [
      "(1, 2, 2, 3)\n",
      "<class 'tuple'>\n"
     ]
    }
   ],
   "source": [
    "addition(1,2,2,3)"
   ]
  },
  {
   "cell_type": "code",
   "execution_count": 65,
   "id": "ff7198f3-6b7f-407f-890b-32d317bebebf",
   "metadata": {},
   "outputs": [],
   "source": [
    "def addition(*args):\n",
    "    sum = 0\n",
    "    for arg in args:\n",
    "        sum += arg\n",
    "    return sum"
   ]
  },
  {
   "cell_type": "code",
   "execution_count": 66,
   "id": "a1f4bf81-6684-4f9c-b0d1-80701bd95aa2",
   "metadata": {},
   "outputs": [
    {
     "data": {
      "text/plain": [
       "8"
      ]
     },
     "execution_count": 66,
     "metadata": {},
     "output_type": "execute_result"
    }
   ],
   "source": [
    "addition(1,2,2,3)"
   ]
  },
  {
   "cell_type": "code",
   "execution_count": 71,
   "id": "9aed46e2-c44d-4187-bccc-ffaae82e5bfe",
   "metadata": {},
   "outputs": [],
   "source": [
    "def addition(*args): #supports positional arguments\n",
    "    sum = 0\n",
    "    for arg in args:\n",
    "        sum += arg\n",
    "        return sum #sum ko just muni return rakhda addition garda first arg ko matra sum aauxa"
   ]
  },
  {
   "cell_type": "code",
   "execution_count": 70,
   "id": "cc4d00e5-2dc3-4e27-bef2-630402579433",
   "metadata": {},
   "outputs": [
    {
     "data": {
      "text/plain": [
       "5"
      ]
     },
     "execution_count": 70,
     "metadata": {},
     "output_type": "execute_result"
    }
   ],
   "source": [
    "addition(5,2,2,3)"
   ]
  },
  {
   "cell_type": "code",
   "execution_count": 72,
   "id": "3f5669ca-29da-42a7-9a3d-bb4da67c8d21",
   "metadata": {},
   "outputs": [
    {
     "ename": "TypeError",
     "evalue": "addition() got an unexpected keyword argument 'x'",
     "output_type": "error",
     "traceback": [
      "\u001b[1;31m---------------------------------------------------------------------------\u001b[0m",
      "\u001b[1;31mTypeError\u001b[0m                                 Traceback (most recent call last)",
      "Cell \u001b[1;32mIn[72], line 1\u001b[0m\n\u001b[1;32m----> 1\u001b[0m \u001b[43maddition\u001b[49m\u001b[43m(\u001b[49m\u001b[43mx\u001b[49m\u001b[38;5;241;43m=\u001b[39;49m\u001b[38;5;241;43m1\u001b[39;49m\u001b[43m,\u001b[49m\u001b[43my\u001b[49m\u001b[38;5;241;43m=\u001b[39;49m\u001b[38;5;241;43m2\u001b[39;49m\u001b[43m,\u001b[49m\u001b[43mz\u001b[49m\u001b[38;5;241;43m=\u001b[39;49m\u001b[38;5;241;43m3\u001b[39;49m\u001b[43m)\u001b[49m\n",
      "\u001b[1;31mTypeError\u001b[0m: addition() got an unexpected keyword argument 'x'"
     ]
    }
   ],
   "source": [
    "addition(x=1,y=2,z=3) #error"
   ]
  },
  {
   "cell_type": "code",
   "execution_count": 73,
   "id": "f8fa0a08-d413-4620-a4d1-05bdac9b8243",
   "metadata": {},
   "outputs": [],
   "source": [
    "def addition(**kwargs): #supports variable no.of keyword arguments\n",
    "    print(kwargs)\n",
    "    print(type(kwargs))"
   ]
  },
  {
   "cell_type": "code",
   "execution_count": 74,
   "id": "4fd80dda-7c7f-41cb-b6ca-3c3c60f8896f",
   "metadata": {},
   "outputs": [
    {
     "name": "stdout",
     "output_type": "stream",
     "text": [
      "{'x': 1, 'y': 2, 'z': 3}\n",
      "<class 'dict'>\n"
     ]
    }
   ],
   "source": [
    "addition(x=1,y=2,z=3) #dic type hunxa"
   ]
  },
  {
   "cell_type": "code",
   "execution_count": 78,
   "id": "de80b991-bcd5-43bd-8397-11d9bcb837bd",
   "metadata": {},
   "outputs": [],
   "source": [
    "def addition(**kwargs): #supports variable no.of keyword arguments\n",
    "    sum = 0\n",
    "    for i  in kwargs.values(): #dict type vayeko le teskai loop lagako\n",
    "        sum += i\n",
    "    return sum"
   ]
  },
  {
   "cell_type": "code",
   "execution_count": 79,
   "id": "3126c2a3-a1fc-485f-8ab1-35674e074e83",
   "metadata": {},
   "outputs": [
    {
     "data": {
      "text/plain": [
       "8"
      ]
     },
     "execution_count": 79,
     "metadata": {},
     "output_type": "execute_result"
    }
   ],
   "source": [
    "addition(x=1,y=2,z=5)"
   ]
  },
  {
   "cell_type": "code",
   "execution_count": 80,
   "id": "9392f6d9-c624-434d-8c0a-61961c011849",
   "metadata": {},
   "outputs": [
    {
     "ename": "TypeError",
     "evalue": "addition() takes 0 positional arguments but 3 were given",
     "output_type": "error",
     "traceback": [
      "\u001b[1;31m---------------------------------------------------------------------------\u001b[0m",
      "\u001b[1;31mTypeError\u001b[0m                                 Traceback (most recent call last)",
      "Cell \u001b[1;32mIn[80], line 1\u001b[0m\n\u001b[1;32m----> 1\u001b[0m \u001b[43maddition\u001b[49m\u001b[43m(\u001b[49m\u001b[38;5;241;43m5\u001b[39;49m\u001b[43m,\u001b[49m\u001b[38;5;241;43m6\u001b[39;49m\u001b[43m,\u001b[49m\u001b[38;5;241;43m7\u001b[39;49m\u001b[43m,\u001b[49m\u001b[43m \u001b[49m\u001b[43mx\u001b[49m\u001b[38;5;241;43m=\u001b[39;49m\u001b[38;5;241;43m1\u001b[39;49m\u001b[43m,\u001b[49m\u001b[43my\u001b[49m\u001b[38;5;241;43m=\u001b[39;49m\u001b[38;5;241;43m2\u001b[39;49m\u001b[43m,\u001b[49m\u001b[43mz\u001b[49m\u001b[38;5;241;43m=\u001b[39;49m\u001b[38;5;241;43m5\u001b[39;49m\u001b[43m)\u001b[49m \n",
      "\u001b[1;31mTypeError\u001b[0m: addition() takes 0 positional arguments but 3 were given"
     ]
    }
   ],
   "source": [
    "addition(5,6,7, x=1,y=2,z=5) #positional argument support gardaina"
   ]
  },
  {
   "cell_type": "code",
   "execution_count": 84,
   "id": "f202aaac-3e6b-4b81-a5f0-bba672e9a060",
   "metadata": {},
   "outputs": [],
   "source": [
    "def addition(*args, **kwargs):  #to sum both keywords and positional arguments\n",
    "    sum = 0 \n",
    "    \n",
    "    #positional arguments sum\n",
    "    for arg in args:\n",
    "        sum += arg\n",
    "   #keyword arguments sum\n",
    "    for i in kwargs.values():\n",
    "        sum += i\n",
    "        \n",
    "    return sum\n"
   ]
  },
  {
   "cell_type": "code",
   "execution_count": 83,
   "id": "5d89b514-6094-4e4f-a6bc-3b4434a98020",
   "metadata": {},
   "outputs": [
    {
     "data": {
      "text/plain": [
       "26"
      ]
     },
     "execution_count": 83,
     "metadata": {},
     "output_type": "execute_result"
    }
   ],
   "source": [
    "addition(5,6,7, x=1,y=2,z=5)"
   ]
  },
  {
   "cell_type": "code",
   "execution_count": 85,
   "id": "9906516f-a5b3-495f-83d1-d12678f72d02",
   "metadata": {},
   "outputs": [],
   "source": [
    "def hello():\n",
    "    xyz = 7 #local scope of hello function\n",
    "    print(xyz)"
   ]
  },
  {
   "cell_type": "code",
   "execution_count": 86,
   "id": "6b45a94e-6159-408a-ba65-4f7bbbc5a451",
   "metadata": {},
   "outputs": [
    {
     "name": "stdout",
     "output_type": "stream",
     "text": [
      "7\n"
     ]
    }
   ],
   "source": [
    "hello()"
   ]
  },
  {
   "cell_type": "code",
   "execution_count": 90,
   "id": "ed2108bc-37c6-4119-b501-a895b200a2b0",
   "metadata": {},
   "outputs": [
    {
     "ename": "NameError",
     "evalue": "name 'xyz' is not defined",
     "output_type": "error",
     "traceback": [
      "\u001b[1;31m---------------------------------------------------------------------------\u001b[0m",
      "\u001b[1;31mNameError\u001b[0m                                 Traceback (most recent call last)",
      "Cell \u001b[1;32mIn[90], line 1\u001b[0m\n\u001b[1;32m----> 1\u001b[0m \u001b[38;5;28mprint\u001b[39m(\u001b[43mxyz\u001b[49m) \u001b[38;5;66;03m#function bahira lai global scope\u001b[39;00m\n\u001b[0;32m      2\u001b[0m \u001b[38;5;66;03m#xyz ko value mathi function bhitra vayeko le error print vayo, cause that is in local scope but we are searching value in global scope\u001b[39;00m\n\u001b[0;32m      3\u001b[0m \u001b[38;5;66;03m#searching in global scope\u001b[39;00m\n",
      "\u001b[1;31mNameError\u001b[0m: name 'xyz' is not defined"
     ]
    }
   ],
   "source": [
    "print(xyz) #function bahira lai global scope\n",
    "#xyz ko value mathi function bhitra vayeko le error print vayo, cause that is in local scope but we are searching value in global scope\n",
    "#searching in global scope"
   ]
  },
  {
   "cell_type": "code",
   "execution_count": null,
   "id": "8050a0ff-4b19-4fb6-ba2a-9828e75045d5",
   "metadata": {},
   "outputs": [],
   "source": [
    "#builtin scope = print,sum,sorted,all,any,list,tuple = system level/system defined\n",
    "# global scope = x, y = user defined = file level/ module level\n",
    "# local scope = xyz= inside function"
   ]
  },
  {
   "cell_type": "code",
   "execution_count": null,
   "id": "8f9f7eda-feee-4199-90b5-42b1bb782c79",
   "metadata": {},
   "outputs": [],
   "source": []
  },
  {
   "cell_type": "code",
   "execution_count": null,
   "id": "df1f6473-1f06-471a-a4ba-48cca621709c",
   "metadata": {},
   "outputs": [],
   "source": []
  },
  {
   "cell_type": "code",
   "execution_count": null,
   "id": "00ce38e8-2d0e-4c60-89e2-64033c197c18",
   "metadata": {},
   "outputs": [],
   "source": []
  },
  {
   "cell_type": "code",
   "execution_count": null,
   "id": "3cc9bf13-cca1-41b6-a6c1-4a9c03ae7136",
   "metadata": {},
   "outputs": [],
   "source": []
  },
  {
   "cell_type": "code",
   "execution_count": null,
   "id": "26c0a3c8-149c-4555-836a-24029d83f551",
   "metadata": {},
   "outputs": [],
   "source": []
  },
  {
   "cell_type": "code",
   "execution_count": null,
   "id": "66a514f2-8bac-4e59-96ca-011d604d10c5",
   "metadata": {},
   "outputs": [],
   "source": []
  },
  {
   "cell_type": "code",
   "execution_count": null,
   "id": "8fed3459-0a7e-4b13-ae20-98bfe1606125",
   "metadata": {},
   "outputs": [],
   "source": []
  },
  {
   "cell_type": "code",
   "execution_count": null,
   "id": "fd24feac-c684-47d9-994a-c02c2ab9acea",
   "metadata": {},
   "outputs": [],
   "source": []
  },
  {
   "cell_type": "code",
   "execution_count": null,
   "id": "09fae900-e613-4d45-805a-54aa47d266b6",
   "metadata": {},
   "outputs": [],
   "source": []
  },
  {
   "cell_type": "code",
   "execution_count": null,
   "id": "acc0f8d2-0573-4894-bc81-953f47bfe7b2",
   "metadata": {},
   "outputs": [],
   "source": []
  },
  {
   "cell_type": "code",
   "execution_count": null,
   "id": "bd57902f-328e-44a4-963f-d354f58f7a9d",
   "metadata": {},
   "outputs": [],
   "source": []
  },
  {
   "cell_type": "code",
   "execution_count": null,
   "id": "9d42af39-be3c-4ca9-90a1-31fa0d75c15b",
   "metadata": {},
   "outputs": [],
   "source": []
  },
  {
   "cell_type": "code",
   "execution_count": null,
   "id": "caaeee53-6576-4365-908d-8427d1263f54",
   "metadata": {},
   "outputs": [],
   "source": []
  },
  {
   "cell_type": "code",
   "execution_count": null,
   "id": "0bd9ef72-c2d5-4ee6-822b-141bd0078095",
   "metadata": {},
   "outputs": [],
   "source": []
  }
 ],
 "metadata": {
  "kernelspec": {
   "display_name": "Python 3 (ipykernel)",
   "language": "python",
   "name": "python3"
  },
  "language_info": {
   "codemirror_mode": {
    "name": "ipython",
    "version": 3
   },
   "file_extension": ".py",
   "mimetype": "text/x-python",
   "name": "python",
   "nbconvert_exporter": "python",
   "pygments_lexer": "ipython3",
   "version": "3.11.4"
  }
 },
 "nbformat": 4,
 "nbformat_minor": 5
}
