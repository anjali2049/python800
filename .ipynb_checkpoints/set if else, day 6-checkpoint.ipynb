{
 "cells": [
  {
   "cell_type": "code",
   "execution_count": 1,
   "id": "a0c467b6-fd38-4280-8569-ce776e64e72e",
   "metadata": {},
   "outputs": [
    {
     "name": "stdout",
     "output_type": "stream",
     "text": [
      "{1, 2, 3, 4, 5}\n"
     ]
    }
   ],
   "source": [
    "x = {1, 2, 3, 4, 5} \n",
    "print(x)"
   ]
  },
  {
   "cell_type": "code",
   "execution_count": 6,
   "id": "7356cfdf-0b4b-44cc-a4d6-078ecc05439d",
   "metadata": {},
   "outputs": [
    {
     "name": "stdout",
     "output_type": "stream",
     "text": [
      "<class 'set'>\n"
     ]
    }
   ],
   "source": [
    "print (type(x))"
   ]
  },
  {
   "cell_type": "code",
   "execution_count": 12,
   "id": "02e7d9dd-280c-48ad-aedf-2521536c7416",
   "metadata": {},
   "outputs": [
    {
     "name": "stdout",
     "output_type": "stream",
     "text": [
      "{1, 2.5, 2, 3, 'ram'}\n"
     ]
    }
   ],
   "source": [
    "x = {1, 2.5, 'ram', 3, 2, 2.5, 1, 2, 1, 'ram'} #jati wota duplicate vaye pani print garda auta matra show garxa\n",
    "#onlu unique value is stored\n",
    "#ordering is not maintain\n",
    "print(x)"
   ]
  },
  {
   "cell_type": "code",
   "execution_count": 14,
   "id": "0b031f52-3550-4add-959e-62384ef382e9",
   "metadata": {},
   "outputs": [
    {
     "ename": "TypeError",
     "evalue": "unhashable type: 'list'",
     "output_type": "error",
     "traceback": [
      "\u001b[1;31m---------------------------------------------------------------------------\u001b[0m",
      "\u001b[1;31mTypeError\u001b[0m                                 Traceback (most recent call last)",
      "Cell \u001b[1;32mIn[14], line 1\u001b[0m\n\u001b[1;32m----> 1\u001b[0m x \u001b[38;5;241m=\u001b[39m {\u001b[38;5;241m1\u001b[39m, \u001b[38;5;241m2.5\u001b[39m, \u001b[38;5;124m'\u001b[39m\u001b[38;5;124mram\u001b[39m\u001b[38;5;124m'\u001b[39m, \u001b[38;5;241m3\u001b[39m, \u001b[38;5;241m2\u001b[39m, \u001b[38;5;241m2.5\u001b[39m, \u001b[38;5;241m1\u001b[39m, \u001b[38;5;241m2\u001b[39m, \u001b[38;5;241m1\u001b[39m, [\u001b[38;5;241m1\u001b[39m,\u001b[38;5;241m2\u001b[39m,\u001b[38;5;241m3\u001b[39m,\u001b[38;5;241m4\u001b[39m],\u001b[38;5;124m'\u001b[39m\u001b[38;5;124mram\u001b[39m\u001b[38;5;124m'\u001b[39m}\n",
      "\u001b[1;31mTypeError\u001b[0m: unhashable type: 'list'"
     ]
    }
   ],
   "source": [
    "x = {1, 2.5, 'ram', 3, 2, 2.5, 1, 2, 1, [1,2,3,4],'ram'}"
   ]
  },
  {
   "cell_type": "code",
   "execution_count": 16,
   "id": "866f0344-1124-4658-ad6c-f98762640650",
   "metadata": {},
   "outputs": [],
   "source": [
    "#unhashable type = immutable boject cannot be added inside set => list, dictionery\n",
    "#but tuple can be stored in set"
   ]
  },
  {
   "cell_type": "code",
   "execution_count": 20,
   "id": "3e90270d-e9b4-4f70-9555-766844b1b6a4",
   "metadata": {},
   "outputs": [
    {
     "name": "stdout",
     "output_type": "stream",
     "text": [
      "{1, 2.5, 2, 3, (1, 2, 3), 'ram'}\n"
     ]
    }
   ],
   "source": [
    "x = {1, 2.5, 'ram', 3, 2, 1, 'ram', (1,2,3)}\n",
    "print(x)"
   ]
  },
  {
   "cell_type": "code",
   "execution_count": 21,
   "id": "f95e28d6-ffae-4e59-8be5-252964df6fbd",
   "metadata": {},
   "outputs": [
    {
     "name": "stdout",
     "output_type": "stream",
     "text": [
      "Help on class set in module builtins:\n",
      "\n",
      "class set(object)\n",
      " |  set() -> new empty set object\n",
      " |  set(iterable) -> new set object\n",
      " |  \n",
      " |  Build an unordered collection of unique elements.\n",
      " |  \n",
      " |  Methods defined here:\n",
      " |  \n",
      " |  __and__(self, value, /)\n",
      " |      Return self&value.\n",
      " |  \n",
      " |  __contains__(...)\n",
      " |      x.__contains__(y) <==> y in x.\n",
      " |  \n",
      " |  __eq__(self, value, /)\n",
      " |      Return self==value.\n",
      " |  \n",
      " |  __ge__(self, value, /)\n",
      " |      Return self>=value.\n",
      " |  \n",
      " |  __getattribute__(self, name, /)\n",
      " |      Return getattr(self, name).\n",
      " |  \n",
      " |  __gt__(self, value, /)\n",
      " |      Return self>value.\n",
      " |  \n",
      " |  __iand__(self, value, /)\n",
      " |      Return self&=value.\n",
      " |  \n",
      " |  __init__(self, /, *args, **kwargs)\n",
      " |      Initialize self.  See help(type(self)) for accurate signature.\n",
      " |  \n",
      " |  __ior__(self, value, /)\n",
      " |      Return self|=value.\n",
      " |  \n",
      " |  __isub__(self, value, /)\n",
      " |      Return self-=value.\n",
      " |  \n",
      " |  __iter__(self, /)\n",
      " |      Implement iter(self).\n",
      " |  \n",
      " |  __ixor__(self, value, /)\n",
      " |      Return self^=value.\n",
      " |  \n",
      " |  __le__(self, value, /)\n",
      " |      Return self<=value.\n",
      " |  \n",
      " |  __len__(self, /)\n",
      " |      Return len(self).\n",
      " |  \n",
      " |  __lt__(self, value, /)\n",
      " |      Return self<value.\n",
      " |  \n",
      " |  __ne__(self, value, /)\n",
      " |      Return self!=value.\n",
      " |  \n",
      " |  __or__(self, value, /)\n",
      " |      Return self|value.\n",
      " |  \n",
      " |  __rand__(self, value, /)\n",
      " |      Return value&self.\n",
      " |  \n",
      " |  __reduce__(...)\n",
      " |      Return state information for pickling.\n",
      " |  \n",
      " |  __repr__(self, /)\n",
      " |      Return repr(self).\n",
      " |  \n",
      " |  __ror__(self, value, /)\n",
      " |      Return value|self.\n",
      " |  \n",
      " |  __rsub__(self, value, /)\n",
      " |      Return value-self.\n",
      " |  \n",
      " |  __rxor__(self, value, /)\n",
      " |      Return value^self.\n",
      " |  \n",
      " |  __sizeof__(...)\n",
      " |      S.__sizeof__() -> size of S in memory, in bytes\n",
      " |  \n",
      " |  __sub__(self, value, /)\n",
      " |      Return self-value.\n",
      " |  \n",
      " |  __xor__(self, value, /)\n",
      " |      Return self^value.\n",
      " |  \n",
      " |  add(...)\n",
      " |      Add an element to a set.\n",
      " |      \n",
      " |      This has no effect if the element is already present.\n",
      " |  \n",
      " |  clear(...)\n",
      " |      Remove all elements from this set.\n",
      " |  \n",
      " |  copy(...)\n",
      " |      Return a shallow copy of a set.\n",
      " |  \n",
      " |  difference(...)\n",
      " |      Return the difference of two or more sets as a new set.\n",
      " |      \n",
      " |      (i.e. all elements that are in this set but not the others.)\n",
      " |  \n",
      " |  difference_update(...)\n",
      " |      Remove all elements of another set from this set.\n",
      " |  \n",
      " |  discard(...)\n",
      " |      Remove an element from a set if it is a member.\n",
      " |      \n",
      " |      Unlike set.remove(), the discard() method does not raise\n",
      " |      an exception when an element is missing from the set.\n",
      " |  \n",
      " |  intersection(...)\n",
      " |      Return the intersection of two sets as a new set.\n",
      " |      \n",
      " |      (i.e. all elements that are in both sets.)\n",
      " |  \n",
      " |  intersection_update(...)\n",
      " |      Update a set with the intersection of itself and another.\n",
      " |  \n",
      " |  isdisjoint(...)\n",
      " |      Return True if two sets have a null intersection.\n",
      " |  \n",
      " |  issubset(...)\n",
      " |      Report whether another set contains this set.\n",
      " |  \n",
      " |  issuperset(...)\n",
      " |      Report whether this set contains another set.\n",
      " |  \n",
      " |  pop(...)\n",
      " |      Remove and return an arbitrary set element.\n",
      " |      Raises KeyError if the set is empty.\n",
      " |  \n",
      " |  remove(...)\n",
      " |      Remove an element from a set; it must be a member.\n",
      " |      \n",
      " |      If the element is not a member, raise a KeyError.\n",
      " |  \n",
      " |  symmetric_difference(...)\n",
      " |      Return the symmetric difference of two sets as a new set.\n",
      " |      \n",
      " |      (i.e. all elements that are in exactly one of the sets.)\n",
      " |  \n",
      " |  symmetric_difference_update(...)\n",
      " |      Update a set with the symmetric difference of itself and another.\n",
      " |  \n",
      " |  union(...)\n",
      " |      Return the union of sets as a new set.\n",
      " |      \n",
      " |      (i.e. all elements that are in either set.)\n",
      " |  \n",
      " |  update(...)\n",
      " |      Update a set with the union of itself and others.\n",
      " |  \n",
      " |  ----------------------------------------------------------------------\n",
      " |  Class methods defined here:\n",
      " |  \n",
      " |  __class_getitem__(...) from builtins.type\n",
      " |      See PEP 585\n",
      " |  \n",
      " |  ----------------------------------------------------------------------\n",
      " |  Static methods defined here:\n",
      " |  \n",
      " |  __new__(*args, **kwargs) from builtins.type\n",
      " |      Create and return a new object.  See help(type) for accurate signature.\n",
      " |  \n",
      " |  ----------------------------------------------------------------------\n",
      " |  Data and other attributes defined here:\n",
      " |  \n",
      " |  __hash__ = None\n",
      "\n"
     ]
    }
   ],
   "source": [
    "help(set)"
   ]
  },
  {
   "cell_type": "code",
   "execution_count": 22,
   "id": "718a4102-a845-4ac0-b77b-5ff8d7dd4253",
   "metadata": {},
   "outputs": [
    {
     "name": "stdout",
     "output_type": "stream",
     "text": [
      "{1, 2.5, 2, 3, 'hello', (1, 2, 3), 'ram'}\n"
     ]
    }
   ],
   "source": [
    "x = {1, 2.5, 'ram', 3, 2, 1, 'ram', (1,2,3)}\n",
    "x.add('hello')\n",
    "\n",
    "#'hello' is added so set is mutable object\n",
    "\n",
    "print(x)"
   ]
  },
  {
   "cell_type": "code",
   "execution_count": 25,
   "id": "60ab1d76-c250-498a-8ec7-9f9497956bd5",
   "metadata": {},
   "outputs": [
    {
     "name": "stdout",
     "output_type": "stream",
     "text": [
      "set()\n"
     ]
    }
   ],
   "source": [
    "x = {1, 2.5, 'ram', 3, 2, 1, 'ram', (1,2,3)}\n",
    "x.clear() #to clear the set\n",
    "print(x)"
   ]
  },
  {
   "cell_type": "code",
   "execution_count": 26,
   "id": "db412ee9-739c-4533-925b-f27feb518210",
   "metadata": {},
   "outputs": [
    {
     "name": "stdout",
     "output_type": "stream",
     "text": [
      "{1, 2.5, 2, 3, (1, 2, 3), 'ram'}\n",
      "{1, 2.5, 2, 3, 'hello', (1, 2, 3), 'ram'}\n"
     ]
    }
   ],
   "source": [
    "x = {1, 2.5, 'ram', 3, 2, 1, 'ram', (1,2,3)}\n",
    "y = x.copy()\n",
    "\n",
    "y.add(\"hello\")\n",
    "\n",
    "print(x)\n",
    "print(y)"
   ]
  },
  {
   "cell_type": "code",
   "execution_count": 27,
   "id": "d2ffd440-086b-4aa6-b239-74041a90616f",
   "metadata": {},
   "outputs": [
    {
     "name": "stdout",
     "output_type": "stream",
     "text": [
      "{'hari', 'geeta', 'ram', 'sita', 'shyam'}\n"
     ]
    }
   ],
   "source": [
    "tea = {\"ram\", \"hari\", \"sita\"}\n",
    "coffee = {\"geeta\", \"shyam\", \"sita\"}\n",
    "\n",
    "tea_or_coffee = tea | coffee # | is used for union mean whole\n",
    "print(tea_or_coffee)"
   ]
  },
  {
   "cell_type": "code",
   "execution_count": 28,
   "id": "c1e17f81-b18c-4002-8ab5-901ae92aac0a",
   "metadata": {},
   "outputs": [
    {
     "name": "stdout",
     "output_type": "stream",
     "text": [
      "{'hari', 'geeta', 'ram', 'sita', 'shyam'}\n"
     ]
    }
   ],
   "source": [
    "tea = {\"ram\", \"hari\", \"sita\"}\n",
    "coffee = {\"geeta\", \"shyam\", \"sita\"}\n",
    "\n",
    "tea_or_coffee = tea.union(coffee) # .union is also used for union mean whole\n",
    "print(tea_or_coffee)"
   ]
  },
  {
   "cell_type": "code",
   "execution_count": 30,
   "id": "b51ec1be-dab6-42fb-b27e-e57d55290a8a",
   "metadata": {},
   "outputs": [
    {
     "name": "stdout",
     "output_type": "stream",
     "text": [
      "{'sita'}\n"
     ]
    }
   ],
   "source": [
    "tea = {\"ram\", \"hari\", \"sita\"}\n",
    "coffee = {\"geeta\", \"shyam\", \"sita\"}\n",
    "\n",
    "tea_and_coffee = tea & coffee # & is used for intersection mean whole\n",
    "print(tea_and_coffee)"
   ]
  },
  {
   "cell_type": "code",
   "execution_count": 32,
   "id": "6d5c812c-b1f6-40d3-b2e2-e1c21014c5f3",
   "metadata": {},
   "outputs": [
    {
     "name": "stdout",
     "output_type": "stream",
     "text": [
      "{'sita'}\n"
     ]
    }
   ],
   "source": [
    "tea = {\"ram\", \"hari\", \"sita\"}\n",
    "coffee = {\"geeta\", \"shyam\", \"sita\"}\n",
    "\n",
    "tea_and_coffee = tea.intersection(coffee) # .intersection is used for intersection mean whole\n",
    "print(tea_and_coffee)"
   ]
  },
  {
   "cell_type": "code",
   "execution_count": 33,
   "id": "a819927b-2cb9-4779-b133-d6678d53fd3d",
   "metadata": {},
   "outputs": [
    {
     "name": "stdout",
     "output_type": "stream",
     "text": [
      "{'ram', 'hari'}\n"
     ]
    }
   ],
   "source": [
    "tea = {\"ram\", \"hari\", \"sita\"}\n",
    "coffee = {\"geeta\", \"shyam\", \"sita\"}\n",
    "\n",
    "tea_only = tea - coffee\n",
    "print(tea_only)"
   ]
  },
  {
   "cell_type": "code",
   "execution_count": 34,
   "id": "18776fb1-1629-4d2e-bd6b-35becf8921f1",
   "metadata": {},
   "outputs": [
    {
     "name": "stdout",
     "output_type": "stream",
     "text": [
      "{'geeta', 'shyam'}\n"
     ]
    }
   ],
   "source": [
    "coffee_only = coffee - tea\n",
    "print(coffee_only)"
   ]
  },
  {
   "cell_type": "code",
   "execution_count": 35,
   "id": "c1b19777-d772-47e9-a002-8fb3f6913c51",
   "metadata": {},
   "outputs": [
    {
     "name": "stdout",
     "output_type": "stream",
     "text": [
      "{'ram', 'hari'}\n"
     ]
    }
   ],
   "source": [
    "tea = {\"ram\", \"hari\", \"sita\"}\n",
    "coffee = {\"geeta\", \"shyam\", \"sita\"}\n",
    "\n",
    "tea_only = tea.difference(coffee)\n",
    "print(tea_only)"
   ]
  },
  {
   "cell_type": "code",
   "execution_count": 36,
   "id": "ed49aefe-6c2a-4f0c-a97a-3a56f60a443a",
   "metadata": {},
   "outputs": [
    {
     "name": "stdout",
     "output_type": "stream",
     "text": [
      "{'geeta', 'shyam'}\n"
     ]
    }
   ],
   "source": [
    "coffee_only = coffee.difference(tea)\n",
    "print(coffee_only)"
   ]
  },
  {
   "cell_type": "code",
   "execution_count": 37,
   "id": "bda53fff-b5dc-4863-93ce-3da9e8d6502c",
   "metadata": {},
   "outputs": [
    {
     "name": "stdout",
     "output_type": "stream",
     "text": [
      "{'hari', 'geeta', 'ram', 'shyam'}\n"
     ]
    }
   ],
   "source": [
    "tea = {\"ram\", \"hari\", \"sita\"}\n",
    "coffee = {\"geeta\", \"shyam\", \"sita\"}\n",
    "\n",
    "tea_only_or_coffee_only = tea.symmetric_difference(coffee) #coffee matra ra tea matra khane\n",
    "print(tea_only_or_coffee_only)"
   ]
  },
  {
   "cell_type": "code",
   "execution_count": 39,
   "id": "b4df0b51-3897-4cde-afbd-1d7a141241ac",
   "metadata": {},
   "outputs": [
    {
     "name": "stdout",
     "output_type": "stream",
     "text": [
      "{1, 2.5, 3, 2, 8, 9, 10, (1, 2, 3), 'ram'}\n"
     ]
    }
   ],
   "source": [
    "x ={1, 2, 2.5, 3, (1,2,3), \"ram\"} #to add elements in set\n",
    "x.update([1,8,9,10])\n",
    "print(x)"
   ]
  },
  {
   "cell_type": "code",
   "execution_count": 40,
   "id": "11771a5b-6dbf-49fb-bf25-0d955d503c95",
   "metadata": {},
   "outputs": [
    {
     "name": "stdout",
     "output_type": "stream",
     "text": [
      "{2.5, 3, 2, (1, 2, 3), 'ram'}\n"
     ]
    }
   ],
   "source": [
    "x ={1, 2, 2.5, 3, (1,2,3), \"ram\"}\n",
    "x.discard(1) #kunai elememnt hatauna\n",
    "print(x)"
   ]
  },
  {
   "cell_type": "code",
   "execution_count": 42,
   "id": "f6c743f4-a5ea-42f5-a827-703a53b50282",
   "metadata": {},
   "outputs": [
    {
     "name": "stdout",
     "output_type": "stream",
     "text": [
      "{1, 2.5, 3, 2, (1, 2, 3), 'ram'}\n"
     ]
    }
   ],
   "source": [
    "x ={1, 2, 2.5, 3, (1,2,3), \"ram\"}\n",
    "x.discard(11) #navayeko kura discard garda kei hunna, j set xa tei dekhauxa\n",
    "print(x)"
   ]
  },
  {
   "cell_type": "code",
   "execution_count": 43,
   "id": "74eec723-62e9-4a40-a19a-c8b6522efab9",
   "metadata": {},
   "outputs": [
    {
     "ename": "KeyError",
     "evalue": "11",
     "output_type": "error",
     "traceback": [
      "\u001b[1;31m---------------------------------------------------------------------------\u001b[0m",
      "\u001b[1;31mKeyError\u001b[0m                                  Traceback (most recent call last)",
      "Cell \u001b[1;32mIn[43], line 3\u001b[0m\n\u001b[0;32m      1\u001b[0m x \u001b[38;5;241m=\u001b[39m{\u001b[38;5;241m1\u001b[39m, \u001b[38;5;241m2\u001b[39m, \u001b[38;5;241m2.5\u001b[39m, \u001b[38;5;241m3\u001b[39m, (\u001b[38;5;241m1\u001b[39m,\u001b[38;5;241m2\u001b[39m,\u001b[38;5;241m3\u001b[39m), \u001b[38;5;124m\"\u001b[39m\u001b[38;5;124mram\u001b[39m\u001b[38;5;124m\"\u001b[39m}\n\u001b[0;32m      2\u001b[0m \u001b[38;5;66;03m#navayeko kura remove garda error aauxa. x.remove le\u001b[39;00m\n\u001b[1;32m----> 3\u001b[0m \u001b[43mx\u001b[49m\u001b[38;5;241;43m.\u001b[39;49m\u001b[43mremove\u001b[49m\u001b[43m(\u001b[49m\u001b[38;5;241;43m11\u001b[39;49m\u001b[43m)\u001b[49m\n\u001b[0;32m      4\u001b[0m \u001b[38;5;28mprint\u001b[39m(x)\n",
      "\u001b[1;31mKeyError\u001b[0m: 11"
     ]
    }
   ],
   "source": [
    "x ={1, 2, 2.5, 3, (1,2,3), \"ram\"}\n",
    "#navayeko kura remove garda error aauxa. x.remove le\n",
    "x.remove(11)\n",
    "print(x)"
   ]
  },
  {
   "cell_type": "code",
   "execution_count": 45,
   "id": "1b89811e-8f8c-47c3-9799-97edd5e5247b",
   "metadata": {},
   "outputs": [
    {
     "name": "stdout",
     "output_type": "stream",
     "text": [
      "{2.5, 3, 2, (1, 2, 3), 'ram'}\n"
     ]
    }
   ],
   "source": [
    "x ={1, 2, 2.5, 3, (1,2,3), \"ram\"}\n",
    "x.pop() #.opo le jun sukai element hataidinxa\n",
    "print(x)"
   ]
  },
  {
   "cell_type": "code",
   "execution_count": 52,
   "id": "200a96dd-186a-4bc5-a447-c86ee2a93369",
   "metadata": {},
   "outputs": [
    {
     "name": "stdout",
     "output_type": "stream",
     "text": [
      "<class 'set'>\n"
     ]
    }
   ],
   "source": [
    "x = set() #to make empty set\n",
    "print(type(x))"
   ]
  },
  {
   "cell_type": "code",
   "execution_count": 54,
   "id": "e368ad24-5d4b-4ec1-b390-6230b5b599f9",
   "metadata": {},
   "outputs": [
    {
     "data": {
      "text/plain": [
       "1"
      ]
     },
     "execution_count": 54,
     "metadata": {},
     "output_type": "execute_result"
    }
   ],
   "source": [
    "min([1,3,2,88,22,11])"
   ]
  },
  {
   "cell_type": "code",
   "execution_count": 55,
   "id": "38b4ede3-9646-425c-b95e-ab682770caa9",
   "metadata": {},
   "outputs": [
    {
     "data": {
      "text/plain": [
       "88"
      ]
     },
     "execution_count": 55,
     "metadata": {},
     "output_type": "execute_result"
    }
   ],
   "source": [
    "max([1,3,2,88,22,11])"
   ]
  },
  {
   "cell_type": "code",
   "execution_count": 56,
   "id": "1968b864-b161-4bfc-95df-52530317ae53",
   "metadata": {},
   "outputs": [
    {
     "data": {
      "text/plain": [
       "[1, 2, 3, 11, 22, 88]"
      ]
     },
     "execution_count": 56,
     "metadata": {},
     "output_type": "execute_result"
    }
   ],
   "source": [
    "sorted([1,3,2,88,22,11])"
   ]
  },
  {
   "cell_type": "code",
   "execution_count": 57,
   "id": "a22c9f96-9193-4b88-9c70-197f38eda340",
   "metadata": {},
   "outputs": [
    {
     "data": {
      "text/plain": [
       "6"
      ]
     },
     "execution_count": 57,
     "metadata": {},
     "output_type": "execute_result"
    }
   ],
   "source": [
    "len([1,3,2,88,22,11])"
   ]
  },
  {
   "cell_type": "code",
   "execution_count": 71,
   "id": "0fb8c0ea-820d-47c0-b080-b290d4f1c783",
   "metadata": {},
   "outputs": [],
   "source": [
    "min = [1,2,3,4,5] # we have created min valriable which can cause error when we call min build in function, see below\n",
    "\n",
    "del min"
   ]
  },
  {
   "cell_type": "code",
   "execution_count": 72,
   "id": "9e986714-6e45-4033-b933-679ae0b40c28",
   "metadata": {},
   "outputs": [
    {
     "data": {
      "text/plain": [
       "1"
      ]
     },
     "execution_count": 72,
     "metadata": {},
     "output_type": "execute_result"
    }
   ],
   "source": [
    "min([1,3,2,88,22,11])"
   ]
  },
  {
   "cell_type": "code",
   "execution_count": 73,
   "id": "90c3791c-1306-4032-b173-64b81175c1ff",
   "metadata": {},
   "outputs": [
    {
     "ename": "NameError",
     "evalue": "name 'min' is not defined",
     "output_type": "error",
     "traceback": [
      "\u001b[1;31m---------------------------------------------------------------------------\u001b[0m",
      "\u001b[1;31mNameError\u001b[0m                                 Traceback (most recent call last)",
      "Cell \u001b[1;32mIn[73], line 2\u001b[0m\n\u001b[0;32m      1\u001b[0m \u001b[38;5;66;03m#so delete min varaiable and run min built in function\u001b[39;00m\n\u001b[1;32m----> 2\u001b[0m \u001b[38;5;28;01mdel\u001b[39;00m \u001b[38;5;28;43mmin\u001b[39;49m \n",
      "\u001b[1;31mNameError\u001b[0m: name 'min' is not defined"
     ]
    }
   ],
   "source": [
    "#so delete min varaiable and run min built in function\n",
    "del min "
   ]
  },
  {
   "cell_type": "code",
   "execution_count": 76,
   "id": "1264b015-8ae1-4827-818f-b5d1af2fce4f",
   "metadata": {},
   "outputs": [
    {
     "ename": "TypeError",
     "evalue": "'builtin_function_or_method' object is not subscriptable",
     "output_type": "error",
     "traceback": [
      "\u001b[1;31m---------------------------------------------------------------------------\u001b[0m",
      "\u001b[1;31mTypeError\u001b[0m                                 Traceback (most recent call last)",
      "Cell \u001b[1;32mIn[76], line 1\u001b[0m\n\u001b[1;32m----> 1\u001b[0m \u001b[38;5;28;43mmin\u001b[39;49m\u001b[43m[\u001b[49m\u001b[38;5;241;43m1\u001b[39;49m\u001b[43m,\u001b[49m\u001b[38;5;241;43m3\u001b[39;49m\u001b[43m,\u001b[49m\u001b[38;5;241;43m2\u001b[39;49m\u001b[43m,\u001b[49m\u001b[38;5;241;43m88\u001b[39;49m\u001b[43m,\u001b[49m\u001b[38;5;241;43m22\u001b[39;49m\u001b[43m,\u001b[49m\u001b[38;5;241;43m11\u001b[39;49m\u001b[43m]\u001b[49m\n",
      "\u001b[1;31mTypeError\u001b[0m: 'builtin_function_or_method' object is not subscriptable"
     ]
    }
   ],
   "source": [
    "min[1,3,2,88,22,11]"
   ]
  },
  {
   "cell_type": "code",
   "execution_count": 75,
   "id": "bf0d6be3-60af-44ed-bc6d-e7e8b71fae93",
   "metadata": {},
   "outputs": [
    {
     "name": "stdout",
     "output_type": "stream",
     "text": [
      "12\n"
     ]
    }
   ],
   "source": [
    "x = 5\n",
    "y = 7\n",
    "\n",
    "sum = x + y\n",
    "print(sum)"
   ]
  },
  {
   "cell_type": "code",
   "execution_count": 66,
   "id": "d3115769-36af-46bf-aa42-11a110f117ca",
   "metadata": {},
   "outputs": [],
   "source": [
    "age = 17\n",
    "\n",
    "if age > 18:\n",
    "    print(\"Authorised\")"
   ]
  },
  {
   "cell_type": "code",
   "execution_count": 67,
   "id": "6180a3ff-fd69-4c3f-9a8b-bcdea49e15f9",
   "metadata": {},
   "outputs": [
    {
     "name": "stdout",
     "output_type": "stream",
     "text": [
      "Authorised\n"
     ]
    }
   ],
   "source": [
    "age = 19\n",
    "\n",
    "if age > 18:\n",
    "    print(\"Authorised\")"
   ]
  },
  {
   "cell_type": "code",
   "execution_count": 79,
   "id": "01ac2edd-d3af-445d-b311-6f7ce8378258",
   "metadata": {},
   "outputs": [
    {
     "name": "stdin",
     "output_type": "stream",
     "text": [
      "Enter marks :  30\n"
     ]
    },
    {
     "name": "stdout",
     "output_type": "stream",
     "text": [
      "FAIL\n"
     ]
    }
   ],
   "source": [
    "mark = int(input(\"Enter marks : \"))\n",
    "\n",
    "if mark >= 45:     #yes ma dubai condition check garxa\n",
    "    print(\"PASS\")\n",
    "\n",
    "if mark < 45: \n",
    "    print(\"FAIL\")"
   ]
  },
  {
   "cell_type": "code",
   "execution_count": 80,
   "id": "7b12a4c5-d46f-4fae-aa64-f71c356373f9",
   "metadata": {},
   "outputs": [
    {
     "name": "stdin",
     "output_type": "stream",
     "text": [
      "Enter the value of x :  3\n",
      "Enter the value of y :  2\n"
     ]
    },
    {
     "name": "stdout",
     "output_type": "stream",
     "text": [
      "x is greater than y \n"
     ]
    }
   ],
   "source": [
    "x = int(input(\"Enter the value of x : \"))\n",
    "y = int(input(\"Enter the value of y : \"))\n",
    "\n",
    "if x > y :\n",
    "    print(\"x is greater than y \")    \n",
    "\n",
    "if y > x :\n",
    "    print(\"y is greater than x\")"
   ]
  },
  {
   "cell_type": "code",
   "execution_count": 82,
   "id": "069fd596-d58c-440f-85aa-66a1888d688e",
   "metadata": {},
   "outputs": [
    {
     "name": "stdin",
     "output_type": "stream",
     "text": [
      "Enter marks :  50\n"
     ]
    },
    {
     "name": "stdout",
     "output_type": "stream",
     "text": [
      "PASS\n"
     ]
    }
   ],
   "source": [
    "mark = int(input(\"Enter marks : \"))\n",
    "\n",
    "if mark >= 45:     #yes ma dubai condition check garxa  #paile if ma check garxa yadi yo condition meet hunxa vane pass print hunxa\n",
    "    #navaye direct fail print hunxa\n",
    "    print(\"PASS\")\n",
    "\n",
    "else: \n",
    "    print(\"FAIL\")"
   ]
  },
  {
   "cell_type": "code",
   "execution_count": 84,
   "id": "a22f54e7-2fa4-483a-9aac-bf357c8c2aec",
   "metadata": {},
   "outputs": [
    {
     "name": "stdin",
     "output_type": "stream",
     "text": [
      "Enter the value of x :  5\n",
      "Enter the value of y :  3\n"
     ]
    },
    {
     "name": "stdout",
     "output_type": "stream",
     "text": [
      "x is greater than y \n"
     ]
    }
   ],
   "source": [
    "x = int(input(\"Enter the value of x : \"))\n",
    "y = int(input(\"Enter the value of y : \"))\n",
    "\n",
    "if x > y :\n",
    "    print(\"x is greater than y \")    \n",
    "\n",
    "else :\n",
    "    print(\"y is greater than x\")"
   ]
  },
  {
   "cell_type": "code",
   "execution_count": 86,
   "id": "0c0842da-141f-4c1f-9035-eae5a40f53c3",
   "metadata": {},
   "outputs": [
    {
     "name": "stdin",
     "output_type": "stream",
     "text": [
      "Enter the value of x :  5\n",
      "Enter the value of y :  5\n"
     ]
    },
    {
     "name": "stdout",
     "output_type": "stream",
     "text": [
      "x and y are equal\n"
     ]
    }
   ],
   "source": [
    "x = int(input(\"Enter the value of x : \"))\n",
    "y = int(input(\"Enter the value of y : \"))\n",
    "\n",
    "if x > y :\n",
    "    print(\"x is greater than y \")   \n",
    "    \n",
    "elif x == y:\n",
    "    print(\"x and y are equal\")\n",
    "    \n",
    "else :\n",
    "    print(\"y is greater than x\")"
   ]
  },
  {
   "cell_type": "code",
   "execution_count": null,
   "id": "bf960d86-46bb-43a3-af03-99ebfae3f058",
   "metadata": {},
   "outputs": [],
   "source": [
    "if True:\n",
    "    print(\"hello1\")\n",
    "elif True:\n",
    "    print(\"hello2\")\n",
    "elif True :\n",
    "    print(\"hello3\")\n",
    "\n",
    "    \n"
   ]
  },
  {
   "cell_type": "code",
   "execution_count": 88,
   "id": "a11aef14-ed51-4fa3-ba19-25044d6aceca",
   "metadata": {},
   "outputs": [
    {
     "name": "stdin",
     "output_type": "stream",
     "text": [
      "enter the value of x :  5\n",
      "enter the value of y :  3\n",
      "enter the value of z :  1\n"
     ]
    },
    {
     "name": "stdout",
     "output_type": "stream",
     "text": [
      "x is greatest\n"
     ]
    }
   ],
   "source": [
    "x = int(input(\"enter the value of x : \"))\n",
    "y= int(input(\"enter the value of y : \"))\n",
    "z = int(input(\"enter the value of z : \"))\n",
    "\n",
    "if x > y and x > z:\n",
    "    print('x is greatest')\n",
    "elif y > x and y > z : \n",
    "    print('y is  greatest')\n",
    "else:\n",
    "    print('z is greatest' )\n"
   ]
  },
  {
   "cell_type": "code",
   "execution_count": 93,
   "id": "1650801a-cedf-47f9-875b-8d5e8e367379",
   "metadata": {},
   "outputs": [
    {
     "name": "stdin",
     "output_type": "stream",
     "text": [
      "Enter the username :  anj\n",
      " Enter the password :  abn\n"
     ]
    },
    {
     "name": "stdout",
     "output_type": "stream",
     "text": [
      "log in failed\n"
     ]
    }
   ],
   "source": [
    "username = input(\"Enter the username : \")\n",
    "password = input (\" Enter the password : \")\n",
    "\n",
    "if username == 'admin' and password == 'admin123' : \n",
    "   print(\"successfully logged in\")  \n",
    "\n",
    "else :\n",
    "    print('log in failed')\n"
   ]
  },
  {
   "cell_type": "code",
   "execution_count": 3,
   "id": "699de20a-21d1-42b6-9aea-12689bfc96d9",
   "metadata": {},
   "outputs": [
    {
     "name": "stdin",
     "output_type": "stream",
     "text": [
      "Enter the username :  admin\n",
      " Enter the password :  admin123\n",
      "Enter the role :  anj\n"
     ]
    },
    {
     "name": "stdout",
     "output_type": "stream",
     "text": [
      "log in failed\n"
     ]
    }
   ],
   "source": [
    "username = input(\"Enter the username : \")\n",
    "password = input (\" Enter the password : \")\n",
    "role = input(\"Enter the role : \")\n",
    "\n",
    "if username == ('admin' and password == 'admin123') or (role == 'superadmin') : \n",
    "   print(\"successfully logged in\")  \n",
    "\n",
    "else :\n",
    "    print('log in failed')"
   ]
  },
  {
   "cell_type": "code",
   "execution_count": null,
   "id": "0f33d3bd-d5d2-49c0-a374-447a7f7f7080",
   "metadata": {},
   "outputs": [],
   "source": []
  },
  {
   "cell_type": "code",
   "execution_count": null,
   "id": "5009f917-88be-487b-a173-4e279f1947d2",
   "metadata": {},
   "outputs": [],
   "source": []
  },
  {
   "cell_type": "code",
   "execution_count": null,
   "id": "8f44d9d2-1a65-4adc-b417-988e67b4968f",
   "metadata": {},
   "outputs": [],
   "source": []
  }
 ],
 "metadata": {
  "kernelspec": {
   "display_name": "Python 3 (ipykernel)",
   "language": "python",
   "name": "python3"
  },
  "language_info": {
   "codemirror_mode": {
    "name": "ipython",
    "version": 3
   },
   "file_extension": ".py",
   "mimetype": "text/x-python",
   "name": "python",
   "nbconvert_exporter": "python",
   "pygments_lexer": "ipython3",
   "version": "3.11.4"
  }
 },
 "nbformat": 4,
 "nbformat_minor": 5
}
