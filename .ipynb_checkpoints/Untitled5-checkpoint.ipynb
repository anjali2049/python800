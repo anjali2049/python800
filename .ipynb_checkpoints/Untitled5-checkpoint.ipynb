{
 "cells": [
  {
   "cell_type": "code",
   "execution_count": 1,
   "id": "91823428-5173-477b-a594-22cc415bfc64",
   "metadata": {},
   "outputs": [
    {
     "name": "stdout",
     "output_type": "stream",
     "text": [
      "5\n"
     ]
    }
   ],
   "source": [
    "x = 2\n",
    "y = 3\n",
    "sum = x + y\n",
    "print(sum)"
   ]
  },
  {
   "cell_type": "code",
   "execution_count": 10,
   "id": "1bd47e0d-875a-4316-b5e7-aba4049467cc",
   "metadata": {},
   "outputs": [
    {
     "name": "stdout",
     "output_type": "stream",
     "text": [
      "2690\n"
     ]
    }
   ],
   "source": [
    "x = (2+5+6+9+8+7+49+6+5+89+65+45+69+5+\n",
    "697+459+649+6+6+9+8+7+4+5+3+2+1+5+98+\n",
    "9+5+4+7+8+9+6+5+3+21+6+9+9+9+8+4+9+6+\n",
    "5+7+3+1+2+5+6+8+97+4+5+6+8+9+4+5+9+8+8+4+5+9+6)\n",
    "print(x)"
   ]
  },
  {
   "cell_type": "code",
   "execution_count": 12,
   "id": "686602ac-ec41-4ec0-9942-ea70163686fb",
   "metadata": {},
   "outputs": [
    {
     "name": "stdout",
     "output_type": "stream",
     "text": [
      "ram\n",
      "Ram\n"
     ]
    }
   ],
   "source": [
    "name_my = \"ram\"\n",
    "Name_my = \"Ram\"\n",
    "print(name_my)\n",
    "print(Name_my)"
   ]
  },
  {
   "cell_type": "code",
   "execution_count": 13,
   "id": "c70925c6-bc64-4c34-9398-b0c39b073709",
   "metadata": {},
   "outputs": [
    {
     "name": "stdout",
     "output_type": "stream",
     "text": [
      "1 2 3\n"
     ]
    }
   ],
   "source": [
    "a = 1\n",
    "b = 2\n",
    "c = 3\n",
    "print(a, b, c)"
   ]
  },
  {
   "cell_type": "code",
   "execution_count": 24,
   "id": "2e0ff8c7-2a0f-43f2-b7aa-5a40e0bcaf68",
   "metadata": {},
   "outputs": [
    {
     "name": "stdout",
     "output_type": "stream",
     "text": [
      "1 2 3\n"
     ]
    }
   ],
   "source": [
    "a =1; b = 2; c=3;print(a, b, c )"
   ]
  },
  {
   "cell_type": "code",
   "execution_count": 26,
   "id": "71d8e402-43cd-469b-8eaa-be92eadd30fd",
   "metadata": {},
   "outputs": [
    {
     "name": "stdout",
     "output_type": "stream",
     "text": [
      "3 3 3 3\n"
     ]
    }
   ],
   "source": [
    "a = b = c = d = 3\n",
    "print(a, b, c, d)"
   ]
  },
  {
   "cell_type": "code",
   "execution_count": 30,
   "id": "4756b1a0-907f-4d29-8169-2c400192c84c",
   "metadata": {},
   "outputs": [
    {
     "name": "stdout",
     "output_type": "stream",
     "text": [
      "acceptable\n"
     ]
    }
   ],
   "source": [
    "age = 18\n",
    "if age < 16:\n",
    "    print(\"unacceptable\")\n",
    "else:\n",
    "    print(\"acceptable\")"
   ]
  },
  {
   "cell_type": "code",
   "execution_count": 34,
   "id": "5954fefc-2986-4701-b04b-aa6b6fc2d1f8",
   "metadata": {},
   "outputs": [
    {
     "name": "stdout",
     "output_type": "stream",
     "text": [
      "do not\n"
     ]
    }
   ],
   "source": [
    "x = 10\n",
    "if x <= 9:\n",
    "    print(\"allow\")\n",
    "else:\n",
    "    print(\"do not\")\n"
   ]
  },
  {
   "cell_type": "code",
   "execution_count": 56,
   "id": "f280524e-a56c-4f42-acf6-9351df95c190",
   "metadata": {},
   "outputs": [],
   "source": [
    "def square(num1, num2):\n",
    "    return num1 **2, num2 **2"
   ]
  },
  {
   "cell_type": "code",
   "execution_count": 57,
   "id": "a905f9e7-cfc3-4c10-94d0-eb202bb3df0f",
   "metadata": {},
   "outputs": [
    {
     "data": {
      "text/plain": [
       "(25, 4)"
      ]
     },
     "execution_count": 57,
     "metadata": {},
     "output_type": "execute_result"
    }
   ],
   "source": [
    "square(5,2)"
   ]
  },
  {
   "cell_type": "code",
   "execution_count": null,
   "id": "f2207f9f-bab8-4430-b1be-39df9bdb5a8c",
   "metadata": {},
   "outputs": [],
   "source": []
  }
 ],
 "metadata": {
  "kernelspec": {
   "display_name": "Python 3 (ipykernel)",
   "language": "python",
   "name": "python3"
  },
  "language_info": {
   "codemirror_mode": {
    "name": "ipython",
    "version": 3
   },
   "file_extension": ".py",
   "mimetype": "text/x-python",
   "name": "python",
   "nbconvert_exporter": "python",
   "pygments_lexer": "ipython3",
   "version": "3.11.4"
  }
 },
 "nbformat": 4,
 "nbformat_minor": 5
}
