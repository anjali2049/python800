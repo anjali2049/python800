{
 "cells": [
  {
   "cell_type": "code",
   "execution_count": 1,
   "id": "78944201-f02f-40fc-a1db-adb7b87791c6",
   "metadata": {},
   "outputs": [],
   "source": [
    "class P :\n",
    "    def paisa_chaiyo(self):\n",
    "        print(\"Ma sanga chhaina tei vayera parent ko goji bata aauxa\")\n",
    "\n",
    "class C(P):\n",
    "    def __init__(self):\n",
    "        super().__init__()"
   ]
  },
  {
   "cell_type": "code",
   "execution_count": 2,
   "id": "e34e4708-2fdd-4ee6-b345-d5745135a008",
   "metadata": {},
   "outputs": [],
   "source": [
    "ma = C()"
   ]
  },
  {
   "cell_type": "code",
   "execution_count": 3,
   "id": "35764537-a81c-4fa7-87c5-2be698b36f49",
   "metadata": {},
   "outputs": [
    {
     "name": "stdout",
     "output_type": "stream",
     "text": [
      "Ma sanga chhaina tei vayera parent ko goji bata aauxa\n"
     ]
    }
   ],
   "source": [
    "ma.paisa_chaiyo()"
   ]
  },
  {
   "cell_type": "code",
   "execution_count": 4,
   "id": "46f642ee-475f-44ad-aa5a-95e0d896e579",
   "metadata": {},
   "outputs": [],
   "source": [
    "class P :\n",
    "    def paisa_chaiyo(self):\n",
    "        print(\"Ma sanga chhaina tei vayera parent ko goji bata aauxa\")\n",
    "\n",
    "class C(P):\n",
    "    def __init__(self):\n",
    "        super().__init__()\n",
    "    def paisa_chaiyo(self):\n",
    "        print(\"Ma sanga paisa xa ma parent sanga magdaina\")"
   ]
  },
  {
   "cell_type": "code",
   "execution_count": 5,
   "id": "c77967cf-1654-4090-927a-07c28a902bd7",
   "metadata": {},
   "outputs": [],
   "source": [
    "ma = C()"
   ]
  },
  {
   "cell_type": "code",
   "execution_count": 7,
   "id": "cc3cc2bd-2154-47a7-a545-f6da349a53d4",
   "metadata": {},
   "outputs": [
    {
     "name": "stdout",
     "output_type": "stream",
     "text": [
      "Ma sanga paisa xa ma parent sanga magdaina\n"
     ]
    }
   ],
   "source": [
    "ma.paisa_chaiyo()"
   ]
  },
  {
   "cell_type": "code",
   "execution_count": 8,
   "id": "4545879c-f388-4466-aa37-7544d109f1a7",
   "metadata": {},
   "outputs": [],
   "source": [
    "# operators"
   ]
  },
  {
   "cell_type": "code",
   "execution_count": 9,
   "id": "9e67cbb3-6784-4df5-9b36-d262df8be1f0",
   "metadata": {},
   "outputs": [
    {
     "data": {
      "text/plain": [
       "5"
      ]
     },
     "execution_count": 9,
     "metadata": {},
     "output_type": "execute_result"
    }
   ],
   "source": [
    "2+3"
   ]
  },
  {
   "cell_type": "code",
   "execution_count": 10,
   "id": "c52c7cc0-a217-49bb-8d95-9ed64edde913",
   "metadata": {},
   "outputs": [
    {
     "data": {
      "text/plain": [
       "'radheradhe'"
      ]
     },
     "execution_count": 10,
     "metadata": {},
     "output_type": "execute_result"
    }
   ],
   "source": [
    "\"radhe\" + \"radhe\""
   ]
  },
  {
   "cell_type": "code",
   "execution_count": 11,
   "id": "b0633451-b9e2-44c5-b5db-2afbd4ca99a4",
   "metadata": {},
   "outputs": [
    {
     "data": {
      "text/plain": [
       "[66, 1, 2, 3, 6, 5, 8]"
      ]
     },
     "execution_count": 11,
     "metadata": {},
     "output_type": "execute_result"
    }
   ],
   "source": [
    "[66,1,2,] + [3,6,5,8]"
   ]
  },
  {
   "cell_type": "code",
   "execution_count": 12,
   "id": "26293be9-d8b7-47b3-9ff8-912359368a2b",
   "metadata": {},
   "outputs": [],
   "source": [
    "class Point:\n",
    "    def __init__(self, point):\n",
    "        self.point = point"
   ]
  },
  {
   "cell_type": "code",
   "execution_count": 13,
   "id": "98977d1a-3020-46e5-bf44-caafd12686ef",
   "metadata": {},
   "outputs": [],
   "source": [
    "p1 = Point(point=2)\n",
    "p2 = Point(point=9)"
   ]
  },
  {
   "cell_type": "code",
   "execution_count": 14,
   "id": "5ae62fdb-20b4-4e2f-b80a-c4a17d29c700",
   "metadata": {},
   "outputs": [
    {
     "ename": "TypeError",
     "evalue": "unsupported operand type(s) for +: 'Point' and 'Point'",
     "output_type": "error",
     "traceback": [
      "\u001b[1;31m---------------------------------------------------------------------------\u001b[0m",
      "\u001b[1;31mTypeError\u001b[0m                                 Traceback (most recent call last)",
      "Cell \u001b[1;32mIn[14], line 1\u001b[0m\n\u001b[1;32m----> 1\u001b[0m \u001b[43mp1\u001b[49m\u001b[43m \u001b[49m\u001b[38;5;241;43m+\u001b[39;49m\u001b[43m \u001b[49m\u001b[43mp2\u001b[49m\n",
      "\u001b[1;31mTypeError\u001b[0m: unsupported operand type(s) for +: 'Point' and 'Point'"
     ]
    }
   ],
   "source": [
    "p1 + p2"
   ]
  },
  {
   "cell_type": "code",
   "execution_count": 29,
   "id": "f8efcfb3-94e6-4e4c-be50-ac87e2d112fe",
   "metadata": {},
   "outputs": [],
   "source": [
    "# function over riding, we need dunders for operator over loading"
   ]
  },
  {
   "cell_type": "markdown",
   "id": "58ccbc6a-c742-403c-80d6-2f604eb3bf60",
   "metadata": {},
   "source": [
    "#Dunder or magic methods in Python are the methods having two prefix and suffix underscores in the method name. Dunder here means “Double Under (Underscores)”. These are commonly used for operator overloading. Few examples for magic methods are: \\__init__, \\__add__, \\__len__, \\__repr__ etc."
   ]
  },
  {
   "cell_type": "code",
   "execution_count": 30,
   "id": "d4654070-0e5b-40e8-94f4-da9294506088",
   "metadata": {},
   "outputs": [],
   "source": [
    "class Point:\n",
    "    def __init__(self, point):\n",
    "        self.point = point\n",
    "\n",
    "    def __add__(p1, p2):\n",
    "        return p1.point + p2.point\n",
    "\n",
    "    def __eq__(p1, p2):\n",
    "        return p1.point == p2.point\n",
    "\n",
    "    def __lt__ (p1, p2):\n",
    "        return p1.point < p2.point\n",
    "\n",
    "    def __gt__(p1, p2):\n",
    "        return p1.point > p2.point #these all are dunders and exaples of operator over loading\n",
    "        "
   ]
  },
  {
   "cell_type": "code",
   "execution_count": 23,
   "id": "78cd54e4-63df-4c33-a047-076376ac827a",
   "metadata": {},
   "outputs": [],
   "source": [
    "p1 = Point(point=2)\n",
    "p2 = Point(point=9)"
   ]
  },
  {
   "cell_type": "code",
   "execution_count": 24,
   "id": "84ac86dd-49de-45de-92c0-8d6344b6f8c3",
   "metadata": {},
   "outputs": [
    {
     "data": {
      "text/plain": [
       "11"
      ]
     },
     "execution_count": 24,
     "metadata": {},
     "output_type": "execute_result"
    }
   ],
   "source": [
    "p1 + p2"
   ]
  },
  {
   "cell_type": "code",
   "execution_count": 25,
   "id": "442a4376-fff6-4ac5-aa91-016a0110918e",
   "metadata": {},
   "outputs": [
    {
     "data": {
      "text/plain": [
       "False"
      ]
     },
     "execution_count": 25,
     "metadata": {},
     "output_type": "execute_result"
    }
   ],
   "source": [
    "p1 == p2"
   ]
  },
  {
   "cell_type": "code",
   "execution_count": 26,
   "id": "6b35f963-cfae-4476-926e-67acff7522cd",
   "metadata": {},
   "outputs": [
    {
     "data": {
      "text/plain": [
       "False"
      ]
     },
     "execution_count": 26,
     "metadata": {},
     "output_type": "execute_result"
    }
   ],
   "source": [
    "p1 > p2"
   ]
  },
  {
   "cell_type": "code",
   "execution_count": 27,
   "id": "e3be4f2e-ca3e-4408-8de8-7ea795717903",
   "metadata": {},
   "outputs": [
    {
     "data": {
      "text/plain": [
       "True"
      ]
     },
     "execution_count": 27,
     "metadata": {},
     "output_type": "execute_result"
    }
   ],
   "source": [
    "p1 < p2"
   ]
  },
  {
   "cell_type": "code",
   "execution_count": 28,
   "id": "503f7dfa-2dce-4468-ae32-996897fd02d7",
   "metadata": {},
   "outputs": [],
   "source": [
    "# above are examples of operator over loading"
   ]
  },
  {
   "cell_type": "code",
   "execution_count": null,
   "id": "a619f817-ecd9-4ad5-8867-4fdd4cea8f4e",
   "metadata": {},
   "outputs": [],
   "source": []
  }
 ],
 "metadata": {
  "kernelspec": {
   "display_name": "Python 3 (ipykernel)",
   "language": "python",
   "name": "python3"
  },
  "language_info": {
   "codemirror_mode": {
    "name": "ipython",
    "version": 3
   },
   "file_extension": ".py",
   "mimetype": "text/x-python",
   "name": "python",
   "nbconvert_exporter": "python",
   "pygments_lexer": "ipython3",
   "version": "3.11.4"
  }
 },
 "nbformat": 4,
 "nbformat_minor": 5
}
