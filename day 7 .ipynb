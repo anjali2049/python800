{
 "cells": [
  {
   "cell_type": "code",
   "execution_count": null,
   "id": "2e478fd9-cf17-4d60-8387-282b19e2d7a2",
   "metadata": {},
   "outputs": [],
   "source": [
    "username = input(\"Enter the username : \")\n",
    "password = input(\" Enter the password : \")\n",
    "\n",
    "\n",
    "if username == 'admin' and password == 'admin123' :\n",
    "    print(\"successfully logged in\")  \n",
    "else : \n",
    "    role = input(\"Enter the role : \")\n",
    "    if role == 'superadmin': \n",
    "        print(\"successfully logged in :\")\n",
    "    else :\n",
    "        print('log in failed') #nested else if"
   ]
  },
  {
   "cell_type": "code",
   "execution_count": 1,
   "id": "28402304-45f1-40ea-b73e-caac97d4955a",
   "metadata": {},
   "outputs": [
    {
     "name": "stdin",
     "output_type": "stream",
     "text": [
      "Enter the username :  anfj\n",
      " Enter the password :  anfjd\n",
      " Do you want to access through your role ? Type y or yes to continue:  \n"
     ]
    },
    {
     "name": "stdout",
     "output_type": "stream",
     "text": [
      "log in failed....\n"
     ]
    }
   ],
   "source": [
    "username = input(\"Enter the username : \")\n",
    "password = input(\" Enter the password : \")\n",
    "\n",
    "if username == ('admin' and password == 'admin123') :\n",
    "    print(\"successfully logged in\")  \n",
    "else : \n",
    "    confirm = input( \" Do you want to access through your role ? Type y or yes to continue: \")\n",
    "    if confirm.lower() in [\"y\", \"yes\"]: #.lower() garda list ma vayeko words capital, small ma type huda pani manxa\n",
    "        role = input(\"Enter the role : \")\n",
    "        if role == 'superadmin': \n",
    "            print(\"successfully logged in \")\n",
    "        else : print(\"log in failed\")    \n",
    "            \n",
    "   else :\n",
    "        print('log in failed....')\n",
    "\n",
    "#nested if else"
   ]
  },
  {
   "cell_type": "code",
   "execution_count": 1,
   "id": "3c71113f-14d7-4f06-b4e7-5d6f18325835",
   "metadata": {},
   "outputs": [
    {
     "name": "stdin",
     "output_type": "stream",
     "text": [
      "Enter marks of Social  :  90\n",
      "Enter marks of Math  :  100\n",
      "Enter marks of Science  :  88\n",
      "Enter marks of English  :  98\n",
      "Enter marks of Nepali  :  48\n",
      "Enter marks of Math_2  :  35\n",
      "Enter marks of GK  :  98\n",
      "Enter marks of Computer_Science  :  99\n"
     ]
    },
    {
     "name": "stdout",
     "output_type": "stream",
     "text": [
      "82.0\n",
      "distinction\n"
     ]
    }
   ],
   "source": [
    "marks_Social = float(input(\"Enter marks of Social  : \"))\n",
    "marks_Math = float(input(\"Enter marks of Math  : \"))\n",
    "marks_Science = float(input(\"Enter marks of Science  : \"))\n",
    "marks_English = float(input(\"Enter marks of English  : \"))\n",
    "marks_Nepali = float(input(\"Enter marks of Nepali  : \"))\n",
    "marks_Math_2 = float(input(\"Enter marks of Math_2  : \"))\n",
    "marks_GK = float(input(\"Enter marks of GK  : \"))\n",
    "marks_Computer_Science = float(input(\"Enter marks of Computer_Science  : \"))\n",
    "\n",
    "total_marks = marks_Social + marks_Math + marks_Science + marks_English + marks_Nepali + marks_Math_2 + marks_GK + marks_Computer_Science\n",
    "percentage_achieved = (total_marks/800) * 100\n",
    "print(percentage_achieved)\n",
    "\n",
    "\n",
    "if percentage_achieved  >= 80 :\n",
    "    print(\"distinction\")\n",
    "elif percentage_achieved  >= 60 :\n",
    "    print(\"first division\")  \n",
    "elif percentage_achieved  >= 50 :\n",
    "    print(\"second division\")\n",
    "elif percentage_achieved  >= 35 :\n",
    "    print(\"third division\")\n",
    "else:\n",
    "    print(\"fail\")\n"
   ]
  },
  {
   "cell_type": "code",
   "execution_count": 6,
   "id": "57e91184-2083-4588-b740-90a858251424",
   "metadata": {},
   "outputs": [
    {
     "name": "stdout",
     "output_type": "stream",
     "text": [
      "2 3\n"
     ]
    }
   ],
   "source": [
    "x = [1, 2, 3, 4, 5]\n",
    "print(x[1], x[2])"
   ]
  },
  {
   "cell_type": "code",
   "execution_count": 7,
   "id": "14bfbd9c-11a6-47f3-a695-445904c843a5",
   "metadata": {},
   "outputs": [
    {
     "name": "stdout",
     "output_type": "stream",
     "text": [
      "1\n",
      "2\n",
      "3\n",
      "4\n",
      "5\n"
     ]
    }
   ],
   "source": [
    "x = [1, 2, 3, 4, 5] #for loop\n",
    "for i in x:\n",
    "    print(i)"
   ]
  },
  {
   "cell_type": "code",
   "execution_count": 10,
   "id": "d172aa70-0c0c-4c7f-a901-2f25d9dab933",
   "metadata": {},
   "outputs": [
    {
     "name": "stdout",
     "output_type": "stream",
     "text": [
      "15\n"
     ]
    }
   ],
   "source": [
    "x = [1, 2, 3, 4, 5] # sum in loop\n",
    "sum = 0\n",
    "\n",
    "for i in x :\n",
    "    sum = sum + i\n",
    "print(sum)"
   ]
  },
  {
   "cell_type": "code",
   "execution_count": 13,
   "id": "b81a2404-c59f-4a96-8219-9e29cafbae4b",
   "metadata": {},
   "outputs": [
    {
     "name": "stdout",
     "output_type": "stream",
     "text": [
      "15\n"
     ]
    }
   ],
   "source": [
    "x = [1, 2, 3, 4, 5] # sum in loop\n",
    "sum = 0\n",
    "\n",
    "for i in x :\n",
    "    sum += i\n",
    "print(sum)"
   ]
  },
  {
   "cell_type": "code",
   "execution_count": 12,
   "id": "f1aae11c-602e-4e8e-9833-ed644c8bb7ef",
   "metadata": {},
   "outputs": [
    {
     "name": "stdout",
     "output_type": "stream",
     "text": [
      "120\n"
     ]
    }
   ],
   "source": [
    "x = [1, 2, 3, 4, 5] # mul in loop\n",
    "multiplication = 1\n",
    "\n",
    "for i in x :\n",
    "    multiplication = multiplication * i\n",
    "print(multiplication)"
   ]
  },
  {
   "cell_type": "code",
   "execution_count": 15,
   "id": "2302b2eb-5f8c-42d7-b768-5c32202db734",
   "metadata": {},
   "outputs": [
    {
     "name": "stdout",
     "output_type": "stream",
     "text": [
      "120\n"
     ]
    }
   ],
   "source": [
    "x = [1, 2, 3, 4, 5] # multiply in loop\n",
    "mul = 1\n",
    "\n",
    "for i in x :\n",
    "    mul *= i\n",
    "print(mul)"
   ]
  },
  {
   "cell_type": "code",
   "execution_count": 18,
   "id": "cf8b9fcd-def8-4591-8029-9d16e1ae299b",
   "metadata": {},
   "outputs": [
    {
     "name": "stdout",
     "output_type": "stream",
     "text": [
      "1\n",
      "4\n",
      "9\n",
      "16\n",
      "25\n"
     ]
    }
   ],
   "source": [
    "x = [1, 2, 3, 4, 5] # power value  in loop\n",
    "\n",
    "for i in x :\n",
    "    print(i ** 2)"
   ]
  },
  {
   "cell_type": "code",
   "execution_count": 21,
   "id": "d60a706c-801c-4ce7-9343-ae8686a771ed",
   "metadata": {},
   "outputs": [
    {
     "name": "stdout",
     "output_type": "stream",
     "text": [
      "[1, 4, 9, 16, 25]\n"
     ]
    }
   ],
   "source": [
    "x = [1, 2, 3, 4, 5] # sum in loop\n",
    "\n",
    "output = [] #to print values in list, suru ma empty list create garne output vanera\n",
    "#\n",
    "\n",
    "for i in x :\n",
    "    output.append(i**2)\n",
    "print(output)"
   ]
  },
  {
   "cell_type": "code",
   "execution_count": 22,
   "id": "976415ba-c582-4971-8cd9-90401632e0d3",
   "metadata": {},
   "outputs": [
    {
     "name": "stdout",
     "output_type": "stream",
     "text": [
      "['odd', 'even', 'odd', 'even', 'odd']\n"
     ]
    }
   ],
   "source": [
    "x = [1, 2, 3, 4, 5] # to print the numbers are odd or even\n",
    "\n",
    "output = []\n",
    "\n",
    "for i in x:\n",
    "    if i % 2== 0 :\n",
    "        output.append(\"even\") #((\"even, i\")) to print even and number also\n",
    "    else:\n",
    "        output.append(\"odd\") #((\"odd, i\"))\n",
    "print(output)\n"
   ]
  },
  {
   "cell_type": "code",
   "execution_count": 2,
   "id": "4ed91c2d-1615-4458-8e5e-f80eb9647298",
   "metadata": {},
   "outputs": [
    {
     "name": "stdin",
     "output_type": "stream",
     "text": [
      "Enter your age :  32\n"
     ]
    },
    {
     "name": "stdout",
     "output_type": "stream",
     "text": [
      "You are matured\n"
     ]
    }
   ],
   "source": [
    "age = int(input(\"Enter your age : \"))\n",
    "\n",
    "if 1 < age <= 13 :\n",
    "    print(\"You are a teenager\")\n",
    "elif 13 < age <= 18: \n",
    "    print(\"You are young\")\n",
    "elif 18 < age <= 25 :\n",
    "    print( \" You are an adult\")\n",
    "elif 25 < age <= 45 :\n",
    "    print(\"You are matured\")\n",
    "else :\n",
    "    print(\" You are old enough!\")"
   ]
  },
  {
   "cell_type": "code",
   "execution_count": 7,
   "id": "5d1c8c13-b6a9-4f12-a5c3-dce56e2df185",
   "metadata": {},
   "outputs": [
    {
     "name": "stdout",
     "output_type": "stream",
     "text": [
      "[1, 2, 3, 6, 7, 11, 19, 8, 9, 10, 12, 24]\n"
     ]
    }
   ],
   "source": [
    "x = [1,2,3,1,6,2,7,11,19,3,8,9,3,9,10,11,12,24,1,2,3,8]\n",
    "\n",
    "unique_items = [] #duplicate values lai hatayera unique values matra print garna ko lagi in loop\n",
    "\n",
    "for i in x :\n",
    "    if i not in unique_items :\n",
    "        unique_items.append(i)\n",
    "\n",
    "print(unique_items)"
   ]
  },
  {
   "cell_type": "code",
   "execution_count": 13,
   "id": "d4873292-b8c1-42d9-8f4b-d237ed692a90",
   "metadata": {},
   "outputs": [
    {
     "name": "stdout",
     "output_type": "stream",
     "text": [
      "aeaa\n"
     ]
    }
   ],
   "source": [
    "name = 'ramesh pradhan'\n",
    "\n",
    "vowels = ''\n",
    "for i in name : # string bata vowels nikalna\n",
    "    if i.lower() in ['a', 'e', 'i', 'o', 'u'] :\n",
    "        vowels += i\n",
    "        \n",
    "print(vowels)"
   ]
  },
  {
   "cell_type": "code",
   "execution_count": 14,
   "id": "eb2ad3a3-38cf-4503-9e6e-b75c0c5b7662",
   "metadata": {},
   "outputs": [
    {
     "name": "stdout",
     "output_type": "stream",
     "text": [
      "aeaa\n"
     ]
    }
   ],
   "source": [
    "name = 'ramesh pradhan'\n",
    "\n",
    "vowels = ''\n",
    "for i in name : # string bata vowels nikalna\n",
    "    if i.lower() in 'aeiou' :\n",
    "        vowels += i\n",
    "        \n",
    "print(vowels)"
   ]
  },
  {
   "cell_type": "code",
   "execution_count": 21,
   "id": "a7b60c6e-5d36-4e9f-bfe5-7fae6fef01f5",
   "metadata": {},
   "outputs": [
    {
     "name": "stdout",
     "output_type": "stream",
     "text": [
      "4\n"
     ]
    }
   ],
   "source": [
    "name = 'ramesh pradhan' # string bata vowels count nikalna\n",
    "\n",
    "vowels = 0 #malai value int ma chiayeko ho so vowels 0 rakhne\n",
    "for i in name : \n",
    "    if i.lower() in ['a', 'e', 'i', 'o', 'u'] : \n",
    "        vowels += 1\n",
    "        \n",
    "print(vowels)"
   ]
  },
  {
   "cell_type": "code",
   "execution_count": 22,
   "id": "31ca822e-f4fc-4692-8709-cfab742e801a",
   "metadata": {},
   "outputs": [
    {
     "name": "stdout",
     "output_type": "stream",
     "text": [
      "dict_values([99, 55, 77])\n"
     ]
    }
   ],
   "source": [
    "marks = {'Alan' : 99, 'Bill' : 55, 'Cory' : 77} \n",
    "print(marks.values())"
   ]
  },
  {
   "cell_type": "code",
   "execution_count": 23,
   "id": "dff22f7b-a6c8-43e9-a8bb-87683abba9d5",
   "metadata": {},
   "outputs": [
    {
     "name": "stdout",
     "output_type": "stream",
     "text": [
      "231\n"
     ]
    }
   ],
   "source": [
    "marks = {'Alan' : 99, 'Bill' : 55, 'Cory' : 77}\n",
    "\n",
    "sum = 0\n",
    "\n",
    "for mark in marks.values() :\n",
    "    sum += mark \n",
    "\n",
    "print(sum)"
   ]
  },
  {
   "cell_type": "code",
   "execution_count": 32,
   "id": "534bce66-34f0-436b-b265-8b5edfe3109e",
   "metadata": {},
   "outputs": [
    {
     "name": "stdout",
     "output_type": "stream",
     "text": [
      "['Alan', 'Bill', 'Cory']\n"
     ]
    }
   ],
   "source": [
    "marks = {'Alan' : 99, 'Bill' : 55, 'Cory' : 77}\n",
    "output = []\n",
    "\n",
    "for mark in marks.keys() :\n",
    "    output.append(mark)\n",
    "\n",
    "print(output)"
   ]
  },
  {
   "cell_type": "code",
   "execution_count": 33,
   "id": "d6c0ed36-53da-46a9-a144-8815f5f5005b",
   "metadata": {},
   "outputs": [
    {
     "name": "stdout",
     "output_type": "stream",
     "text": [
      "dict_keys(['Alan', 'Bill', 'Cory'])\n"
     ]
    }
   ],
   "source": [
    "marks = {'Alan' : 99, 'Bill' : 55, 'Cory' : 77}\n",
    "\n",
    "print(marks.keys())"
   ]
  },
  {
   "cell_type": "code",
   "execution_count": 46,
   "id": "0f12cde1-28d0-4330-8cfe-b4d7863f3a3a",
   "metadata": {},
   "outputs": [
    {
     "name": "stdout",
     "output_type": "stream",
     "text": [
      "{'Alan': 4, 'Bil': 3, 'Ramesh': 6, 'Corry': 5, 'Ram': 3, 'Shyam Bahadur': 13, 'Gita': 4}\n"
     ]
    }
   ],
   "source": [
    "students = ['Alan', 'Bil', 'Ramesh', 'Corry', 'Ram', 'Shyam Bahadur', 'Gita']\n",
    "\n",
    "updated_dict = {}\n",
    "\n",
    "for student in students :\n",
    "    updated_dict.update({student:len(student)})\n",
    "\n",
    "print(updated_dict)"
   ]
  },
  {
   "cell_type": "code",
   "execution_count": 62,
   "id": "e0d4f5df-d4fe-40fb-8ced-1d292f3e08b5",
   "metadata": {},
   "outputs": [
    {
     "name": "stdout",
     "output_type": "stream",
     "text": [
      "{'Alan': 0, 'Bil': 1, 'Ramesh': 2, 'Corry': 3, 'Ram': 4, 'Shyam Bahadur': 5, 'Gita': 6}\n"
     ]
    }
   ],
   "source": [
    "students = ['Alan', 'Bil', 'Ramesh', 'Corry', 'Ram', 'Shyam Bahadur', 'Gita']\n",
    "\n",
    "output = {}\n",
    "i = 0\n",
    "for student in students:\n",
    "    output.update({student:i})\n",
    "    i += 1\n",
    "\n",
    "print(output)"
   ]
  },
  {
   "cell_type": "code",
   "execution_count": 63,
   "id": "cc870ba3-c417-46c2-a17e-39250028ccfd",
   "metadata": {},
   "outputs": [
    {
     "data": {
      "text/plain": [
       "range(0, 10)"
      ]
     },
     "execution_count": 63,
     "metadata": {},
     "output_type": "execute_result"
    }
   ],
   "source": [
    "range(0, 10) #it will print the same"
   ]
  },
  {
   "cell_type": "code",
   "execution_count": 65,
   "id": "888ec0b6-b622-44a6-bed3-611e7da1855c",
   "metadata": {},
   "outputs": [
    {
     "data": {
      "text/plain": [
       "[0, 1, 2, 3, 4, 5, 6, 7, 8, 9]"
      ]
     },
     "execution_count": 65,
     "metadata": {},
     "output_type": "execute_result"
    }
   ],
   "source": [
    "list(range(0, 10)) #just like slicing for index"
   ]
  },
  {
   "cell_type": "code",
   "execution_count": 67,
   "id": "99783bea-1027-4b5e-b329-61f7c8ab75bd",
   "metadata": {},
   "outputs": [
    {
     "data": {
      "text/plain": [
       "[0, 2, 4, 6, 8]"
      ]
     },
     "execution_count": 67,
     "metadata": {},
     "output_type": "execute_result"
    }
   ],
   "source": [
    "list(range(0, 10, 2)) #just like slicing for index #start, stop, step"
   ]
  },
  {
   "cell_type": "code",
   "execution_count": 68,
   "id": "5086223a-6960-4b8a-bdc0-9113fa1556aa",
   "metadata": {},
   "outputs": [
    {
     "data": {
      "text/plain": [
       "[10, 9, 8, 7, 6, 5, 4, 3, 2, 1]"
      ]
     },
     "execution_count": 68,
     "metadata": {},
     "output_type": "execute_result"
    }
   ],
   "source": [
    "list(range(10, 0, -1))"
   ]
  },
  {
   "cell_type": "code",
   "execution_count": 69,
   "id": "5d4460d8-2b6f-4be2-b63a-f23d67e213c7",
   "metadata": {},
   "outputs": [
    {
     "data": {
      "text/plain": [
       "[10, 9, 8, 7, 6, 5, 4, 3, 2, 1, 0]"
      ]
     },
     "execution_count": 69,
     "metadata": {},
     "output_type": "execute_result"
    }
   ],
   "source": [
    "list(range(10,-1,-1))"
   ]
  },
  {
   "cell_type": "code",
   "execution_count": 70,
   "id": "653d29ee-27de-43e6-bd27-ccf27b94f807",
   "metadata": {},
   "outputs": [
    {
     "data": {
      "text/plain": [
       "range(0, 10)"
      ]
     },
     "execution_count": 70,
     "metadata": {},
     "output_type": "execute_result"
    }
   ],
   "source": [
    "range(0, 10)"
   ]
  },
  {
   "cell_type": "code",
   "execution_count": 72,
   "id": "af037d9e-e511-4e11-adb4-9d86b0d7f4f0",
   "metadata": {},
   "outputs": [
    {
     "name": "stdout",
     "output_type": "stream",
     "text": [
      "0\n",
      "1\n",
      "2\n",
      "3\n",
      "4\n",
      "5\n",
      "6\n",
      "7\n",
      "8\n",
      "9\n"
     ]
    }
   ],
   "source": [
    "for i in range(0, 10) :\n",
    "    print(i)"
   ]
  },
  {
   "cell_type": "code",
   "execution_count": 76,
   "id": "4df53825-4997-48ef-b413-42d9b5b7ef0c",
   "metadata": {},
   "outputs": [
    {
     "name": "stdout",
     "output_type": "stream",
     "text": [
      "0 => Alan\n",
      "1 => Bil\n",
      "2 => Ramesh\n",
      "3 => Corry\n",
      "4 => Ram\n",
      "5 => Shyam Bahadur\n",
      "6 => Gita\n"
     ]
    }
   ],
   "source": [
    "students = ['Alan', 'Bil', 'Ramesh', 'Corry', 'Ram', 'Shyam Bahadur', 'Gita']\n",
    "\n",
    "index = 0\n",
    "\n",
    "for student in students :\n",
    "    print(f\"{index} => {student}\")\n",
    "    index += 1"
   ]
  },
  {
   "cell_type": "code",
   "execution_count": 78,
   "id": "6705c3f3-45ef-4ed6-a0c3-eb0ff0b71de9",
   "metadata": {},
   "outputs": [
    {
     "name": "stdout",
     "output_type": "stream",
     "text": [
      "0 => Alan\n",
      "1 => Bil\n",
      "2 => Ramesh\n",
      "3 => Corry\n",
      "4 => Ram\n",
      "5 => Shyam Bahadur\n",
      "6 => Gita\n"
     ]
    }
   ],
   "source": [
    "students = ['Alan', 'Bil', 'Ramesh', 'Corry', 'Ram', 'Shyam Bahadur', 'Gita']\n",
    "\n",
    "for i in range(0, len(students)): #range(0, 7) => 0,1,2,....6\n",
    "    print(f\"{i} => {students[i]}\")"
   ]
  },
  {
   "cell_type": "code",
   "execution_count": 3,
   "id": "82ae9685-0fc0-4127-ab5d-1fb61a901b84",
   "metadata": {},
   "outputs": [
    {
     "name": "stdout",
     "output_type": "stream",
     "text": [
      "6 => Gita\n",
      "5 => Shyam Bahadur\n",
      "4 => Ram\n",
      "3 => Corry\n",
      "2 => Ramesh\n",
      "1 => Bil\n",
      "0 => Alan\n"
     ]
    }
   ],
   "source": [
    "students = ['Alan', 'Bil', 'Ramesh', 'Corry', 'Ram', 'Shyam Bahadur', 'Gita']\n",
    "\n",
    "for i in range( len(students)-1, -1, -1): #reverse \n",
    "    print(f\"{i} => {students[i]}\")"
   ]
  },
  {
   "cell_type": "code",
   "execution_count": 8,
   "id": "6a3b59c3-ea9c-46b5-9f32-ddfb817d965d",
   "metadata": {},
   "outputs": [
    {
     "name": "stdout",
     "output_type": "stream",
     "text": [
      "{'milk': 268.40659999999997, 'bread': 343.772, 'butter': 343.772}\n"
     ]
    }
   ],
   "source": [
    "us_price = {'milk' : 2.03, 'bread': 2.6, 'butter':2.6}\n",
    "nep_price= {}\n",
    "\n",
    "for k, v in us_price.items():\n",
    "    nep_price.update({k: v * 132.22})\n",
    "print(nep_price)\n"
   ]
  },
  {
   "cell_type": "code",
   "execution_count": 10,
   "id": "cb93e06a-c6e5-41ce-9481-6dfe0a9938f6",
   "metadata": {},
   "outputs": [
    {
     "name": "stdout",
     "output_type": "stream",
     "text": [
      "{'milk': 268.40659999999997, 'bread': 343.772, 'butter': 343.772}\n"
     ]
    }
   ],
   "source": [
    "us_price = {'milk' : 2.03, 'bread': 2.6, 'butter':2.6}\n",
    "nep_price_tax= {} #with 13 % tax\n",
    "\n",
    "for k, v in us_price.items():\n",
    "    nep_price_tax.update({k: v * 132.22*1.13})\n",
    "print(nep_price)\n"
   ]
  },
  {
   "cell_type": "code",
   "execution_count": 23,
   "id": "0250b911-f4a4-4994-b41a-118157c6f9b7",
   "metadata": {},
   "outputs": [
    {
     "name": "stdout",
     "output_type": "stream",
     "text": [
      "{'milk': 2.03, 'bread': 2.6, 'butter': 2.6, 'meat': 5}\n"
     ]
    }
   ],
   "source": [
    "us_price = {'milk' : 2.03, 'bread': 2.6,\n",
    "            'butter':2.6, 'meat': 5, 'mobile': 500, \n",
    "           'television': 340}\n",
    "below_5= {}\n",
    " #to print below $5\n",
    "for k, v in us_price.items():\n",
    "    if v <= 5:\n",
    "        below_5.update({k: v}) \n",
    "    \n",
    "print(below_5)\n"
   ]
  },
  {
   "cell_type": "code",
   "execution_count": 24,
   "id": "309f0bb5-9d51-4147-9803-c78ecdf23477",
   "metadata": {},
   "outputs": [
    {
     "name": "stdout",
     "output_type": "stream",
     "text": [
      "{'milk': 303.29945799999996, 'bread': 388.46235999999993, 'butter': 388.46235999999993, 'meat': 747.043, 'mobile': 79332.0, 'television': 53945.76}\n"
     ]
    }
   ],
   "source": [
    "us_price = {'milk' : 2.03, 'bread': 2.6,\n",
    "            'butter':2.6, 'meat': 5, 'mobile': 500, \n",
    "           'television': 340}\n",
    "nep_price= {} \n",
    "\n",
    "for k, v in us_price.items():\n",
    "    if v <= 5:\n",
    "        nep_price.update({k: v * 132.22*1.13})\n",
    "    else:\n",
    "        nep_price.update({k:v *132.22 * 1.20})\n",
    "    \n",
    "print(nep_price)"
   ]
  },
  {
   "cell_type": "code",
   "execution_count": 26,
   "id": "427903b0-6c1b-4cee-b261-13db8168babf",
   "metadata": {},
   "outputs": [
    {
     "name": "stdout",
     "output_type": "stream",
     "text": [
      "total nep price : 135105.027178\n",
      "total us price : 852.23\n"
     ]
    }
   ],
   "source": [
    "us_price = {'milk' : 2.03, 'bread': 2.6,\n",
    "            'butter':2.6, 'meat': 5, 'mobile': 500, \n",
    "           'television': 340}\n",
    "total_us_price = 0\n",
    "total_nep_price= 0\n",
    "\n",
    "for k, v in us_price.items():\n",
    "    total_us_price += v\n",
    "    \n",
    "    if v <= 5:\n",
    "        total_nep_price += v *132.22 * 1.13\n",
    "    else:\n",
    "        total_nep_price += v *132.22 * 1.20\n",
    "\n",
    "print(f\"total nep price : {total_nep_price}\")\n",
    "print(f\"total us price : {total_us_price}\")\n",
    "\n"
   ]
  },
  {
   "cell_type": "code",
   "execution_count": 27,
   "id": "7634b0ae-ddd4-4966-9376-6fbe941de93e",
   "metadata": {},
   "outputs": [],
   "source": [
    "#continue, pass, break === in for loop"
   ]
  },
  {
   "cell_type": "code",
   "execution_count": 29,
   "id": "4837e4b6-f40c-4aaf-84f8-d6f7401c6cfe",
   "metadata": {},
   "outputs": [
    {
     "name": "stdout",
     "output_type": "stream",
     "text": [
      "hello\n"
     ]
    }
   ],
   "source": [
    "age = 17\n",
    "\n",
    "if age < 17:\n",
    "    pass #we use pass to write code later, =but if we dont use pass it will generate error\n",
    "\n",
    "print('hello')"
   ]
  },
  {
   "cell_type": "code",
   "execution_count": 30,
   "id": "d76aa813-955e-4d4b-9ae0-e8dba31bf1b7",
   "metadata": {},
   "outputs": [
    {
     "name": "stdout",
     "output_type": "stream",
     "text": [
      "72\n"
     ]
    }
   ],
   "source": [
    "numbers = [1,2,3,4,5,6,7,8,9,10,11,12]\n",
    "sum = 0\n",
    "for number in numbers:\n",
    "    if number == 6:\n",
    "        pass\n",
    "    else:\n",
    "        sum += number\n",
    "\n",
    "print(sum)"
   ]
  },
  {
   "cell_type": "code",
   "execution_count": 37,
   "id": "4e4c0876-50c8-4ac0-abef-7dc5a97b74a8",
   "metadata": {},
   "outputs": [
    {
     "name": "stdout",
     "output_type": "stream",
     "text": [
      "78\n"
     ]
    }
   ],
   "source": [
    "numbers = [1,2,3,4,5,6,7,8,9,10,11,12]\n",
    "sum = 0\n",
    "for number in numbers:\n",
    "    if number == 6:\n",
    "        pass #run all below statements\n",
    "    sum += number #wrong\n",
    "    \n",
    "\n",
    "print(sum)"
   ]
  },
  {
   "cell_type": "code",
   "execution_count": 34,
   "id": "a406907e-6e81-4d1f-8a05-801c6fb92cb3",
   "metadata": {},
   "outputs": [
    {
     "name": "stdout",
     "output_type": "stream",
     "text": [
      "72\n"
     ]
    }
   ],
   "source": [
    "numbers = [1,2,3,4,5,6,7,8,9,10,11,12]\n",
    "sum = 0\n",
    "for number in numbers:\n",
    "    if number != 6:\n",
    "        sum += number     \n",
    "\n",
    "print(sum)"
   ]
  },
  {
   "cell_type": "code",
   "execution_count": 41,
   "id": "6661071d-c5b7-4cec-aa6b-c411f894f171",
   "metadata": {},
   "outputs": [
    {
     "name": "stdout",
     "output_type": "stream",
     "text": [
      "72\n"
     ]
    }
   ],
   "source": [
    "numbers = [1,2,3,4,5,6,7,8,9,10,11,12]\n",
    "sum = 0\n",
    "for number in numbers:\n",
    "    if number == 6:\n",
    "        continue #skip the current iterated item mean looped item => does not run any thing\n",
    "        #below inside for loop\n",
    "    sum += number   \n",
    "    \n",
    "print(sum)"
   ]
  },
  {
   "cell_type": "code",
   "execution_count": 43,
   "id": "1de68ce8-4708-4605-8cef-d321f20d0164",
   "metadata": {},
   "outputs": [
    {
     "name": "stdout",
     "output_type": "stream",
     "text": [
      "15\n"
     ]
    }
   ],
   "source": [
    "numbers = [1,2,3,4,5,6,7,8,9,10,11,12]\n",
    "sum = 0\n",
    "for number in numbers:\n",
    "    if number == 6:\n",
    "        break #terminate from the loop,if it get 6 just sum upto 6\n",
    "    sum += number   \n",
    "    \n",
    "print(sum)"
   ]
  },
  {
   "cell_type": "code",
   "execution_count": 47,
   "id": "baacbd8d-fa01-4afb-9e16-4ee40fd56080",
   "metadata": {},
   "outputs": [
    {
     "name": "stdout",
     "output_type": "stream",
     "text": [
      "15\n"
     ]
    }
   ],
   "source": [
    "numbers = [1,2,3,4,5,6,7,8,9,10,11,12]\n",
    "sum = 0\n",
    "for number in numbers:\n",
    "    if number < 6:\n",
    "        sum += number   #without using break loop\n",
    "    \n",
    "print(sum)"
   ]
  },
  {
   "cell_type": "code",
   "execution_count": 51,
   "id": "cd586ecf-6c0d-4b52-a386-c4855a09d8e4",
   "metadata": {},
   "outputs": [
    {
     "name": "stdout",
     "output_type": "stream",
     "text": [
      "ram eats momo\n",
      "ram eats chowmin\n",
      "ram eats thuhkpa\n",
      "shyam eats momo\n",
      "shyam eats chowmin\n",
      "shyam eats thuhkpa\n",
      "gita eats momo\n",
      "gita eats chowmin\n",
      "gita eats thuhkpa\n",
      "sita eats momo\n",
      "sita eats chowmin\n",
      "sita eats thuhkpa\n"
     ]
    }
   ],
   "source": [
    "names = ['ram', 'shyam', 'gita', 'sita']\n",
    "foods = [ 'momo', 'chowmin', 'thuhkpa']\n",
    "#Double loop or nested loop\n",
    "#you can nest many loop as you want\n",
    "\n",
    "for name in names: #ram\n",
    "    for food in foods: #momo,chowmin, thukpa \n",
    "        print(f\"{name} eats {food}\")\n",
    "        \n"
   ]
  },
  {
   "cell_type": "code",
   "execution_count": 52,
   "id": "19d48ade-d830-414e-9956-c3d7c66902fc",
   "metadata": {},
   "outputs": [
    {
     "name": "stdout",
     "output_type": "stream",
     "text": [
      "ram\n",
      "shyam\n",
      "gita\n",
      "sita\n"
     ]
    }
   ],
   "source": [
    "names = ['ram', 'shyam', 'gita', 'sita']\n",
    "for i in names:\n",
    "    print(i)"
   ]
  },
  {
   "cell_type": "code",
   "execution_count": 53,
   "id": "8fcf3227-c3f8-4e80-a1fc-56a504180f9c",
   "metadata": {},
   "outputs": [
    {
     "name": "stdout",
     "output_type": "stream",
     "text": [
      "ram\n",
      "shyam\n",
      "gita\n",
      "sita\n"
     ]
    }
   ],
   "source": [
    "names = ['ram', 'shyam', 'gita', 'sita'] #while loop\n",
    "\n",
    "index = 0 #value intialize\n",
    "\n",
    "while index < len(names) : #condition (0 index is less than 4 0 < 4, 1< 4....)\n",
    "    print(names[index])\n",
    "    index += 1 #incrementer or decrementer"
   ]
  },
  {
   "cell_type": "code",
   "execution_count": 56,
   "id": "5ff0beed-3727-4a18-89a5-b8706ec6fd3c",
   "metadata": {},
   "outputs": [
    {
     "name": "stdout",
     "output_type": "stream",
     "text": [
      "one 0\n",
      "two 1\n",
      "three 2\n",
      "four 3\n",
      "five 4\n"
     ]
    }
   ],
   "source": [
    "words = ['one', 'two', 'three', 'four', 'five']\n",
    "\n",
    "index = 0\n",
    "while index < len(words) : \n",
    "    print(words[index], index)\n",
    "    index += 1"
   ]
  },
  {
   "cell_type": "code",
   "execution_count": 61,
   "id": "619d7ec9-343d-4776-8609-73676bfd677f",
   "metadata": {},
   "outputs": [
    {
     "name": "stdout",
     "output_type": "stream",
     "text": [
      "78\n"
     ]
    }
   ],
   "source": [
    "numbers= [1,2,3,4,5,6,7,8,9,10,11,12]\n",
    "index = 0\n",
    "sum = 0\n",
    "\n",
    "while index < len(numbers) : \n",
    "    \n",
    "        sum += numbers[index]\n",
    "        index += 1\n",
    "\n",
    "print(sum)"
   ]
  },
  {
   "cell_type": "code",
   "execution_count": null,
   "id": "a1bd579a-18d0-486b-8087-11df506286c5",
   "metadata": {},
   "outputs": [],
   "source": [
    "#use while loop if you do not know how many times you are iterating or using the loop\n",
    "#use while loop for doing infinite iteration"
   ]
  },
  {
   "cell_type": "code",
   "execution_count": 62,
   "id": "063c41a7-2a09-459c-91ff-1e2bf1f6a7d5",
   "metadata": {},
   "outputs": [
    {
     "name": "stdin",
     "output_type": "stream",
     "text": [
      "Enter your age :  17\n",
      "Enter your age :  16\n",
      "Enter your age :  15\n",
      "Enter your age :  14\n",
      "Enter your age :  13\n",
      "Enter your age :  2\n",
      "Enter your age :  18\n"
     ]
    }
   ],
   "source": [
    "age = int(input(\"Enter your age : \"))\n",
    "\n",
    "while age < 18 :\n",
    "    age = int(input(\"Enter your age : \"))\n"
   ]
  },
  {
   "cell_type": "code",
   "execution_count": null,
   "id": "306ece19-c244-4c93-b992-ec4f108592f3",
   "metadata": {},
   "outputs": [],
   "source": []
  }
 ],
 "metadata": {
  "kernelspec": {
   "display_name": "Python 3 (ipykernel)",
   "language": "python",
   "name": "python3"
  },
  "language_info": {
   "codemirror_mode": {
    "name": "ipython",
    "version": 3
   },
   "file_extension": ".py",
   "mimetype": "text/x-python",
   "name": "python",
   "nbconvert_exporter": "python",
   "pygments_lexer": "ipython3",
   "version": "3.11.4"
  }
 },
 "nbformat": 4,
 "nbformat_minor": 5
}
