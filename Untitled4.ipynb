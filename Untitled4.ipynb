{
 "cells": [
  {
   "cell_type": "code",
   "execution_count": null,
   "id": "b3d910b2-1460-4291-a240-94215682f23c",
   "metadata": {},
   "outputs": [],
   "source": [
    "p=1000\n",
    "t=6\n",
    "r=6\n",
    "i=p*t*r/100\n",
    "print(i)"
   ]
  },
  {
   "cell_type": "code",
   "execution_count": null,
   "id": "573edb4d-61bc-4db0-b657-b6ba37786009",
   "metadata": {},
   "outputs": [],
   "source": [
    "p = int(input(\"Enter Principle: \"))# we have change string in to integer and then the system will calculate Simple interest \n",
    "t = int(input(\"Enter time: \"))\n",
    "r = int(input(\"Enter rate: \"))\n",
    "\n",
    "si = p*t*r/100\n",
    "print(si)"
   ]
  },
  {
   "cell_type": "code",
   "execution_count": null,
   "id": "8752a22e-7b56-456a-95d0-a5e8fa27ae55",
   "metadata": {},
   "outputs": [],
   "source": [
    "p =(\"Enter Principle:\" )\n",
    "print(Type(p))"
   ]
  },
  {
   "cell_type": "code",
   "execution_count": null,
   "id": "f391abfc-98c7-4c41-bb24-c2329cdcdff4",
   "metadata": {},
   "outputs": [],
   "source": [
    "x = 1\n",
    "y = 2.5\n",
    "print(type(x)) # to convert data type"
   ]
  },
  {
   "cell_type": "code",
   "execution_count": null,
   "id": "9dad7fc3-f656-4d03-8da6-f99ef81ad875",
   "metadata": {},
   "outputs": [],
   "source": []
  },
  {
   "cell_type": "code",
   "execution_count": null,
   "id": "ec0b91d2-ac8b-46f6-94e9-bb8b4b80ea37",
   "metadata": {},
   "outputs": [],
   "source": [
    "x='100000' #string\n",
    "y = int(x) # type conversion\n",
    "print(type(y))"
   ]
  },
  {
   "cell_type": "code",
   "execution_count": null,
   "id": "39fb07ff-f0e9-47b4-b1ae-56b4e32e58f7",
   "metadata": {},
   "outputs": [],
   "source": [
    "first_name = 'ram'\n",
    "last_name = 'bahadur'\n",
    "\n",
    "#f-string interpolation\n",
    "print(f\"My name is {first_name} {last_name}\") # we add f in the starting to print first name or last name."
   ]
  },
  {
   "cell_type": "code",
   "execution_count": null,
   "id": "5683a8c8-db74-4b44-8862-45de5831911d",
   "metadata": {},
   "outputs": [],
   "source": [
    "first_name = 'ram'\n",
    "last_name = 'bahadur'\n",
    "\n",
    "#f-string interpolation with format\n",
    "print(\"My name is {} {}\".format(first_name, last_name)) # we do not add f but use .format"
   ]
  },
  {
   "cell_type": "code",
   "execution_count": null,
   "id": "4ba32aa2-d0fc-4087-8191-f5ad5aa7afca",
   "metadata": {},
   "outputs": [],
   "source": [
    "first_name = 'ram'\n",
    "last_name = 'bahadur'\n",
    "\n",
    "full_name = first_name + last_name # concatenation\n",
    "print(full_name) # if we add 2 stings it will be concatinated (joined)"
   ]
  },
  {
   "cell_type": "code",
   "execution_count": null,
   "id": "38dc93ea-ff71-4d62-816d-8e52dafd4fbc",
   "metadata": {},
   "outputs": [],
   "source": [
    "print(1,2,3,4,5,2,6, sep=\"#\") #we use sep to put # or many sings instead of space, space is the default while printing"
   ]
  },
  {
   "cell_type": "code",
   "execution_count": null,
   "id": "178e018e-89db-433b-a507-359aad01086e",
   "metadata": {},
   "outputs": [],
   "source": [
    "print(1,2,3,4,5,2,6)"
   ]
  },
  {
   "cell_type": "code",
   "execution_count": null,
   "id": "10e996f0-c526-457a-82ee-db0478bd84c9",
   "metadata": {},
   "outputs": [],
   "source": [
    "help(print) # use this function to get help"
   ]
  },
  {
   "cell_type": "code",
   "execution_count": null,
   "id": "1c0f4c1e-0eda-492c-83e1-96b165c47fd3",
   "metadata": {},
   "outputs": [],
   "source": [
    "print(1,2,3,4,5,6,7)\n",
    "print(1,2,3,4,5,6,7)# pyhton will by default print by sequence but if you want to print 1line or then after 3rd line see below:\n",
    "print(1,2,3,4,5,6,7)\n",
    "print(1,2,3,4,5,6,7)\n",
    "print(1,2,3,4,5,6,7)\n"
   ]
  },
  {
   "cell_type": "code",
   "execution_count": null,
   "id": "5202cbf5-264a-4d0b-be70-5be27e40cf32",
   "metadata": {},
   "outputs": [],
   "source": [
    "print(1,2,3,4,5,6,7, end=\"$\")\n",
    "print(1,2,3,4,5,6,7)\n",
    "print(1,2,3,4,5,6,7)\n",
    "print(1,2,3,4,5,6,7)\n",
    "print(1,2,3,4,5,6,7)\n"
   ]
  },
  {
   "cell_type": "code",
   "execution_count": 35,
   "id": "43710d2b-fc7a-4613-ae1b-586fc063a4f0",
   "metadata": {},
   "outputs": [
    {
     "name": "stdin",
     "output_type": "stream",
     "text": [
      "Enter value of radius:  4\n"
     ]
    },
    {
     "name": "stdout",
     "output_type": "stream",
     "text": [
      "area:  50.26548245743669\n",
      "perimeter:  25.132741228718345\n"
     ]
    }
   ],
   "source": [
    "from math import pi #to import value of pi from math, so we do not need to input value of pi\n",
    "\n",
    "radius = float(input(\"Enter value of radius: \"))\n",
    "\n",
    "area = pi*radius**2\n",
    "perimeter = 2 * pi * radius\n",
    "\n",
    "print(\"area: \", area)\n",
    "print(\"perimeter: \", perimeter)\n"
   ]
  },
  {
   "cell_type": "code",
   "execution_count": 37,
   "id": "309e0b93-021c-4f4e-bcd3-1c7e8ba2e2d3",
   "metadata": {},
   "outputs": [
    {
     "data": {
      "text/plain": [
       "1"
      ]
     },
     "execution_count": 37,
     "metadata": {},
     "output_type": "execute_result"
    }
   ],
   "source": [
    "5 % 2 #modulus operator => remainder, use to find remainder"
   ]
  },
  {
   "cell_type": "code",
   "execution_count": 45,
   "id": "5396f0e3-bd3d-4fe6-a3e0-0e3715b987cc",
   "metadata": {},
   "outputs": [
    {
     "data": {
      "text/plain": [
       "2.5"
      ]
     },
     "execution_count": 45,
     "metadata": {},
     "output_type": "execute_result"
    }
   ],
   "source": [
    "5 / 2 #division"
   ]
  },
  {
   "cell_type": "code",
   "execution_count": 41,
   "id": "5f10b757-6159-462b-a5a7-c641b8308090",
   "metadata": {},
   "outputs": [
    {
     "data": {
      "text/plain": [
       "2"
      ]
     },
     "execution_count": 41,
     "metadata": {},
     "output_type": "execute_result"
    }
   ],
   "source": [
    "5 //2 #to get integer only, if we use this, the remainder will not be shown"
   ]
  },
  {
   "cell_type": "code",
   "execution_count": 44,
   "id": "7f59c88b-76cc-4f56-87eb-c4bfa033638c",
   "metadata": {},
   "outputs": [
    {
     "data": {
      "text/plain": [
       "16"
      ]
     },
     "execution_count": 44,
     "metadata": {},
     "output_type": "execute_result"
    }
   ],
   "source": [
    "2**4 # exponential / power operator 2*2*2*2"
   ]
  },
  {
   "cell_type": "code",
   "execution_count": 46,
   "id": "26c64acc-6312-422f-b80c-d2b17cbfc6f1",
   "metadata": {},
   "outputs": [],
   "source": [
    "x =1\n",
    "y = 2\n",
    "\n",
    "sum = x + y\n",
    "sub = x - y\n",
    "mul = x * y"
   ]
  },
  {
   "cell_type": "markdown",
   "id": "2257183b-e913-4c54-b016-1516e95c15e4",
   "metadata": {},
   "source": [
    "COMPARISION OPERATORS"
   ]
  },
  {
   "cell_type": "code",
   "execution_count": 47,
   "id": "fc13c081-bcff-4d00-b9f3-2456e441d0b6",
   "metadata": {},
   "outputs": [],
   "source": [
    "x = 8\n",
    "y = 2\n",
    "\n"
   ]
  },
  {
   "cell_type": "code",
   "execution_count": null,
   "id": "9aef545b-b056-4845-9cfc-97a20c51e2f4",
   "metadata": {},
   "outputs": [],
   "source": []
  },
  {
   "cell_type": "code",
   "execution_count": 48,
   "id": "855cf0bc-d340-4379-a5da-3fcce17cf84c",
   "metadata": {},
   "outputs": [],
   "source": [
    "#precendence\n",
    "#1.bracket\n",
    "#2. and\n",
    "#3. or"
   ]
  },
  {
   "cell_type": "code",
   "execution_count": 50,
   "id": "e3ed35aa-86e1-48a7-a976-cdaa2f8202ff",
   "metadata": {},
   "outputs": [
    {
     "name": "stdout",
     "output_type": "stream",
     "text": [
      "10\n"
     ]
    }
   ],
   "source": [
    "x = 5\n",
    "x = x + 5 #assignment operator, we can also do x +=5\n",
    "print(x)\n"
   ]
  },
  {
   "cell_type": "code",
   "execution_count": 53,
   "id": "f0fe8eab-941e-4d2f-bb77-d1f5f55d15e5",
   "metadata": {},
   "outputs": [
    {
     "name": "stdout",
     "output_type": "stream",
     "text": [
      "5\n"
     ]
    }
   ],
   "source": [
    "y = 10\n",
    "y -= 5 # this means y= y-5\n",
    "print(y)"
   ]
  },
  {
   "cell_type": "code",
   "execution_count": 54,
   "id": "8688249f-ab7d-433c-9dce-ab2d1e5667e0",
   "metadata": {},
   "outputs": [
    {
     "data": {
      "text/plain": [
       "True"
      ]
     },
     "execution_count": 54,
     "metadata": {},
     "output_type": "execute_result"
    }
   ],
   "source": [
    "x = 6\n",
    "y = 6\n",
    "\n",
    "x==y #to check the value of x and y\n"
   ]
  },
  {
   "cell_type": "code",
   "execution_count": 56,
   "id": "54aa5900-70e9-4e6e-ab21-d2d7c6d76a23",
   "metadata": {},
   "outputs": [
    {
     "data": {
      "text/plain": [
       "140706805900232"
      ]
     },
     "execution_count": 56,
     "metadata": {},
     "output_type": "execute_result"
    }
   ],
   "source": [
    "id(x)"
   ]
  },
  {
   "cell_type": "code",
   "execution_count": 57,
   "id": "ce47165c-23ff-4a6b-97fd-b66843d15c67",
   "metadata": {},
   "outputs": [
    {
     "data": {
      "text/plain": [
       "140706805900232"
      ]
     },
     "execution_count": 57,
     "metadata": {},
     "output_type": "execute_result"
    }
   ],
   "source": [
    "id(y)"
   ]
  },
  {
   "cell_type": "code",
   "execution_count": 59,
   "id": "7c07d681-376d-46d2-9ff9-02577aa711e3",
   "metadata": {},
   "outputs": [],
   "source": [
    "#0-256 python has already assign memory"
   ]
  },
  {
   "cell_type": "code",
   "execution_count": 62,
   "id": "e9d8dbe7-ea11-4647-861f-1ab47fda3de6",
   "metadata": {},
   "outputs": [
    {
     "data": {
      "text/plain": [
       "True"
      ]
     },
     "execution_count": 62,
     "metadata": {},
     "output_type": "execute_result"
    }
   ],
   "source": [
    "1 in (1, 2, 3, 4) # to check the memeber"
   ]
  },
  {
   "cell_type": "code",
   "execution_count": 67,
   "id": "40659f4a-99c6-4605-a6a2-42a57849c6ad",
   "metadata": {},
   "outputs": [
    {
     "data": {
      "text/plain": [
       "True"
      ]
     },
     "execution_count": 67,
     "metadata": {},
     "output_type": "execute_result"
    }
   ],
   "source": [
    "'a' in 'anjali'"
   ]
  },
  {
   "cell_type": "code",
   "execution_count": 68,
   "id": "44b0b4ac-1df0-49e4-8397-c3bcb16bc692",
   "metadata": {},
   "outputs": [
    {
     "data": {
      "text/plain": [
       "True"
      ]
     },
     "execution_count": 68,
     "metadata": {},
     "output_type": "execute_result"
    }
   ],
   "source": [
    "\"p\" not in \"anjali\""
   ]
  },
  {
   "cell_type": "code",
   "execution_count": 70,
   "id": "99106f0b-23f4-4778-8aa6-c35820162087",
   "metadata": {},
   "outputs": [
    {
     "data": {
      "text/plain": [
       "True"
      ]
     },
     "execution_count": 70,
     "metadata": {},
     "output_type": "execute_result"
    }
   ],
   "source": [
    "x = 555 # above than 256 so pyhton has assigned different value\n",
    "y = 555\n",
    "\n",
    "x is not y"
   ]
  },
  {
   "cell_type": "code",
   "execution_count": null,
   "id": "2bc21760-8501-4cf5-8577-f556475a627c",
   "metadata": {},
   "outputs": [],
   "source": []
  }
 ],
 "metadata": {
  "kernelspec": {
   "display_name": "Python 3 (ipykernel)",
   "language": "python",
   "name": "python3"
  },
  "language_info": {
   "codemirror_mode": {
    "name": "ipython",
    "version": 3
   },
   "file_extension": ".py",
   "mimetype": "text/x-python",
   "name": "python",
   "nbconvert_exporter": "python",
   "pygments_lexer": "ipython3",
   "version": "3.11.4"
  }
 },
 "nbformat": 4,
 "nbformat_minor": 5
}
