{
  "cells": [
    {
      "cell_type": "code",
      "execution_count": null,
      "id": "a1da8ea7",
      "metadata": {
        "id": "a1da8ea7",
        "outputId": "8d68a885-ea85-4030-d698-3540408152a8"
      },
      "outputs": [
        {
          "name": "stdout",
          "output_type": "stream",
          "text": [
            "3\n"
          ]
        }
      ],
      "source": [
        "x = 1 # variable => number => integer datatype / datastructure\n",
        "y = 2 # variable => number => integer datatype / datastructure\n",
        "\n",
        "sum = x + y # variable => addition\n",
        "\n",
        "print(sum)"
      ]
    },
    {
      "cell_type": "code",
      "execution_count": null,
      "id": "2a95b7e9",
      "metadata": {
        "id": "2a95b7e9",
        "outputId": "8c4adc25-a978-4727-af94-737645fa527a"
      },
      "outputs": [
        {
          "name": "stdout",
          "output_type": "stream",
          "text": [
            "rameshpradhan\n"
          ]
        }
      ],
      "source": [
        "first_name = \"ramesh\" # string data type\n",
        "last_name = \"pradhan\" # string data type\n",
        "\n",
        "full_name = first_name + last_name # concatenation\n",
        "\n",
        "print(full_name)"
      ]
    },
    {
      "cell_type": "code",
      "execution_count": null,
      "id": "4fd64965",
      "metadata": {
        "id": "4fd64965",
        "outputId": "6ce67a21-9149-4d95-8187-b8c042550815"
      },
      "outputs": [
        {
          "ename": "SyntaxError",
          "evalue": "invalid syntax (3983927147.py, line 1)",
          "output_type": "error",
          "traceback": [
            "\u001b[0;36m  Cell \u001b[0;32mIn[3], line 1\u001b[0;36m\u001b[0m\n\u001b[0;31m    if = '1'\u001b[0m\n\u001b[0m       ^\u001b[0m\n\u001b[0;31mSyntaxError\u001b[0m\u001b[0;31m:\u001b[0m invalid syntax\n"
          ]
        }
      ],
      "source": [
        "if = '1'\n",
        "yield = 2"
      ]
    },
    {
      "cell_type": "code",
      "execution_count": null,
      "id": "43e3acdc",
      "metadata": {
        "id": "43e3acdc",
        "outputId": "3467379b-2ab3-4993-d673-3fecf0d152e4"
      },
      "outputs": [
        {
          "ename": "NameError",
          "evalue": "name 'X' is not defined",
          "output_type": "error",
          "traceback": [
            "\u001b[0;31m---------------------------------------------------------------------------\u001b[0m",
            "\u001b[0;31mNameError\u001b[0m                                 Traceback (most recent call last)",
            "Cell \u001b[0;32mIn[4], line 3\u001b[0m\n\u001b[1;32m      1\u001b[0m x \u001b[38;5;241m=\u001b[39m \u001b[38;5;241m1\u001b[39m\n\u001b[0;32m----> 3\u001b[0m \u001b[38;5;28mprint\u001b[39m(\u001b[43mX\u001b[49m)\n",
            "\u001b[0;31mNameError\u001b[0m: name 'X' is not defined"
          ]
        }
      ],
      "source": [
        "x = 1\n",
        "\n",
        "print(X) # case sensitive"
      ]
    },
    {
      "cell_type": "code",
      "execution_count": null,
      "id": "42398e16",
      "metadata": {
        "id": "42398e16",
        "outputId": "fca26791-9b86-41a0-806b-548f72b531d3"
      },
      "outputs": [
        {
          "ename": "SyntaxError",
          "evalue": "invalid decimal literal (1861348455.py, line 1)",
          "output_type": "error",
          "traceback": [
            "\u001b[0;36m  Cell \u001b[0;32mIn[5], line 1\u001b[0;36m\u001b[0m\n\u001b[0;31m    22x = 'ramesh'\u001b[0m\n\u001b[0m     ^\u001b[0m\n\u001b[0;31mSyntaxError\u001b[0m\u001b[0;31m:\u001b[0m invalid decimal literal\n"
          ]
        }
      ],
      "source": [
        "22x = 'ramesh'"
      ]
    },
    {
      "cell_type": "code",
      "execution_count": null,
      "id": "2605cfb3",
      "metadata": {
        "id": "2605cfb3",
        "outputId": "7f8c5d08-c77e-44df-e9a3-067568e0f5ec"
      },
      "outputs": [
        {
          "ename": "SyntaxError",
          "evalue": "invalid syntax (1564582141.py, line 1)",
          "output_type": "error",
          "traceback": [
            "\u001b[0;36m  Cell \u001b[0;32mIn[6], line 1\u001b[0;36m\u001b[0m\n\u001b[0;31m    first name = \"ramesh\" # string data type\u001b[0m\n\u001b[0m          ^\u001b[0m\n\u001b[0;31mSyntaxError\u001b[0m\u001b[0;31m:\u001b[0m invalid syntax\n"
          ]
        }
      ],
      "source": [
        "first name = \"ramesh\" # string data type\n"
      ]
    },
    {
      "cell_type": "code",
      "execution_count": null,
      "id": "746d4fe0",
      "metadata": {
        "id": "746d4fe0"
      },
      "outputs": [],
      "source": [
        "Ramesh_Pradha12h = 'hello9'"
      ]
    },
    {
      "cell_type": "code",
      "execution_count": null,
      "id": "c0ab8dca",
      "metadata": {
        "id": "c0ab8dca"
      },
      "outputs": [],
      "source": [
        "__Helo_world = 'h'"
      ]
    },
    {
      "cell_type": "code",
      "execution_count": null,
      "id": "2ccb6a77",
      "metadata": {
        "id": "2ccb6a77",
        "outputId": "4b2a9cc1-f0d6-4cd9-90e9-9e40c4085740"
      },
      "outputs": [
        {
          "ename": "SyntaxError",
          "evalue": "invalid syntax (2750018845.py, line 1)",
          "output_type": "error",
          "traceback": [
            "\u001b[0;36m  Cell \u001b[0;32mIn[9], line 1\u001b[0;36m\u001b[0m\n\u001b[0;31m    he!23 = 32\u001b[0m\n\u001b[0m      ^\u001b[0m\n\u001b[0;31mSyntaxError\u001b[0m\u001b[0;31m:\u001b[0m invalid syntax\n"
          ]
        }
      ],
      "source": [
        "he!23 = 32"
      ]
    },
    {
      "cell_type": "code",
      "execution_count": null,
      "id": "af989e77",
      "metadata": {
        "id": "af989e77"
      },
      "outputs": [],
      "source": [
        "HELLO_RODL='32'"
      ]
    },
    {
      "cell_type": "code",
      "execution_count": null,
      "id": "6fc19d2e",
      "metadata": {
        "id": "6fc19d2e"
      },
      "outputs": [],
      "source": [
        "x = 1+3+3+5+8+1+3+3+5+8+1+3+3+5+8+1+\\\n",
        "3+3+5+8+1+3+3+5+8+1+3+3+5+8+1+3+3+5+\\\n",
        "8+1+3+3+5+8+1+3+3+5+8"
      ]
    },
    {
      "cell_type": "code",
      "execution_count": null,
      "id": "5abd1379",
      "metadata": {
        "id": "5abd1379",
        "outputId": "871e1be1-638e-41e4-dd56-119cb019ed29"
      },
      "outputs": [
        {
          "name": "stdout",
          "output_type": "stream",
          "text": [
            "180\n"
          ]
        }
      ],
      "source": [
        "print(x)"
      ]
    },
    {
      "cell_type": "code",
      "execution_count": null,
      "id": "ad8000e4",
      "metadata": {
        "id": "ad8000e4",
        "outputId": "abd923ad-a9d9-4413-f61f-2d5b95222947"
      },
      "outputs": [
        {
          "name": "stdout",
          "output_type": "stream",
          "text": [
            "180\n"
          ]
        }
      ],
      "source": [
        "x = (1+3+3+5+8+1+3+3+5+8+1+3+3+5+8+1+\n",
        "     3+3+5+8+1+3+3+5+8+1+3+3+5+8+1+3+3+5+\n",
        "     8+1+3+3+5+8+1+3+3+5+8)\n",
        "print(x)"
      ]
    },
    {
      "cell_type": "code",
      "execution_count": null,
      "id": "fb879c61",
      "metadata": {
        "id": "fb879c61",
        "outputId": "03135e6c-5f2f-4e80-a3b2-c1ea96956910"
      },
      "outputs": [
        {
          "name": "stdout",
          "output_type": "stream",
          "text": [
            "Unauthorized\n"
          ]
        }
      ],
      "source": [
        "age = 17\n",
        "\n",
        "if age < 18:\n",
        "    print(\"Unauthorized\") # tab => 4 spaces"
      ]
    },
    {
      "cell_type": "code",
      "execution_count": null,
      "id": "d406c093",
      "metadata": {
        "id": "d406c093",
        "outputId": "fcc1444e-848f-4b85-8c92-7d64ee8fa751"
      },
      "outputs": [
        {
          "ename": "IndentationError",
          "evalue": "expected an indented block after 'if' statement on line 3 (1386160923.py, line 4)",
          "output_type": "error",
          "traceback": [
            "\u001b[0;36m  Cell \u001b[0;32mIn[18], line 4\u001b[0;36m\u001b[0m\n\u001b[0;31m    print(\"Unauthorized\") # tab => 4 spaces\u001b[0m\n\u001b[0m    ^\u001b[0m\n\u001b[0;31mIndentationError\u001b[0m\u001b[0;31m:\u001b[0m expected an indented block after 'if' statement on line 3\n"
          ]
        }
      ],
      "source": [
        "age = 17\n",
        "\n",
        "if age < 18:\n",
        "print(\"Unauthorized\") # tab => 4 spaces"
      ]
    },
    {
      "cell_type": "code",
      "execution_count": null,
      "id": "18173056",
      "metadata": {
        "id": "18173056"
      },
      "outputs": [],
      "source": [
        "def hello_world():\n",
        "    \"\"\"This function prints hello world...\"\"\" # docstring => documentation string\n",
        "    # hellow ordl 2132k4h23h4kjesfhakjsdhfkj # => comment\n",
        "    print(\"Hello world\")"
      ]
    },
    {
      "cell_type": "code",
      "execution_count": null,
      "id": "af857f54",
      "metadata": {
        "id": "af857f54",
        "outputId": "4712d8d7-1f83-4d3e-cfdc-db45dad91a2a"
      },
      "outputs": [
        {
          "name": "stdout",
          "output_type": "stream",
          "text": [
            "Hello world\n"
          ]
        }
      ],
      "source": [
        "hello_world()"
      ]
    },
    {
      "cell_type": "code",
      "execution_count": null,
      "id": "cf5b5838",
      "metadata": {
        "id": "cf5b5838",
        "outputId": "155b44b7-6314-4fa0-9b01-890cb7b4844d"
      },
      "outputs": [
        {
          "name": "stdout",
          "output_type": "stream",
          "text": [
            "Help on function hello_world in module __main__:\n",
            "\n",
            "hello_world()\n",
            "    This function prints hello world...\n",
            "\n"
          ]
        }
      ],
      "source": [
        "help(hello_world)"
      ]
    },
    {
      "cell_type": "code",
      "execution_count": null,
      "id": "4207ab8e",
      "metadata": {
        "id": "4207ab8e"
      },
      "outputs": [],
      "source": [
        "x =1\n",
        "y= 2\n",
        "z = 4"
      ]
    },
    {
      "cell_type": "code",
      "execution_count": null,
      "id": "d6a99bee",
      "metadata": {
        "id": "d6a99bee"
      },
      "outputs": [],
      "source": [
        "x, y, z = 1,2,4"
      ]
    },
    {
      "cell_type": "code",
      "execution_count": null,
      "id": "76237add",
      "metadata": {
        "id": "76237add",
        "outputId": "fc781d8e-b9eb-4e27-b5f4-bb611406baf2"
      },
      "outputs": [
        {
          "name": "stdout",
          "output_type": "stream",
          "text": [
            "1 2 4\n"
          ]
        }
      ],
      "source": [
        "print(x,y,z)"
      ]
    },
    {
      "cell_type": "code",
      "execution_count": null,
      "id": "4722efbc",
      "metadata": {
        "id": "4722efbc",
        "outputId": "9d907f65-f1c2-43a6-c8d5-5c8bd774a62e"
      },
      "outputs": [
        {
          "name": "stdout",
          "output_type": "stream",
          "text": [
            "1 2 4\n"
          ]
        }
      ],
      "source": [
        "x =1;y= 2;z = 4\n",
        "print(x,y,z)"
      ]
    },
    {
      "cell_type": "code",
      "execution_count": null,
      "id": "ea3badb9",
      "metadata": {
        "id": "ea3badb9"
      },
      "outputs": [],
      "source": [
        "a=2\n",
        "b=2\n",
        "c=2"
      ]
    },
    {
      "cell_type": "code",
      "execution_count": null,
      "id": "6120d03e",
      "metadata": {
        "id": "6120d03e"
      },
      "outputs": [],
      "source": [
        "a=b=c=2"
      ]
    },
    {
      "cell_type": "code",
      "execution_count": null,
      "id": "17e8ac92",
      "metadata": {
        "id": "17e8ac92"
      },
      "outputs": [],
      "source": [
        "gravity = 9.8 # varaible"
      ]
    },
    {
      "cell_type": "code",
      "execution_count": null,
      "id": "6e512ccf",
      "metadata": {
        "id": "6e512ccf"
      },
      "outputs": [],
      "source": [
        "GRAVITY = 9.8 # constant\n",
        "PI = 3.14 # constant"
      ]
    },
    {
      "cell_type": "code",
      "execution_count": null,
      "id": "8cb84d51",
      "metadata": {
        "id": "8cb84d51"
      },
      "outputs": [],
      "source": [
        "GRAVITY =9.8"
      ]
    },
    {
      "cell_type": "code",
      "execution_count": null,
      "id": "3bcfbb60",
      "metadata": {
        "id": "3bcfbb60",
        "outputId": "86c6b621-187a-4b51-9b0e-e2c721f570a8"
      },
      "outputs": [
        {
          "name": "stdout",
          "output_type": "stream",
          "text": [
            "9.8\n"
          ]
        }
      ],
      "source": [
        "print(GRAVITY)"
      ]
    },
    {
      "cell_type": "code",
      "execution_count": null,
      "id": "97e4286f",
      "metadata": {
        "id": "97e4286f"
      },
      "outputs": [],
      "source": [
        "GRAVITY = 'hello' # dynamically typed language"
      ]
    },
    {
      "cell_type": "code",
      "execution_count": null,
      "id": "10a91bbf",
      "metadata": {
        "id": "10a91bbf",
        "outputId": "858dfd82-6132-4c0e-f27c-85b267ad8bae"
      },
      "outputs": [
        {
          "name": "stdout",
          "output_type": "stream",
          "text": [
            "hello\n"
          ]
        }
      ],
      "source": [
        "print(GRAVITY)"
      ]
    },
    {
      "cell_type": "code",
      "execution_count": null,
      "id": "ae38e873",
      "metadata": {
        "id": "ae38e873"
      },
      "outputs": [],
      "source": [
        "# c , c++, java => compilled / statically typed language\n",
        "float gravity = 9.8 # statically type\n",
        "printf(gravity)"
      ]
    },
    {
      "cell_type": "code",
      "execution_count": null,
      "id": "080df5a5",
      "metadata": {
        "id": "080df5a5",
        "outputId": "2b58af1a-a941-4008-9741-187a6faf1afd"
      },
      "outputs": [
        {
          "name": "stdout",
          "output_type": "stream",
          "text": [
            "9.8\n"
          ]
        }
      ],
      "source": [
        "asdhfkadsasdfadsfd = 9.8\n",
        "print(asdhfkadsasdfadsfd)"
      ]
    },
    {
      "cell_type": "code",
      "execution_count": null,
      "id": "2002a8c4",
      "metadata": {
        "id": "2002a8c4"
      },
      "outputs": [],
      "source": [
        "gravity = 9.8"
      ]
    },
    {
      "cell_type": "code",
      "execution_count": null,
      "id": "4ce697e7",
      "metadata": {
        "id": "4ce697e7"
      },
      "outputs": [],
      "source": [
        "gravity_of_earth = 9.8"
      ]
    },
    {
      "cell_type": "code",
      "execution_count": null,
      "id": "5abc308f",
      "metadata": {
        "id": "5abc308f"
      },
      "outputs": [],
      "source": [
        "g = 9.8"
      ]
    },
    {
      "cell_type": "code",
      "execution_count": null,
      "id": "b182c977",
      "metadata": {
        "id": "b182c977"
      },
      "outputs": [],
      "source": [
        "# variable, function name => lower_case\n",
        "# class name => PascalCase"
      ]
    },
    {
      "cell_type": "code",
      "execution_count": null,
      "id": "6da35bf7",
      "metadata": {
        "id": "6da35bf7",
        "outputId": "f60f7ae0-f109-4c80-83d2-b32f346195d4"
      },
      "outputs": [
        {
          "name": "stdout",
          "output_type": "stream",
          "text": [
            "10.5\n",
            "150.0\n",
            "<class 'float'>\n"
          ]
        }
      ],
      "source": [
        "float_1 = 10.5\n",
        "float_2 = 1.5e2\n",
        "\n",
        "print(float_1)\n",
        "print(float_2)\n",
        "\n",
        "print(type(float_1))"
      ]
    },
    {
      "cell_type": "code",
      "execution_count": null,
      "id": "57be5f71",
      "metadata": {
        "id": "57be5f71",
        "outputId": "2bb22ef8-2841-4619-cf20-afa764603cc7"
      },
      "outputs": [
        {
          "name": "stdout",
          "output_type": "stream",
          "text": [
            "3.14j\n",
            "<class 'complex'>\n"
          ]
        }
      ],
      "source": [
        "x = 3.14j\n",
        "print(x)\n",
        "print(type(x))"
      ]
    },
    {
      "cell_type": "code",
      "execution_count": null,
      "id": "d43b1962",
      "metadata": {
        "id": "d43b1962",
        "outputId": "919e0730-1135-4629-c287-1a3cb16ec7de"
      },
      "outputs": [
        {
          "name": "stdout",
          "output_type": "stream",
          "text": [
            "<class 'int'>\n"
          ]
        }
      ],
      "source": [
        "x = 1\n",
        "print(type(x))"
      ]
    },
    {
      "cell_type": "code",
      "execution_count": null,
      "id": "bf8899c1",
      "metadata": {
        "id": "bf8899c1"
      },
      "outputs": [],
      "source": [
        "# binary => 0, 1 => computer => 2 digits\n",
        "# octal = > 0..7 => 8 digits\n",
        "# hexadecimal => 0..9, a-f => 16 digits\n",
        "# decimal => 0...9 => 10 digits"
      ]
    }
  ],
  "metadata": {
    "kernelspec": {
      "display_name": "Python 3 (ipykernel)",
      "language": "python",
      "name": "python3"
    },
    "language_info": {
      "codemirror_mode": {
        "name": "ipython",
        "version": 3
      },
      "file_extension": ".py",
      "mimetype": "text/x-python",
      "name": "python",
      "nbconvert_exporter": "python",
      "pygments_lexer": "ipython3",
      "version": "3.11.1"
    },
    "colab": {
      "provenance": []
    }
  },
  "nbformat": 4,
  "nbformat_minor": 5
}