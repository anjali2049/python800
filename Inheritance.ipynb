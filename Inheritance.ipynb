{
 "cells": [
  {
   "cell_type": "markdown",
   "id": "0e569aaf-2806-4a72-8ce1-b3bef7bd1ca5",
   "metadata": {},
   "source": [
    "#Multiple Inheritance"
   ]
  },
  {
   "cell_type": "code",
   "execution_count": 11,
   "id": "ae2da5d4-ddcc-4025-8d23-2e0c2374a546",
   "metadata": {},
   "outputs": [],
   "source": [
    "class Father:\n",
    "    def __init__(self, father_name):\n",
    "        self.father_name = father_name\n",
    "\n",
    "class Mother:\n",
    "    def __init__(self,mother_name):\n",
    "        self.mother_name = mother_name\n",
    "\n",
    "class Child(Father, Mother):\n",
    "    def __init__(self, child_name, father_name, mother_name):\n",
    "        self.child_name = child_name\n",
    "        Father.__init__(self, father_name)\n",
    "        Mother.__init__(self, mother_name)\n",
    "    "
   ]
  },
  {
   "cell_type": "code",
   "execution_count": 13,
   "id": "a1908eaf-2069-44c5-a0a9-8ae3ed67cdf3",
   "metadata": {},
   "outputs": [],
   "source": [
    "c1 = Child(child_name='Anjali',father_name ='Ram',mother_name='Sita')"
   ]
  },
  {
   "cell_type": "code",
   "execution_count": 14,
   "id": "e676c2b0-2287-4311-ac00-658b489e9dae",
   "metadata": {},
   "outputs": [
    {
     "data": {
      "text/plain": [
       "'Ram'"
      ]
     },
     "execution_count": 14,
     "metadata": {},
     "output_type": "execute_result"
    }
   ],
   "source": [
    "c1.father_name"
   ]
  },
  {
   "cell_type": "code",
   "execution_count": 15,
   "id": "5203eedc-d1db-4cb8-8e4b-3ab59ff66d2d",
   "metadata": {},
   "outputs": [
    {
     "data": {
      "text/plain": [
       "'Sita'"
      ]
     },
     "execution_count": 15,
     "metadata": {},
     "output_type": "execute_result"
    }
   ],
   "source": [
    "c1.mother_name"
   ]
  },
  {
   "cell_type": "code",
   "execution_count": null,
   "id": "687c831e-7ca9-46cb-9f82-c02eac6c099b",
   "metadata": {},
   "outputs": [],
   "source": []
  },
  {
   "cell_type": "code",
   "execution_count": null,
   "id": "c9b2faa5-3312-488d-ac4a-bfea8e342f83",
   "metadata": {},
   "outputs": [],
   "source": []
  },
  {
   "cell_type": "code",
   "execution_count": null,
   "id": "94a4d815-a018-47b2-93d7-c8210eeba08c",
   "metadata": {},
   "outputs": [],
   "source": []
  },
  {
   "cell_type": "code",
   "execution_count": 16,
   "id": "9ad93625-d83a-44a1-9940-b36949910ca5",
   "metadata": {},
   "outputs": [],
   "source": [
    "class Father:\n",
    "    def __init__(self, father_name):\n",
    "        self.father_name = father_name\n",
    "    def display_father_name(self):\n",
    "        return self.father_name\n",
    "\n",
    "class Mother:\n",
    "    def __init__(self,mother_name):\n",
    "        self.mother_name = mother_name\n",
    "    def display_mother_name(self):\n",
    "        return self.mother_name\n",
    "\n",
    "class Child(Father, Mother):\n",
    "    def __init__(self, child_name, father_name, mother_name):\n",
    "        self.child_name = child_name\n",
    "        Father.__init__(self, father_name)\n",
    "        Mother.__init__(self, mother_name)"
   ]
  },
  {
   "cell_type": "code",
   "execution_count": 17,
   "id": "64dcc38a-8aa5-4678-9b06-26bec7f6af93",
   "metadata": {},
   "outputs": [],
   "source": [
    "c1 = Child(child_name='Anjali',father_name ='Ram',mother_name='Sita')"
   ]
  },
  {
   "cell_type": "code",
   "execution_count": 18,
   "id": "3d05d9b6-a3f4-4993-bbec-6be8d3f60e29",
   "metadata": {},
   "outputs": [
    {
     "data": {
      "text/plain": [
       "'Ram'"
      ]
     },
     "execution_count": 18,
     "metadata": {},
     "output_type": "execute_result"
    }
   ],
   "source": [
    "c1.display_father_name()"
   ]
  },
  {
   "cell_type": "code",
   "execution_count": 19,
   "id": "475a96c7-e58e-4e50-b9f9-422ce823ed7c",
   "metadata": {},
   "outputs": [
    {
     "data": {
      "text/plain": [
       "'Sita'"
      ]
     },
     "execution_count": 19,
     "metadata": {},
     "output_type": "execute_result"
    }
   ],
   "source": [
    "c1.display_mother_name()"
   ]
  },
  {
   "cell_type": "code",
   "execution_count": 20,
   "id": "8d50535b-8a3e-4261-8522-b3696f72f622",
   "metadata": {},
   "outputs": [],
   "source": [
    "# Multi Level"
   ]
  },
  {
   "cell_type": "code",
   "execution_count": 30,
   "id": "98239196-a115-413d-bab7-234304efe35d",
   "metadata": {},
   "outputs": [],
   "source": [
    "class A:\n",
    "    def display_a(self):\n",
    "        print(\"This  method is form class A\")\n",
    "\n",
    "class B(A):\n",
    "    def __init__(self):\n",
    "        A.__init__(self)\n",
    "    def display_b(self):\n",
    "        print(\"This method is from class B\")\n",
    "\n",
    "class C(B):\n",
    "    def __init__(self):\n",
    "        B.__init__(self)\n",
    "    "
   ]
  },
  {
   "cell_type": "code",
   "execution_count": 31,
   "id": "a45e7931-6882-46ad-bf01-557d13cee99e",
   "metadata": {},
   "outputs": [],
   "source": [
    "c1 = C()"
   ]
  },
  {
   "cell_type": "code",
   "execution_count": 32,
   "id": "f751e554-ef64-4005-ba3c-28d7d85fbc77",
   "metadata": {},
   "outputs": [
    {
     "name": "stdout",
     "output_type": "stream",
     "text": [
      "This  method is form class A\n"
     ]
    }
   ],
   "source": [
    "c1.display_a()"
   ]
  },
  {
   "cell_type": "code",
   "execution_count": 33,
   "id": "2c6e68a4-2ce2-4740-85b4-93ec5e90b0a3",
   "metadata": {},
   "outputs": [
    {
     "name": "stdout",
     "output_type": "stream",
     "text": [
      "This method is from class B\n"
     ]
    }
   ],
   "source": [
    "c1.display_b()"
   ]
  },
  {
   "cell_type": "code",
   "execution_count": null,
   "id": "e1540649-544e-4f89-a48c-f2b7972c9003",
   "metadata": {},
   "outputs": [],
   "source": []
  }
 ],
 "metadata": {
  "kernelspec": {
   "display_name": "Python 3 (ipykernel)",
   "language": "python",
   "name": "python3"
  },
  "language_info": {
   "codemirror_mode": {
    "name": "ipython",
    "version": 3
   },
   "file_extension": ".py",
   "mimetype": "text/x-python",
   "name": "python",
   "nbconvert_exporter": "python",
   "pygments_lexer": "ipython3",
   "version": "3.11.4"
  }
 },
 "nbformat": 4,
 "nbformat_minor": 5
}
